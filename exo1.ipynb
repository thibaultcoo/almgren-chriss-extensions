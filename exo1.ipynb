{
 "cells": [
  {
   "cell_type": "markdown",
   "id": "2d0aaf2d",
   "metadata": {
    "id": "2d0aaf2d"
   },
   "source": [
    "# M203 Electronic markets project"
   ]
  },
  {
   "cell_type": "markdown",
   "id": "15a30d81",
   "metadata": {
    "id": "15a30d81"
   },
   "source": [
    "Marchessaux François, Collin Thibault"
   ]
  },
  {
   "cell_type": "markdown",
   "id": "a0d3fce2",
   "metadata": {
    "id": "a0d3fce2"
   },
   "source": [
    "## Exercise 1 - Target Close and TWAP orders"
   ]
  },
  {
   "cell_type": "markdown",
   "id": "2c767f71",
   "metadata": {
    "id": "2c767f71"
   },
   "source": [
    "### Loading libraries and initializing parameters"
   ]
  },
  {
   "cell_type": "code",
   "execution_count": null,
   "id": "e9cf4eb2-bf5d-4e34-b78f-e5f46b445f40",
   "metadata": {
    "id": "e9cf4eb2-bf5d-4e34-b78f-e5f46b445f40"
   },
   "outputs": [],
   "source": [
    "import numpy as np\n",
    "import pandas as pd\n",
    "import matplotlib.pyplot as plt\n",
    "import plotly.express as px"
   ]
  },
  {
   "cell_type": "code",
   "execution_count": null,
   "id": "2cb4299d",
   "metadata": {
    "id": "2cb4299d"
   },
   "outputs": [],
   "source": [
    "# Initialize the fixed parameters for inventory, risk aversion, market impact and volatility\n",
    "x0 = 10e4\n",
    "fixed_lambda = 0.1\n",
    "fixed_eta = 1 * 1e-4\n",
    "sigma = 0.2\n",
    "T = 1\n",
    "\n",
    "# Initialize the varying parameters\n",
    "t_values = np.linspace(0, T, 1000)\n",
    "lambdas = [1e-3, 1e-2 , 1e-1, 1, 3, 8]\n",
    "etas = [1e-6, 1e-5, 1e-4, 1e-3, 1e-2]"
   ]
  },
  {
   "cell_type": "markdown",
   "id": "R5Z4uj_dBnaj",
   "metadata": {
    "id": "R5Z4uj_dBnaj"
   },
   "source": [
    "### Define functions"
   ]
  },
  {
   "cell_type": "code",
   "execution_count": null,
   "id": "q9Y_6GZUFfeq",
   "metadata": {
    "id": "q9Y_6GZUFfeq"
   },
   "outputs": [],
   "source": [
    "def compute_optimal_strategy(order_type, t, x0, sigma, lamb, eta, T):\n",
    "  \"\"\"\n",
    "  Computes optimal deterministic strategy at a given time and for given parameters for different type of orders\n",
    "\n",
    "  order_type: type of the order (IS, TC or TWAP)\n",
    "  t: current time\n",
    "  x0: initial inventory\n",
    "  sigma: underlying spot volatility\n",
    "  lamb: risk aversion parameter\n",
    "  eta: multiplicative factor for temporary market impact\n",
    "  T: end date of the execution process\n",
    "  \"\"\"\n",
    "  result = 0\n",
    "  k = sigma * np.sqrt(lamb / eta)\n",
    "\n",
    "  if order_type == \"IS\":\n",
    "    result = (x0 / np.sinh(k * T)) * np.sinh(k * (T - t))\n",
    "  elif order_type == \"TC\":\n",
    "    result = x0 * (1 - np.sinh(k * t) / np.sinh(k * T))\n",
    "  elif order_type == \"TWAP\":\n",
    "    result = x0 * (1 - t / T)\n",
    "\n",
    "  return result\n",
    "\n",
    "def compute_strategies(order_type, varying_param, varying_values, fixed_value):\n",
    "  \"\"\"\n",
    "  Computes the optimal strategies for varying parameters\n",
    "\n",
    "  order_type: type of the order (IS, TC or TWAP)\n",
    "  varying_param: name of the varying parameter\n",
    "  varying_values: values of the varying parameter\n",
    "  fixed_value: value of the fixed parameter\n",
    "  \"\"\"\n",
    "\n",
    "  df_list = []\n",
    "\n",
    "  # Check which parameter is varying\n",
    "  flag = varying_param == \"lambda\"\n",
    "\n",
    "  # Compute the optimal strategy for each varying parameter\n",
    "  for value in varying_values:\n",
    "      xt = [compute_optimal_strategy(order_type, t, x0, sigma, value if flag else fixed_value, fixed_value if flag else value, T) for t in t_values]\n",
    "      df_list.append(pd.DataFrame({'t': t_values, 'x': xt, varying_param: str(value)}))\n",
    "\n",
    "  return pd.concat(df_list, ignore_index=True)\n",
    "\n",
    "\n",
    "def plot_strategy(df, color, title):\n",
    "  \"\"\"\n",
    "  Display the computed strategies\n",
    "\n",
    "  df: dataframe containing the optimal strategies\n",
    "  color: name of the varying parameter for the legend\n",
    "  title: title of legend\n",
    "  \"\"\"\n",
    "\n",
    "  fig = px.line(df, x='t', y='x', color=color, template='plotly_white',\n",
    "                labels={\"x\": \"Remaining Inventory\", \"t\": \"Time\", color: title})\n",
    "  fig.update_traces(hoverinfo='skip')\n",
    "  fig.update_traces(hovertemplate=None)\n",
    "  fig.update_layout(width=900, height=300)\n",
    "  fig.show()\n",
    "\n",
    "def compute_expectation(order_type, k, sigma, eta, x0, T):\n",
    "  \"\"\"\n",
    "  Computes the expectation of the given order type, given the closed-form solved formula\n",
    "\n",
    "  order_type: type of the order (IS, TC or TWAP)\n",
    "  t: current time\n",
    "  x0: initial inventory\n",
    "  sigma: underlying spot volatility\n",
    "  lamb: risk aversion parameter\n",
    "  eta: multiplicative factor for temporary market impact\n",
    "  T: end date of the execution process\n",
    "  \"\"\"\n",
    "  result = 0\n",
    "\n",
    "  if order_type == \"IS\":\n",
    "    result = -((((k * x0) / (np.sinh(k * T)))**2) * eta) * ((2 * k * T + np.sinh(2 * k * T)) / (4 * k))\n",
    "  elif order_type == \"TC\":\n",
    "    result = -((((k * x0) / (np.sinh(k * T)))**2) * eta) * ((2 * k * T + np.sinh(2 * k * T)) / (4 * k))\n",
    "  elif order_type == \"TWAP\":\n",
    "    result = -(eta * (x0 ** 2) / T)\n",
    "  else:\n",
    "    print(\"Wrong order type\")\n",
    "\n",
    "  return result\n",
    "\n",
    "def compute_variance(order_type, k, sigma, eta, x0, T):\n",
    "  \"\"\"\n",
    "  Computes the variance of the given order type, given the closed-form solved formula\n",
    "\n",
    "  order_type: type of the order (IS, TC or TWAP)\n",
    "  t: current time\n",
    "  x0: initial inventory\n",
    "  sigma: underlying spot volatility\n",
    "  lamb: risk aversion parameter\n",
    "  eta: multiplicative factor for temporary market impact\n",
    "  T: end date of the execution process\n",
    "  \"\"\"\n",
    "  result = 0\n",
    "\n",
    "  if order_type == \"IS\":\n",
    "    result = (((sigma * x0) / (np.sinh(k * T)))**2) * ((np.sinh(2 * k * T) - (2 * k * T)) / (4 * k))\n",
    "  elif order_type == \"TC\":\n",
    "    result = (((sigma * x0) / (np.sinh(k * T)))**2) * ((np.sinh(2 * k * T) - (2 * k * T)) / (4 * k))\n",
    "  elif order_type == \"TWAP\":\n",
    "    result = 0\n",
    "  else:\n",
    "    print(\"Wrong order type\")\n",
    "\n",
    "  return result\n",
    "\n",
    "def display_efficient_frontier(expectation, variance):\n",
    "  # Store and scale the results\n",
    "  df = pd.DataFrame({'E': np.abs(expectation) / 100, 'V': np.abs(variance) / 10000, 'lambda': lbd_values})\n",
    "\n",
    "  # Display the efficient frontier\n",
    "  fig = px.scatter(df, x='V', y='E', color='lambda', template='plotly_white',\n",
    "                  labels={\"V\": \"Variance\", \"E\": \"Abs(Expectation)\", \"lambda\": \"𝛌\"}, color_continuous_scale='Purp')\n",
    "  fig.update_layout(width=900, height=300)\n",
    "  fig.show()\n",
    "\n",
    "def Bellman(order_type, lamb, sigma, eta, nb_stocks, nb_periods):\n",
    "    # Initialize matrices to store rewards and policies for each stock count and period\n",
    "    reward = np.zeros((nb_stocks+1, nb_periods))\n",
    "    policy = np.zeros((nb_stocks+1, nb_periods))\n",
    "\n",
    "    # Iterate through each period in reverse order. This is because the decision at any given time\n",
    "    # depends on the outcomes of future decisions\n",
    "    for period in range(nb_periods-1, -1, -1):\n",
    "        # Iterate through each possible number of stocks\n",
    "        for stock in range(nb_stocks+1):\n",
    "            psi = stock  # Current stock holding\n",
    "            x = nb_stocks - psi  # Calculate the number of stocks not currently held\n",
    "\n",
    "            # Terminal condition: If all stocks are held, no further action is taken\n",
    "            if psi == nb_stocks:\n",
    "                reward[psi, period] = 0\n",
    "                policy[psi, period] = 0\n",
    "\n",
    "            else:\n",
    "                # Terminal period: Set the reward to infinity to highly penalize this situation\n",
    "                if period == nb_periods - 1:\n",
    "                    reward[psi, period] = np.inf\n",
    "                    policy[psi, period] = np.inf\n",
    "                # Penultimate period: Calculate the immediate reward based on holding and not holding stocks\n",
    "                elif period == nb_periods - 2:\n",
    "                    reward[psi, period] = -lamb * (sigma ** 2) * (x ** 2) - eta * (x ** 2) if order_type == \"IS\" else -lamb * (sigma ** 2) * ((-psi) ** 2) - eta * (x ** 2)\n",
    "                    policy[psi, period] = x\n",
    "\n",
    "                else:\n",
    "                    # For all other periods, calculate the reward considering the current and future benefits\n",
    "                    base_reward_calculation = -lamb * sigma * (x ** 2) if order_type == \"IS\" else -lamb * sigma * ((x - nb_stocks) ** 2)\n",
    "                    r = base_reward_calculation + reward[psi, period+1]\n",
    "                    p = 0\n",
    "\n",
    "                    # Consider all other liquidation scenarios\n",
    "                    i = 1\n",
    "                    while (x - i >= 0):\n",
    "                        # Compute the potential reward with the new liquidation quantity\n",
    "                        potential_r = base_reward_calculation + reward[psi + i, period + 1] - eta * (i ** 2)\n",
    "\n",
    "                        # If new liquidation strategy is more optimal, keep it\n",
    "                        if potential_r > r :\n",
    "                            r = potential_r\n",
    "                            p = i\n",
    "\n",
    "                        i += 1\n",
    "\n",
    "                    # Fill the grid with the computed reward and policy\n",
    "                    reward[psi, period] = r\n",
    "                    policy[psi, period] = p\n",
    "\n",
    "    # Determine the optimal trajectory of stock holdings over time, initializing the strategy at inception\n",
    "    trajectory = [nb_stocks]\n",
    "    initial = 0\n",
    "\n",
    "    # Calculate the optimal path of holding stocks over each period\n",
    "    for period in range(1, nb_periods + 1):\n",
    "        instant_past = trajectory[-1]\n",
    "        psi = int(policy[initial, period - 1])\n",
    "        initial += psi\n",
    "        new_remaining_inventory = instant_past - psi\n",
    "        trajectory.append(new_remaining_inventory)\n",
    "\n",
    "    return trajectory"
   ]
  },
  {
   "cell_type": "markdown",
   "id": "5d2e3279-76bf-4a45-b4cf-af2c73731088",
   "metadata": {
    "id": "5d2e3279-76bf-4a45-b4cf-af2c73731088"
   },
   "source": [
    "### Implementation Shortfall - Optimal Strategies"
   ]
  },
  {
   "cell_type": "markdown",
   "id": "7TTbzmx4JX2e",
   "metadata": {
    "id": "7TTbzmx4JX2e"
   },
   "source": [
    "#### Varying Risk Aversion"
   ]
  },
  {
   "cell_type": "code",
   "execution_count": null,
   "id": "kHoVkneCJ7rE",
   "metadata": {
    "colab": {
     "base_uri": "https://localhost:8080/",
     "height": 317
    },
    "id": "kHoVkneCJ7rE",
    "outputId": "70f2fb29-e0d1-446d-cc38-537fa1aa4e94"
   },
   "outputs": [],
   "source": [
    "df_IS_lambda = compute_strategies(\"IS\", \"lambda\", lambdas, fixed_eta)\n",
    "plot_strategy(df_IS_lambda, \"lambda\", \"Risk Aversion\")"
   ]
  },
  {
   "cell_type": "markdown",
   "id": "d9de4dd1",
   "metadata": {
    "id": "d9de4dd1"
   },
   "source": [
    "#### Varying Temporary Market Impact"
   ]
  },
  {
   "cell_type": "code",
   "execution_count": null,
   "id": "tUIBDbw0KKTr",
   "metadata": {
    "colab": {
     "base_uri": "https://localhost:8080/",
     "height": 317
    },
    "id": "tUIBDbw0KKTr",
    "outputId": "eeffe409-df9a-4d89-b429-1738ccd2c001"
   },
   "outputs": [],
   "source": [
    "df_IS_eta = compute_strategies(\"IS\", \"eta\", etas, fixed_lambda)\n",
    "plot_strategy(df_IS_eta, \"eta\", \"Market Impact\")"
   ]
  },
  {
   "cell_type": "markdown",
   "id": "77ebe47f",
   "metadata": {
    "id": "77ebe47f"
   },
   "source": [
    "### Target Close - optimal strategy"
   ]
  },
  {
   "cell_type": "markdown",
   "id": "4a3408b3",
   "metadata": {
    "id": "4a3408b3"
   },
   "source": [
    "#### Varying Risk Aversion"
   ]
  },
  {
   "cell_type": "code",
   "execution_count": null,
   "id": "Y9af0AirKYeu",
   "metadata": {
    "colab": {
     "base_uri": "https://localhost:8080/",
     "height": 317
    },
    "id": "Y9af0AirKYeu",
    "outputId": "5489daad-057b-4ecf-f7ba-cb6c588f294e"
   },
   "outputs": [],
   "source": [
    "df_TC_lambda = compute_strategies(\"TC\", \"lambda\", lambdas, fixed_eta)\n",
    "plot_strategy(df_TC_lambda, \"lambda\", \"Risk Aversion\")"
   ]
  },
  {
   "cell_type": "markdown",
   "id": "0c1c87df",
   "metadata": {
    "id": "0c1c87df"
   },
   "source": [
    "#### Varying Temporary Market Impact"
   ]
  },
  {
   "cell_type": "code",
   "execution_count": null,
   "id": "yW1F3YbrKdnP",
   "metadata": {
    "colab": {
     "base_uri": "https://localhost:8080/",
     "height": 317
    },
    "id": "yW1F3YbrKdnP",
    "outputId": "5aaf44e8-3a94-4a98-ea23-85918bed31d7"
   },
   "outputs": [],
   "source": [
    "df_TC_eta = compute_strategies(\"TC\", \"eta\", etas, fixed_lambda)\n",
    "plot_strategy(df_TC_eta, \"eta\", \"Market Impact\")"
   ]
  },
  {
   "cell_type": "markdown",
   "id": "ee024513",
   "metadata": {
    "id": "ee024513"
   },
   "source": [
    "### TWAP - optimal strategy"
   ]
  },
  {
   "cell_type": "markdown",
   "id": "gNvmBMfELezE",
   "metadata": {
    "id": "gNvmBMfELezE"
   },
   "source": [
    "#### Varying Risk Aversion"
   ]
  },
  {
   "cell_type": "code",
   "execution_count": null,
   "id": "wDPjg19iLkg8",
   "metadata": {
    "colab": {
     "base_uri": "https://localhost:8080/",
     "height": 317
    },
    "id": "wDPjg19iLkg8",
    "outputId": "616132f3-5fe8-4644-f5f3-5c03f89fa17c"
   },
   "outputs": [],
   "source": [
    "df_TWAP_lambda = compute_strategies(\"TWAP\", \"lambda\", lambdas, fixed_eta)\n",
    "plot_strategy(df_TWAP_lambda, \"lambda\", \"Risk Aversion\")"
   ]
  },
  {
   "cell_type": "markdown",
   "id": "7oZTAceTLhsf",
   "metadata": {
    "id": "7oZTAceTLhsf"
   },
   "source": [
    "#### Varying Temporary Market Impact"
   ]
  },
  {
   "cell_type": "code",
   "execution_count": null,
   "id": "pEnUVvcnKzJ8",
   "metadata": {
    "colab": {
     "base_uri": "https://localhost:8080/",
     "height": 317
    },
    "id": "pEnUVvcnKzJ8",
    "outputId": "8a7f9c47-8362-417e-d16e-5ac1d35993a7"
   },
   "outputs": [],
   "source": [
    "df_TWAP_eta = compute_strategies(\"TWAP\", \"eta\", etas, fixed_lambda)\n",
    "plot_strategy(df_TWAP_eta, \"eta\", \"Market Impact\")"
   ]
  },
  {
   "cell_type": "markdown",
   "id": "b049d0d3",
   "metadata": {
    "id": "b049d0d3"
   },
   "source": [
    "### Implementation Shortfall - Efficient Frontier"
   ]
  },
  {
   "cell_type": "code",
   "execution_count": null,
   "id": "56XVTZTgNfAd",
   "metadata": {
    "colab": {
     "base_uri": "https://localhost:8080/",
     "height": 317
    },
    "id": "56XVTZTgNfAd",
    "outputId": "26fefe7d-a809-4819-ab48-0b69d6f1d08f"
   },
   "outputs": [],
   "source": [
    "# Compute the values of k given the different levels of risk aversion\n",
    "lbd_values = np.linspace(1e-4, 1, num=1000)\n",
    "k_values = np.sqrt(lbd_values / fixed_eta) * sigma\n",
    "\n",
    "# Compute the variance and the expectation\n",
    "IS_expectation = compute_expectation(\"IS\", k_values, sigma, fixed_eta, x0, T)\n",
    "IS_variance = compute_variance(\"IS\", k_values, sigma, fixed_eta, x0, T)\n",
    "\n",
    "display_efficient_frontier(IS_expectation, IS_variance)"
   ]
  },
  {
   "cell_type": "markdown",
   "id": "a171589a",
   "metadata": {
    "id": "a171589a"
   },
   "source": [
    "### Target Close - Efficient Frontier"
   ]
  },
  {
   "cell_type": "code",
   "execution_count": null,
   "id": "ZGitz0ZjPfUc",
   "metadata": {
    "colab": {
     "base_uri": "https://localhost:8080/",
     "height": 317
    },
    "id": "ZGitz0ZjPfUc",
    "outputId": "ff44bfaf-521a-4c0c-e277-dd31060d538a"
   },
   "outputs": [],
   "source": [
    "# Compute the variance and the expectation\n",
    "TC_expectation = compute_expectation(\"TC\", k_values, sigma, fixed_eta, x0, T)\n",
    "TC_variance = compute_variance(\"TC\", k_values, sigma, fixed_eta, x0, T)\n",
    "\n",
    "display_efficient_frontier(TC_expectation, TC_variance)"
   ]
  },
  {
   "cell_type": "markdown",
   "id": "dF0Z3KCrSWpQ",
   "metadata": {
    "id": "dF0Z3KCrSWpQ"
   },
   "source": [
    "### TWAP - Efficient Frontier"
   ]
  },
  {
   "cell_type": "code",
   "execution_count": null,
   "id": "5tv1oNT1SWpS",
   "metadata": {
    "colab": {
     "background_save": true,
     "base_uri": "https://localhost:8080/",
     "height": 317
    },
    "id": "5tv1oNT1SWpS",
    "outputId": "ab45cd3f-1a4f-4087-bdab-9595350a1457"
   },
   "outputs": [],
   "source": [
    "# Compute the variance and the expectation\n",
    "TWAP_expectation = compute_expectation(\"TWAP\", k_values, sigma, fixed_eta, x0, T)\n",
    "TWAP_variance = compute_variance(\"TWAP\", k_values, sigma, fixed_eta, x0, T)\n",
    "\n",
    "display_efficient_frontier(TC_expectation, TC_variance)"
   ]
  },
  {
   "cell_type": "markdown",
   "id": "4606759d",
   "metadata": {
    "id": "4606759d"
   },
   "source": [
    "### Bellman Optimization"
   ]
  },
  {
   "cell_type": "code",
   "execution_count": null,
   "id": "oHZsByfTzB-e",
   "metadata": {
    "id": "oHZsByfTzB-e"
   },
   "outputs": [],
   "source": [
    "# Initializing the parameters\n",
    "bellman_x0 = 200\n",
    "sigma = 0.20\n",
    "bellman_eta = 5 * 1e-1\n",
    "steps = 150\n",
    "lambdas = [5e-4, 1e-3, 1e-2 , 1e-1, 1, 10]"
   ]
  },
  {
   "cell_type": "markdown",
   "id": "01887ce6",
   "metadata": {
    "id": "01887ce6"
   },
   "source": [
    "#### Implementation Shortfall"
   ]
  },
  {
   "cell_type": "code",
   "execution_count": null,
   "id": "L0lNjx6oUFau",
   "metadata": {
    "colab": {
     "base_uri": "https://localhost:8080/",
     "height": 317
    },
    "id": "L0lNjx6oUFau",
    "outputId": "1efc7049-809b-4e4e-c672-7c9423d79578"
   },
   "outputs": [],
   "source": [
    "tab = {'t':[],'x':[],'lambda':[]}\n",
    "\n",
    "# Compute the optimal strategies for each level of risk aversion\n",
    "for lamb_value in lambdas:\n",
    "    traj = Bellman(\"IS\", lamb_value, sigma, bellman_eta, bellman_x0, steps)\n",
    "    tab['t'].extend(range(len(traj)))\n",
    "    tab['x'].extend(traj)\n",
    "    tab['lambda'].extend([str(lamb_value) for i in range(len(traj))])\n",
    "\n",
    "df = pd.DataFrame(tab)\n",
    "\n",
    "plot_strategy(df, 'lambda', 'Risk Aversion')"
   ]
  },
  {
   "cell_type": "markdown",
   "id": "99cb8489",
   "metadata": {
    "id": "99cb8489"
   },
   "source": [
    "#### Target Close"
   ]
  },
  {
   "cell_type": "code",
   "execution_count": null,
   "id": "fgP4S81MUzCf",
   "metadata": {
    "colab": {
     "base_uri": "https://localhost:8080/",
     "height": 317
    },
    "id": "fgP4S81MUzCf",
    "outputId": "61a54625-2c3d-4f0e-bca6-cfc7b06cab1f"
   },
   "outputs": [],
   "source": [
    "tab = {'t':[],'x':[],'lambda':[]}\n",
    "\n",
    "# Compute the optimal strategies for each level of risk aversion\n",
    "for lamb_value in lambdas:\n",
    "    traj = Bellman(\"TC\", lamb_value, sigma, bellman_eta, bellman_x0, steps)\n",
    "    tab['t'].extend(range(len(traj)))\n",
    "    tab['x'].extend(traj)\n",
    "    tab['lambda'].extend([str(lamb_value) for i in range(len(traj))])\n",
    "\n",
    "df = pd.DataFrame(tab)\n",
    "\n",
    "plot_strategy(df, 'lambda', 'Risk Aversion')"
   ]
  }
 ],
 "metadata": {
  "colab": {
   "provenance": []
  },
  "kernelspec": {
   "display_name": "Python 3 (ipykernel)",
   "language": "python",
   "name": "python3"
  },
  "language_info": {
   "codemirror_mode": {
    "name": "ipython",
    "version": 3
   },
   "file_extension": ".py",
   "mimetype": "text/x-python",
   "name": "python",
   "nbconvert_exporter": "python",
   "pygments_lexer": "ipython3",
   "version": "3.11.4"
  }
 },
 "nbformat": 4,
 "nbformat_minor": 5
}
