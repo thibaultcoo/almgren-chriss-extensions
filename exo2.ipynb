{
 "cells": [
  {
   "cell_type": "markdown",
   "id": "2d0aaf2d",
   "metadata": {
    "id": "2d0aaf2d"
   },
   "source": [
    "# M203 Electronic markets project"
   ]
  },
  {
   "cell_type": "markdown",
   "id": "a0d3fce2",
   "metadata": {
    "id": "a0d3fce2"
   },
   "source": [
    "## Exercise 2 - Optimal POV"
   ]
  },
  {
   "cell_type": "markdown",
   "id": "15a30d81",
   "metadata": {
    "id": "15a30d81"
   },
   "source": [
    "Marchessaux François, Collin Thibault"
   ]
  },
  {
   "cell_type": "markdown",
   "id": "185f9078",
   "metadata": {
    "id": "185f9078"
   },
   "source": [
    "### Loading libraries and initializing parameters"
   ]
  },
  {
   "cell_type": "code",
   "execution_count": null,
   "id": "e9cf4eb2-bf5d-4e34-b78f-e5f46b445f40",
   "metadata": {
    "id": "e9cf4eb2-bf5d-4e34-b78f-e5f46b445f40"
   },
   "outputs": [],
   "source": [
    "import numpy as np\n",
    "import pandas as pd\n",
    "import matplotlib.pyplot as plt\n",
    "import plotly.express as px"
   ]
  },
  {
   "cell_type": "code",
   "execution_count": null,
   "id": "2cb4299d",
   "metadata": {
    "id": "2cb4299d"
   },
   "outputs": [],
   "source": [
    "# Initialize the fixed parameters for inventory, risk aversion, market impact and volatility\n",
    "x0 = 10e4\n",
    "sigma = 0.20\n",
    "T = 1\n",
    "fixed_eta = 1.1 * 1e-4\n",
    "fixed_lamb = 0.1\n",
    "\n",
    "# Initialize the varying parameters\n",
    "t_values = np.linspace(0, T, 1000)\n",
    "lambdas = [85e-4, 1e-1 , 0.5, 1, 3, 8]\n",
    "lbd_values = np.linspace(1e-4, 1, num=1000)\n",
    "etas = [1e-6, 1e-5, 1e-4, 5e-4, 1e-3]"
   ]
  },
  {
   "cell_type": "markdown",
   "id": "5d2e3279-76bf-4a45-b4cf-af2c73731088",
   "metadata": {
    "id": "5d2e3279-76bf-4a45-b4cf-af2c73731088"
   },
   "source": [
    "### Percentage of Volume - optimal strategy"
   ]
  },
  {
   "cell_type": "code",
   "execution_count": null,
   "id": "18c4177d",
   "metadata": {
    "id": "18c4177d"
   },
   "outputs": [],
   "source": [
    "def percentage_of_volume_opti_strat(t, x0, sigma, lamb, eta):\n",
    "    \"\"\"\n",
    "    Computes POV optimal deterministic strategy at a given time and for given parameters\n",
    "\n",
    "    t: current time\n",
    "    x0: initial inventory\n",
    "    sigma: underlying spot volatility\n",
    "    lamb: risk aversion parameter\n",
    "    eta: multiplicative factor for temporary market impact\n",
    "    \"\"\"\n",
    "\n",
    "    v = np.sqrt((lamb * (x0 ** 2) * (sigma ** 2)) / (3 * eta))\n",
    "    return x0 - v * t"
   ]
  },
  {
   "cell_type": "markdown",
   "id": "fc939b5e",
   "metadata": {
    "id": "fc939b5e"
   },
   "source": [
    "#### Varying risk aversion"
   ]
  },
  {
   "cell_type": "code",
   "execution_count": null,
   "id": "7c648889-733d-4f83-aff9-710ddb3ae836",
   "metadata": {
    "colab": {
     "base_uri": "https://localhost:8080/",
     "height": 317
    },
    "id": "7c648889-733d-4f83-aff9-710ddb3ae836",
    "outputId": "21a614ac-d26f-4468-aad6-2f9a1da1bd83"
   },
   "outputs": [],
   "source": [
    "df = pd.DataFrame()\n",
    "\n",
    "# Compute the optimal strategy for each level of risk aversion\n",
    "for lamb in lambdas:\n",
    "    xt = [max(percentage_of_volume_opti_strat(t, x0, sigma, lamb, fixed_eta), 0) for t in t_values]\n",
    "    temp_df = pd.DataFrame({'t': t_values, 'x': xt, 'lambda': str(lamb)})\n",
    "    df = pd.concat([df, temp_df], ignore_index=True)\n",
    "\n",
    "# Display the strategies\n",
    "fig = px.line(df, x='t', y='x', color='lambda', template='plotly_white',\n",
    "              labels={\"x\": \"Remaining Inventory\", \"t\": \"Time\", \"lambda\": \"Risk Aversion\"})\n",
    "\n",
    "fig.update_traces(hoverinfo='skip')\n",
    "fig.update_traces(hovertemplate=None)\n",
    "fig.update_layout(width=900, height=300)\n",
    "fig.show()"
   ]
  },
  {
   "cell_type": "markdown",
   "id": "d9de4dd1",
   "metadata": {
    "id": "d9de4dd1"
   },
   "source": [
    "#### Varying temporary market impact"
   ]
  },
  {
   "cell_type": "code",
   "execution_count": null,
   "id": "a00b7c6e-4921-4b19-ba65-c83232a52c31",
   "metadata": {
    "colab": {
     "base_uri": "https://localhost:8080/",
     "height": 317
    },
    "id": "a00b7c6e-4921-4b19-ba65-c83232a52c31",
    "outputId": "f9ebe024-a7dc-484f-a1fd-0a926639eb7e"
   },
   "outputs": [],
   "source": [
    "df = pd.DataFrame()\n",
    "\n",
    "# Compute the optimal strategy for each level of temporary market impact\n",
    "for eta in etas:\n",
    "    xt = [max(percentage_of_volume_opti_strat(t, x0, sigma, fixed_lamb, eta), 0) for t in t_values]\n",
    "    temp_df = pd.DataFrame({'t': t_values, 'x': xt, 'eta': str(eta)})\n",
    "    df = pd.concat([df, temp_df], ignore_index=True)\n",
    "\n",
    "# Display the strategies\n",
    "fig = px.line(df, x='t', y='x', color='eta', template='plotly_white',\n",
    "              labels={\"x\": \"Remaining Inventory\", \"t\": \"Time\", \"eta\": \"Market Impact\"})\n",
    "\n",
    "fig.update_traces(hoverinfo='skip')\n",
    "fig.update_traces(hovertemplate=None)\n",
    "fig.update_layout(width=900, height=300)\n",
    "fig.show()"
   ]
  },
  {
   "cell_type": "markdown",
   "id": "ea60c17c",
   "metadata": {
    "id": "ea60c17c"
   },
   "source": [
    "### Percentage of volume - efficient frontier"
   ]
  },
  {
   "cell_type": "code",
   "execution_count": null,
   "id": "lqR1K2Ei_tEy",
   "metadata": {
    "id": "lqR1K2Ei_tEy"
   },
   "outputs": [],
   "source": [
    "def calculate_POV_expectation(lbd_values, eta, sigma, x0):\n",
    "    \"\"\"\n",
    "    Computes the expectation for the PoV order, given the closed-form solved formula\n",
    "\n",
    "    lbd_values: different levels of risk aversion\n",
    "    eta: multiplicative factor for temporary market impact\n",
    "    sigma: underlying spot volatility\n",
    "    x0: initial inventory\n",
    "    \"\"\"\n",
    "\n",
    "    v = np.sqrt((lbd_values * (x0 ** 2) * (sigma ** 2)) / (3 * eta))\n",
    "    return -eta * x0 * v"
   ]
  },
  {
   "cell_type": "code",
   "execution_count": null,
   "id": "hAHYHfCP_vFN",
   "metadata": {
    "id": "hAHYHfCP_vFN"
   },
   "outputs": [],
   "source": [
    "def calculate_POV_variance(lbd_values, eta, sigma, x0):\n",
    "    \"\"\"\n",
    "    Computes the variance for the PoV order, given the closed-form solved formula\n",
    "\n",
    "    lbd_values: different levels of risk aversion\n",
    "    eta: multiplicative factor for temporary market impact\n",
    "    sigma: underlying spot volatility\n",
    "    x0: initial inventory\n",
    "    \"\"\"\n",
    "    v = np.sqrt((lbd_values * (x0 ** 2) * (sigma ** 2)) / (3 * eta))\n",
    "    return (x0 ** 3) * (sigma ** 2) / (3 * v)"
   ]
  },
  {
   "cell_type": "code",
   "execution_count": null,
   "id": "1ccaa6b0",
   "metadata": {
    "colab": {
     "base_uri": "https://localhost:8080/",
     "height": 317
    },
    "id": "1ccaa6b0",
    "outputId": "30677d36-e551-4d89-ad32-b0c21c6ea77e"
   },
   "outputs": [],
   "source": [
    "# Compute the variance and the expectation for different level of risk aversion\n",
    "expectation_POV = calculate_POV_expectation(lbd_values, fixed_eta, sigma, x0)\n",
    "variance_POV = calculate_POV_variance(lbd_values, fixed_eta, sigma, x0)\n",
    "\n",
    "# Store and scale the results\n",
    "df = pd.DataFrame({'E': np.abs(expectation_POV) / 100, 'V': np.abs(variance_POV) / 10000, 'lambda': lbd_values})\n",
    "\n",
    "# Display the efficient frontier\n",
    "fig = px.scatter(df, x='V', y='E', color='lambda', template='plotly_white',\n",
    "                 labels={\"V\": \"Variance\", \"E\": \"Abs(Expectation)\", \"lambda\": \"𝛌\"}, color_continuous_scale='Purp')\n",
    "fig.update_layout(width=900, height=300)\n",
    "fig.update_layout(xaxis=dict(range=[800, 14000]))\n",
    "fig.show()"
   ]
  },
  {
   "cell_type": "code",
   "execution_count": null,
   "id": "pFDZnmSp_4Xw",
   "metadata": {
    "id": "pFDZnmSp_4Xw"
   },
   "outputs": [],
   "source": [
    "def calculate_IS_expectation(k, eta, x0, T):\n",
    "    \"\"\"\n",
    "    Computes the expectation for the implementation shortfall order, given the closed-form solved formula\n",
    "\n",
    "    eta: multiplicative factor for temporary market impact\n",
    "    x0: initial inventory\n",
    "    T: end date of the execution process\n",
    "    \"\"\"\n",
    "    return -((((k * x0) / (np.sinh(k * T)))**2) * eta) * ((2 * k * T + np.sinh(2 * k * T)) / (4 * k))"
   ]
  },
  {
   "cell_type": "code",
   "execution_count": null,
   "id": "--MdugZO_551",
   "metadata": {
    "id": "--MdugZO_551"
   },
   "outputs": [],
   "source": [
    "def calculate_IS_variance(k, sigma, x0, T):\n",
    "    \"\"\"\n",
    "    Computes the variance for the implementation shortfall order, given the closed-form solved formula\n",
    "\n",
    "    sigma: underlying spot volatility\n",
    "    x0: initial inventory\n",
    "    T: end date of the execution process\n",
    "    \"\"\"\n",
    "    return (((sigma * x0) / (np.sinh(k * T)))**2) * ((np.sinh(2 * k * T) - (2 * k * T)) / (4 * k))"
   ]
  },
  {
   "cell_type": "code",
   "execution_count": null,
   "id": "6451ef6f",
   "metadata": {
    "colab": {
     "base_uri": "https://localhost:8080/",
     "height": 317
    },
    "id": "6451ef6f",
    "outputId": "d6ecefa0-d9c7-459c-ab89-2f789a2f03a7"
   },
   "outputs": [],
   "source": [
    "# Compute the variance and the expectation of IS orders\n",
    "k_values = np.sqrt(lbd_values / fixed_eta) * sigma\n",
    "expectation_IS = calculate_IS_expectation(k_values, fixed_eta, x0, T)\n",
    "variance_IS = calculate_IS_variance(k_values, sigma, x0, T)\n",
    "\n",
    "# Compute the difference between the two types of orders to compare them\n",
    "difference_expectation = np.abs(expectation_POV - expectation_IS) / 100\n",
    "difference_variance = np.abs(variance_POV - variance_IS) / 10000\n",
    "\n",
    "df_difference = pd.DataFrame({'Difference_E': difference_expectation, 'Difference_V': difference_variance, 'lambda': lbd_values})\n",
    "\n",
    "# Display the result\n",
    "fig = px.scatter(df_difference, x='Difference_V', y='Difference_E', color='lambda', template='plotly_white',\n",
    "                 labels={\"Difference_V\": \"Variance Difference\", \"Difference_E\": \"Abs(Expectation Difference)\", \"lambda\": \"𝛌\"}, color_continuous_scale='Blugrn')\n",
    "\n",
    "fig.update_layout(width=900, height=300)\n",
    "fig.update_layout(xaxis=dict(range=[0, 5000]))\n",
    "fig.show()"
   ]
  }
 ],
 "metadata": {
  "colab": {
   "provenance": []
  },
  "kernelspec": {
   "display_name": "Python 3 (ipykernel)",
   "language": "python",
   "name": "python3"
  },
  "language_info": {
   "codemirror_mode": {
    "name": "ipython",
    "version": 3
   },
   "file_extension": ".py",
   "mimetype": "text/x-python",
   "name": "python",
   "nbconvert_exporter": "python",
   "pygments_lexer": "ipython3",
   "version": "3.11.4"
  }
 },
 "nbformat": 4,
 "nbformat_minor": 5
}
