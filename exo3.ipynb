{
 "cells": [
  {
   "cell_type": "markdown",
   "id": "2d0aaf2d",
   "metadata": {
    "id": "2d0aaf2d"
   },
   "source": [
    "## M203 Electronic markets project"
   ]
  },
  {
   "cell_type": "markdown",
   "id": "a0d3fce2",
   "metadata": {
    "id": "a0d3fce2"
   },
   "source": [
    "### Exercise 3 - Liquidating two assets"
   ]
  },
  {
   "cell_type": "markdown",
   "id": "15a30d81",
   "metadata": {
    "id": "15a30d81"
   },
   "source": [
    "Marchessaux François, Collin Thibault"
   ]
  },
  {
   "cell_type": "markdown",
   "id": "185f9078",
   "metadata": {
    "id": "185f9078"
   },
   "source": [
    "### Loading libraries and initializing parameters"
   ]
  },
  {
   "cell_type": "code",
   "execution_count": null,
   "id": "d043ff1d",
   "metadata": {
    "id": "d043ff1d"
   },
   "outputs": [],
   "source": [
    "import numpy as np\n",
    "import pandas as pd\n",
    "import matplotlib.pyplot as plt\n",
    "import plotly.express as px"
   ]
  },
  {
   "cell_type": "markdown",
   "id": "4606759d",
   "metadata": {
    "id": "4606759d"
   },
   "source": [
    "### Creating the Bellman optimization backward algorithm"
   ]
  },
  {
   "cell_type": "code",
   "execution_count": null,
   "id": "addf5d13",
   "metadata": {
    "id": "addf5d13"
   },
   "outputs": [],
   "source": [
    "def Bellman_IS_2D(lamb, sigma1, sigma2, eta1, eta2, rho, nb_stocks1, nb_stocks2, nb_periods):\n",
    "    # Initialize matrices to store rewards and policies for each stock count and period\n",
    "    reward = np.zeros((nb_stocks1 + 1, int(2*nb_stocks1/5 + 1), nb_periods))\n",
    "    policy = np.zeros((nb_stocks1 + 1, int(2*nb_stocks1/5 + 1), nb_periods, 2))\n",
    "\n",
    "    # Iterate through each period in reverse order\n",
    "    for period in range(nb_periods-1, -1, -1):\n",
    "        # Iterate through each possible number of stocks for both dimensions\n",
    "        for stock1 in range(nb_stocks1 + 1):\n",
    "            for stock2 in range(-nb_stocks2, nb_stocks2 + 1):\n",
    "                psi1 = stock1\n",
    "                psi2 = stock2\n",
    "                x1 = nb_stocks1 - psi1\n",
    "                x2 = nb_stocks2 - psi2\n",
    "\n",
    "                if psi1 == nb_stocks1 and psi2 == nb_stocks2:\n",
    "                    reward[psi1, psi2, period] = 0\n",
    "                    policy[psi1, psi2, period] = (0, 0)\n",
    "                else:\n",
    "                    if period == nb_periods - 1:\n",
    "                        reward[psi1, psi2, period] = np.inf\n",
    "                        policy[psi1, psi2, period] = (np.inf, np.inf)\n",
    "                    elif period == nb_periods - 2:\n",
    "                        reward[psi1, psi2, period] = -1 * lamb * ((sigma1 ** 2) * (x1 ** 2) + (sigma2 ** 2) * (x2 ** 2))\n",
    "                        reward[psi1, psi2, period] -= 2 * lamb * sigma1 * sigma2 * x1 * x2 * rho\n",
    "                        reward[psi1, psi2, period] -= eta1 * (x1 ** 2) + eta2 * (x2 ** 2)\n",
    "                        policy[psi1, psi2, period] = (x1, x2)\n",
    "                    else:\n",
    "                        # Calculate potential rewards for all possible actions\n",
    "                        base_reward = -1 * lamb * ((sigma1 ** 2) * (x1 ** 2) + (sigma2 ** 2) * (x2 ** 2))\n",
    "                        base_reward -= 2 * lamb * sigma1 * sigma2 * x1 * x2 * rho\n",
    "                        base_reward -= eta1 * (x1 ** 2) + eta2 * (x2 ** 2)\n",
    "                        base_reward += reward[psi1, psi2, period + 1]\n",
    "                        best_policy = (0, 0)\n",
    "\n",
    "                        # Consider all other liquidation scenarios for both assets\n",
    "                        i = 1\n",
    "                        best_reward = base_reward\n",
    "                        \n",
    "                        while psi1 + i <= nb_stocks1:\n",
    "                            j = 1\n",
    "                            for j in range(int(-nb_stocks1/10), int(nb_stocks1/10)):\n",
    "                                # Compute potential reward considering current liquidation strategy\n",
    "                                potential_reward = -1 * lamb * ((sigma1 ** 2) * (i ** 2) + (sigma2 ** 2) * (j ** 2))\n",
    "                                potential_reward -= 2 * lamb * sigma1 * sigma2 * i * j * rho\n",
    "                                potential_reward -= eta1 * (i ** 2) + eta2 * (j ** 2)\n",
    "                                potential_reward = potential_reward + reward[psi1 + i, psi2 + j, period + 1]\n",
    "                                \n",
    "                                # Update if this strategy is better\n",
    "                                if potential_reward > best_reward:\n",
    "                                    best_reward = potential_reward\n",
    "                                    best_policy = (i, j)\n",
    "\n",
    "                                j += 1\n",
    "                            i += 1\n",
    "\n",
    "                        # Update the rewards and policy matrices\n",
    "                        reward[psi1, psi2, period] = best_reward\n",
    "                        policy[psi1, psi2, period] = best_policy\n",
    "\n",
    "    # Determine the optimal trajectory of stock holdings over time\n",
    "    trajectory = [(nb_stocks1, nb_stocks2)]\n",
    "    current = (0, 0)\n",
    "\n",
    "    for period in range(1, nb_periods + 1):\n",
    "        instant_past = trajectory[-1]\n",
    "        psi1, psi2 = policy[current[0], current[1], period - 1, 0], policy[current[0], current[1], period - 1, 1]\n",
    "        current = (current[0] + int(psi1), current[1] + int(psi2))\n",
    "        remaining_stock1 = instant_past[0] - psi1\n",
    "        remaining_stock2 = instant_past[1] - psi2\n",
    "        trajectory.append((remaining_stock1, remaining_stock2))\n",
    "\n",
    "    return trajectory"
   ]
  },
  {
   "cell_type": "markdown",
   "id": "14ffa9f5",
   "metadata": {
    "id": "14ffa9f5"
   },
   "source": [
    "### Running our algorithms"
   ]
  },
  {
   "cell_type": "code",
   "execution_count": null,
   "id": "df0b3f96",
   "metadata": {
    "id": "df0b3f96"
   },
   "outputs": [],
   "source": [
    "x0_1 = 35\n",
    "x0_2 = 0\n",
    "\n",
    "sigma_1 = 0.20\n",
    "sigma_2 = 0.20\n",
    "rho = 0.9\n",
    "\n",
    "steps = 30\n",
    "\n",
    "eta_1 = 5 * 1e-2\n",
    "eta_2 = 5\n",
    "lambdas = [5e-4, 1e-3, 1e-2 , 1e-1, 1]"
   ]
  },
  {
   "cell_type": "code",
   "execution_count": null,
   "id": "8f8202c5",
   "metadata": {
    "colab": {
     "base_uri": "https://localhost:8080/",
     "height": 617
    },
    "id": "8f8202c5",
    "outputId": "0b50996a-3e0b-4f00-dd54-193920cdc869"
   },
   "outputs": [],
   "source": [
    "tab = {'t':[],'x1_t':[], 'x2_t':[], 'lambda':[]}\n",
    "for lamb_value in lambdas:\n",
    "    traj = Bellman_IS_2D(lamb_value, sigma_1, sigma_2, eta_1, eta_2, rho, x0_1, x0_2, steps)\n",
    "    tab['t'].extend(range(len(traj)))\n",
    "    tab['x1_t'].extend([x[0] for x in traj])\n",
    "    tab['x2_t'].extend([x[1] for x in traj])\n",
    "    tab['lambda'].extend([str(lamb_value) for i in range(len(traj))])\n",
    "\n",
    "df = pd.DataFrame(tab)\n",
    "fig = px.line(df, x='t', y='x1_t', color='lambda', template='plotly_white',\n",
    "              labels={\"x1_t\": \"Asset 1 Remaining Inventory\", \"t\": \"Time\", \"lambda\": \"Risk Aversion\"})\n",
    "\n",
    "fig.update_traces(hoverinfo='skip')\n",
    "fig.update_traces(hovertemplate=None)\n",
    "fig.update_layout(width=900, height=300)\n",
    "fig.show()\n",
    "\n",
    "fig = px.line(df, x='t', y='x2_t', color='lambda', template='plotly_white',\n",
    "              labels={\"x2_t\": \"Asset 2 Remaining Inventory\", \"t\": \"Time\", \"lambda\": \"Risk Aversion\"})\n",
    "fig.update_traces(hoverinfo='skip')\n",
    "fig.update_traces(hovertemplate=None)\n",
    "fig.update_layout(width=900, height=300)\n",
    "fig.show()"
   ]
  }
 ],
 "metadata": {
  "colab": {
   "provenance": []
  },
  "kernelspec": {
   "display_name": "Python 3 (ipykernel)",
   "language": "python",
   "name": "python3"
  },
  "language_info": {
   "codemirror_mode": {
    "name": "ipython",
    "version": 3
   },
   "file_extension": ".py",
   "mimetype": "text/x-python",
   "name": "python",
   "nbconvert_exporter": "python",
   "pygments_lexer": "ipython3",
   "version": "3.11.4"
  }
 },
 "nbformat": 4,
 "nbformat_minor": 5
}
