{
 "cells": [
  {
   "cell_type": "code",
   "execution_count": null,
   "id": "d043ff1d",
   "metadata": {},
   "outputs": [],
   "source": [
    "import numpy as np\n",
    "import pandas as pd\n",
    "import matplotlib.pyplot as plt\n",
    "import plotly.express as px\n",
    "from tqdm import tqdm"
   ]
  },
  {
   "cell_type": "code",
   "execution_count": null,
   "id": "addf5d13",
   "metadata": {},
   "outputs": [],
   "source": [
    "def Bellman_IS_2D(lamb_value, sigma_1, sigma_2, eta_1, eta_2, x0_1, x0_2, steps):\n",
    "    reward = np.zeros((nb_stocks+1, nb_periods))\n",
    "    policy = np.zeros((nb_stocks+1, nb_periods))\n",
    "    \n",
    "    for period in range(nb_periods-1, -1, -1):\n",
    "        for stock in range(nb_stocks+1):\n",
    "            psi = stock\n",
    "            x = nb_stocks - psi\n",
    "            \n",
    "            if psi == nb_stocks:\n",
    "                reward[psi, period] = 0\n",
    "                policy[psi, period] = 0\n",
    "            else:\n",
    "                if period == nb_periods - 1:\n",
    "                    reward[psi, period] = np.inf\n",
    "                    policy[psi, period] = np.inf\n",
    "                    \n",
    "                elif period == nb_periods - 2:\n",
    "                    reward[psi, period] = -1 * lamb * (sigma ** 2) * (x ** 2) - eta * (x ** 2)\n",
    "                    policy[psi, period] = x\n",
    "                else:\n",
    "                    base_reward_calculation = -1 * lamb * sigma * (x ** 2)\n",
    "                    r = base_reward_calculation + reward[psi, period+1]\n",
    "                    p = 0\n",
    "                    i = 1\n",
    "\n",
    "                    while (x - i >= 0):\n",
    "                        potential_r = base_reward_calculation + reward[psi + i, period + 1] - eta * (i ** 2)\n",
    "                        if r < potential_r:\n",
    "                            r = potential_r\n",
    "                            p = i\n",
    "                        i += 1\n",
    "                        \n",
    "                    reward[psi, period] = r\n",
    "                    policy[psi, period] = p\n",
    "                        \n",
    "    trajectory = [nb_stocks]\n",
    "    initial = 0\n",
    "    \n",
    "    for period in range(1, nb_periods + 1):\n",
    "        instant_past = trajectory[-1]\n",
    "        psi = int(policy[initial, period - 1])\n",
    "        initial += psi\n",
    "        new_remaining_inventory = instant_past - psi\n",
    "        trajectory.append(new_remaining_inventory)\n",
    "\n",
    "    return trajectory"
   ]
  },
  {
   "cell_type": "code",
   "execution_count": null,
   "id": "df0b3f96",
   "metadata": {},
   "outputs": [],
   "source": [
    "x0_1 = 100\n",
    "x0_2 = 0\n",
    "\n",
    "sigma_1 = 0.20\n",
    "sigma_2 = 0.20\n",
    "rho = 0.9\n",
    "\n",
    "steps = 75\n",
    "\n",
    "eta_1 = 5 * 1e-3\n",
    "eta_2 = 5 * 1e-1\n",
    "lambdas = [5e-4, 1e-3, 1e-2 , 1e-1, 1, 10]"
   ]
  },
  {
   "cell_type": "code",
   "execution_count": null,
   "id": "8f8202c5",
   "metadata": {},
   "outputs": [],
   "source": [
    "tab = {'t':[],'x_t':[],'lambda':[]}\n",
    "for lamb_value in lambdas:\n",
    "    traj = Bellman_IS_2D(lamb_value, sigma_1, sigma_2, eta_1, eta_2, x0_1, x0_2, steps)\n",
    "    tab['t'].extend(range(len(traj)))\n",
    "    tab['x_t'].extend(traj)\n",
    "    tab['lambda'].extend([str(lamb_value) for i in range(len(traj))])\n",
    "\n",
    "df = pd.DataFrame(tab)\n",
    "fig = px.line(df, x='t', y='x_t', color='lambda', template='plotly_white', \n",
    "              labels={\"x_t\": \"Remaining Inventory\", \"t\": \"Time\", \"lambda\": \"Market Impact\"})\n",
    "\n",
    "fig.update_traces(hoverinfo='skip')\n",
    "fig.update_traces(hovertemplate=None)\n",
    "fig.update_layout(width=900, height=300)\n",
    "fig.show()"
   ]
  }
 ],
 "metadata": {
  "kernelspec": {
   "display_name": "Python 3 (ipykernel)",
   "language": "python",
   "name": "python3"
  },
  "language_info": {
   "codemirror_mode": {
    "name": "ipython",
    "version": 3
   },
   "file_extension": ".py",
   "mimetype": "text/x-python",
   "name": "python",
   "nbconvert_exporter": "python",
   "pygments_lexer": "ipython3",
   "version": "3.11.4"
  }
 },
 "nbformat": 4,
 "nbformat_minor": 5
}
