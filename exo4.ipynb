{
 "cells": [
  {
   "cell_type": "code",
   "execution_count": 562,
   "id": "7bbc534e",
   "metadata": {},
   "outputs": [],
   "source": [
    "import tensorflow as tf\n",
    "from tensorflow import keras\n",
    "from tensorflow.keras import layers\n",
    "import numpy as np\n",
    "import plotly.express as px\n",
    "import pandas as pd"
   ]
  },
  {
   "cell_type": "code",
   "execution_count": 574,
   "id": "c7a475f5",
   "metadata": {},
   "outputs": [],
   "source": [
    "def create_model():\n",
    "    model = keras.Sequential([\n",
    "        keras.Input(shape=(3,)),\n",
    "        layers.Dense(50, activation='relu', kernel_regularizer=tf.keras.regularizers.l2(0.0001)),\n",
    "        layers.BatchNormalization(),\n",
    "        layers.Dropout(0.8),\n",
    "        layers.Dense(50, activation='relu', kernel_regularizer=tf.keras.regularizers.l2(0.0001)),\n",
    "        layers.BatchNormalization(),\n",
    "        layers.Dropout(0.8),\n",
    "        layers.Dense(1, activation=\"sigmoid\")])\n",
    "    \n",
    "    return model"
   ]
  },
  {
   "cell_type": "code",
   "execution_count": 575,
   "id": "fd2d2b2f",
   "metadata": {},
   "outputs": [],
   "source": [
    "def plot_simulation_results(simulation_results):\n",
    "    df = pd.DataFrame(simulation_results)\n",
    "    \n",
    "    fig = px.line(df, x='t', y='x', color='lbd', template='plotly_white',\n",
    "                  labels={\"x\": \"Remaining Inventory\", \"t\": \"Time\", \"lbd\": \"Market Aversion\"})\n",
    "    \n",
    "    fig.update_layout(width=900, height=300)\n",
    "    fig.update_layout(xaxis=dict(range=[0, 1]))\n",
    "    \n",
    "    fig.show()"
   ]
  },
  {
   "cell_type": "code",
   "execution_count": 576,
   "id": "f66cea2e",
   "metadata": {},
   "outputs": [],
   "source": [
    "def run_episode(order, model, optimizer, n_traj, n_time_steps, x0, lbd_value, sigma, eta, action_noise_std, episode):\n",
    "    with tf.GradientTape() as tape:\n",
    "\n",
    "        # Initializing parameters for trajectory generation\n",
    "        r = np.zeros((n_time_steps, n_traj), dtype=np.float32)\n",
    "        x = tf.zeros((n_time_steps, n_traj), dtype=tf.float32)\n",
    "        log_density = tf.zeros((n_time_steps, n_traj), dtype=tf.float32)\n",
    "\n",
    "        # Initializing the action grid\n",
    "        x = tf.tensor_scatter_nd_update(x, [[0]], [x0 * tf.ones(n_traj)])\n",
    "\n",
    "        for i in range(1, n_time_steps):\n",
    "\n",
    "            # Filling the current normalized time and spatial position\n",
    "            current_time = tf.fill([n_traj], i / n_time_steps, name='current_time')\n",
    "            current_position = x[i-1] / x0\n",
    "\n",
    "            # Input time and normalized position into the policy network\n",
    "            inputs = tf.stack([current_time, current_position, tf.fill([n_traj], lbd_value)], axis=1)\n",
    "\n",
    "            # Neural network predicts the action to take, without noise\n",
    "            output_no_noise = model(inputs)[:, 0]\n",
    "\n",
    "            # Convert neural network output to a proposed selling action\n",
    "            proposed_sell_amount = output_no_noise * x[i-1]\n",
    "\n",
    "            # Add exploration noise\n",
    "            noise = action_noise_std * proposed_sell_amount * tf.random.normal(shape=(n_traj,))\n",
    "            sell_amount = proposed_sell_amount + noise\n",
    "\n",
    "            # Inventory constraints\n",
    "            sell_amount = tf.maximum(sell_amount, 0.0)\n",
    "            sell_amount = tf.minimum(sell_amount, x[i-1])\n",
    "\n",
    "            # Inventory update\n",
    "            new_inventory = x[i-1] - sell_amount\n",
    "            x = tf.tensor_scatter_nd_update(x, [[i]], [new_inventory])\n",
    "\n",
    "            log_density_i = -((sell_amount - output_no_noise) / (x0 * action_noise_std)) ** 2 / 2\n",
    "            log_density = tf.tensor_scatter_nd_update(log_density, [[i]], [log_density_i])\n",
    "\n",
    "            x_dot = (x[i] - x[i-1])\n",
    "\n",
    "            if order == \"IS\":\n",
    "                inventory_penalty = lbd_value * (sigma ** 2) * (x[i] ** 2)\n",
    "                liquidation_penalty = eta * (x_dot ** 2)\n",
    "\n",
    "            if order == \"TC\":\n",
    "                inventory_penalty = lbd_value * (sigma ** 2) * ((x[i] - x0) ** 2)\n",
    "                liquidation_penalty = eta * (x_dot ** 2)\n",
    "            \n",
    "            if order == \"POV\":\n",
    "                v = np.sqrt(((x0 ** 2) * lbd_value * (sigma ** 2)) / (3 * eta))\n",
    "                inventory_penalty = (lbd_value * (sigma ** 2) * (x0 ** 2)) / (3 * v)\n",
    "                liquidation_penalty = eta * v\n",
    "            \n",
    "            if i == n_time_steps - 1:\n",
    "                final_penalty = tf.where(x[i] > 0, 10e18 * tf.ones_like(x[i]), tf.zeros_like(x[i]))\n",
    "            else:\n",
    "                final_penalty = tf.zeros_like(x[i])\n",
    "\n",
    "            r_i = - (inventory_penalty + liquidation_penalty + final_penalty)                \n",
    "            r = tf.tensor_scatter_nd_update(r, [[i]], [r_i])\n",
    "\n",
    "        payoff = tf.reverse(tf.cumsum(tf.reverse(r, axis=[0]), axis=0), axis=[0])\n",
    "\n",
    "        loss = -tf.reduce_mean(log_density * tf.cast(payoff, dtype=tf.float32))\n",
    "            \n",
    "    return loss"
   ]
  },
  {
   "cell_type": "code",
   "execution_count": 577,
   "id": "a1ec9d6b",
   "metadata": {},
   "outputs": [],
   "source": [
    "def train_model(order, model, optimizer, episodes, **kwargs):\n",
    "    for episode in range(episodes):\n",
    "        loss = run_episode(order, model, optimizer, **kwargs, episode=episode)\n",
    "            \n",
    "    return model"
   ]
  },
  {
   "cell_type": "code",
   "execution_count": 578,
   "id": "62e4dedc",
   "metadata": {},
   "outputs": [],
   "source": [
    "def simulate_trajectory_for_lambda(lbd_value, model, n_time_steps=20, T=1, x0=1):\n",
    "    strat = np.zeros(n_time_steps)\n",
    "    strat[0] = x0\n",
    "    lamb = lbd_value\n",
    "    t_values = np.linspace(0, T, n_time_steps)\n",
    "    \n",
    "    results = [{'t': 0, 'x': strat[0], 'lbd': lamb}]\n",
    "    \n",
    "    for i, t in enumerate(t_values):\n",
    "        if i == 0:\n",
    "            continue\n",
    "\n",
    "        inputs = tf.convert_to_tensor([[t, strat[i-1]/x0, lamb]], dtype=tf.float32)\n",
    "        action = model(inputs)[0, 0].numpy()\n",
    "        sell_fraction = tf.clip_by_value(action, 0, 1)\n",
    "        proposed_sell_amount = sell_fraction * strat[i-1]\n",
    "\n",
    "        strat[i] = max(strat[i-1] - proposed_sell_amount, 0)\n",
    "        results.append({'t': t, 'x': strat[i], 'lbd': lamb})\n",
    "    \n",
    "    return results"
   ]
  },
  {
   "cell_type": "code",
   "execution_count": 579,
   "id": "ca05d1e5",
   "metadata": {},
   "outputs": [],
   "source": [
    "def run_simulations_for_lambdas(lambda_values, model, n_time_steps, T, x0):\n",
    "    all_results = []\n",
    "    \n",
    "    for lamb in lambda_values:\n",
    "        simulation_results = simulate_trajectory_for_lambda(lamb, model, n_time_steps, T, x0)\n",
    "        for result in simulation_results: result['lbd'] = lamb\n",
    "        all_results.extend(simulation_results)\n",
    "        \n",
    "    return all_results"
   ]
  },
  {
   "cell_type": "code",
   "execution_count": 589,
   "id": "2d7abd09",
   "metadata": {},
   "outputs": [],
   "source": [
    "def run_simulation(lr=1e-3, n_traj=100, n_time_steps=20, x0=1, sigma=0.2, eta=1.1e-4, episodes=100, order=\"IS\"):\n",
    "    optimizer = tf.keras.optimizers.Adam(learning_rate=lr)\n",
    "    model = create_model()\n",
    "    \n",
    "    # Training risk aversion parameter\n",
    "    lbd_value = 0.01\n",
    "    action_noise_std=0.0\n",
    "    T = 1\n",
    "    \n",
    "    # Model training\n",
    "    trained_model = train_model(\n",
    "        order, model, optimizer, episodes, \n",
    "        n_traj=n_traj, n_time_steps=n_time_steps, x0=x0, \n",
    "        lbd_value=lbd_value, sigma=sigma, eta=eta, action_noise_std=action_noise_std)\n",
    "    \n",
    "    # Running simulations\n",
    "    lambda_values = [0.0001, 0.001, 0.01, 1, 10]\n",
    "    all_results = run_simulations_for_lambdas(lambda_values, trained_model, n_time_steps, T, x0)\n",
    "    \n",
    "    return all_results"
   ]
  },
  {
   "cell_type": "code",
   "execution_count": 590,
   "id": "1084ff06",
   "metadata": {},
   "outputs": [],
   "source": [
    "simulation_results = run_simulation(order=\"IS\")"
   ]
  },
  {
   "cell_type": "code",
   "execution_count": 591,
   "id": "195234ca",
   "metadata": {},
   "outputs": [
    {
     "data": {
      "application/vnd.plotly.v1+json": {
       "config": {
        "plotlyServerURL": "https://plot.ly"
       },
       "data": [
        {
         "hovertemplate": "Market Aversion=0.0001<br>Time=%{x}<br>Remaining Inventory=%{y}<extra></extra>",
         "legendgroup": "0.0001",
         "line": {
          "color": "#636efa",
          "dash": "solid"
         },
         "marker": {
          "symbol": "circle"
         },
         "mode": "lines",
         "name": "0.0001",
         "orientation": "v",
         "showlegend": true,
         "type": "scatter",
         "x": [
          0,
          0.05263157894736842,
          0.10526315789473684,
          0.15789473684210525,
          0.21052631578947367,
          0.2631578947368421,
          0.3157894736842105,
          0.3684210526315789,
          0.42105263157894735,
          0.47368421052631576,
          0.5263157894736842,
          0.5789473684210527,
          0.631578947368421,
          0.6842105263157894,
          0.7368421052631579,
          0.7894736842105263,
          0.8421052631578947,
          0.894736842105263,
          0.9473684210526315,
          1
         ],
         "xaxis": "x",
         "y": [
          1,
          0.5636460781097412,
          0.3034345805644989,
          0.15904086828231812,
          0.08292017132043839,
          0.043416716158390045,
          0.02279861830174923,
          0.012029314413666725,
          0.0063844225369393826,
          0.003410209668800235,
          0.0018336939392611384,
          0.0009926658822223544,
          0.0005410299636423588,
          0.00029687664937227964,
          0.00016400343156419694,
          9.120802133111283e-05,
          5.106166281620972e-05,
          2.877504812204279e-05,
          1.6321988368872553e-05,
          9.31841987039661e-06
         ],
         "yaxis": "y"
        },
        {
         "hovertemplate": "Market Aversion=0.001<br>Time=%{x}<br>Remaining Inventory=%{y}<extra></extra>",
         "legendgroup": "0.001",
         "line": {
          "color": "#EF553B",
          "dash": "solid"
         },
         "marker": {
          "symbol": "circle"
         },
         "mode": "lines",
         "name": "0.001",
         "orientation": "v",
         "showlegend": true,
         "type": "scatter",
         "x": [
          0,
          0.05263157894736842,
          0.10526315789473684,
          0.15789473684210525,
          0.21052631578947367,
          0.2631578947368421,
          0.3157894736842105,
          0.3684210526315789,
          0.42105263157894735,
          0.47368421052631576,
          0.5263157894736842,
          0.5789473684210527,
          0.631578947368421,
          0.6842105263157894,
          0.7368421052631579,
          0.7894736842105263,
          0.8421052631578947,
          0.894736842105263,
          0.9473684210526315,
          1
         ],
         "xaxis": "x",
         "y": [
          1,
          0.5635918378829956,
          0.3033754527568817,
          0.15900927782058716,
          0.08290556818246841,
          0.04341017082333565,
          0.022795747965574265,
          0.01202810276299715,
          0.006383940577507019,
          0.0034100378397852182,
          0.0018336472567170858,
          0.0009926653001457453,
          0.0005410429439507425,
          0.00029689102666452527,
          0.00016401533503085375,
          9.1216825239826e-05,
          5.106780372443609e-05,
          2.877918814192526e-05,
          1.6324716852977872e-05,
          9.320193385065068e-06
         ],
         "yaxis": "y"
        },
        {
         "hovertemplate": "Market Aversion=0.01<br>Time=%{x}<br>Remaining Inventory=%{y}<extra></extra>",
         "legendgroup": "0.01",
         "line": {
          "color": "#00cc96",
          "dash": "solid"
         },
         "marker": {
          "symbol": "circle"
         },
         "mode": "lines",
         "name": "0.01",
         "orientation": "v",
         "showlegend": true,
         "type": "scatter",
         "x": [
          0,
          0.05263157894736842,
          0.10526315789473684,
          0.15789473684210525,
          0.21052631578947367,
          0.2631578947368421,
          0.3157894736842105,
          0.3684210526315789,
          0.42105263157894735,
          0.47368421052631576,
          0.5263157894736842,
          0.5789473684210527,
          0.631578947368421,
          0.6842105263157894,
          0.7368421052631579,
          0.7894736842105263,
          0.8421052631578947,
          0.894736842105263,
          0.9473684210526315,
          1
         ],
         "xaxis": "x",
         "y": [
          1,
          0.5630492568016052,
          0.3027840852737427,
          0.15869325399398804,
          0.08277139812707901,
          0.04334980994462967,
          0.022769728675484657,
          0.012017401866614819,
          0.006379868369549513,
          0.003408717690035701,
          0.0018333944026380777,
          0.0009927740320563316,
          0.0005412350874394178,
          0.000297068792860955,
          0.0001641531998757273,
          9.13153708097525e-05,
          5.1135120884282514e-05,
          2.8823911634390242e-05,
          1.635390435694717e-05,
          9.339019925391767e-06
         ],
         "yaxis": "y"
        },
        {
         "hovertemplate": "Market Aversion=1.0<br>Time=%{x}<br>Remaining Inventory=%{y}<extra></extra>",
         "legendgroup": "1.0",
         "line": {
          "color": "#ab63fa",
          "dash": "solid"
         },
         "marker": {
          "symbol": "circle"
         },
         "mode": "lines",
         "name": "1.0",
         "orientation": "v",
         "showlegend": true,
         "type": "scatter",
         "x": [
          0,
          0.05263157894736842,
          0.10526315789473684,
          0.15789473684210525,
          0.21052631578947367,
          0.2631578947368421,
          0.3157894736842105,
          0.3684210526315789,
          0.42105263157894735,
          0.47368421052631576,
          0.5263157894736842,
          0.5789473684210527,
          0.631578947368421,
          0.6842105263157894,
          0.7368421052631579,
          0.7894736842105263,
          0.8421052631578947,
          0.894736842105263,
          0.9473684210526315,
          1
         ],
         "xaxis": "x",
         "y": [
          1,
          0.5554889440536499,
          0.2992301881313324,
          0.16058477759361267,
          0.08616337180137634,
          0.04642298445105553,
          0.02519572153687477,
          0.013783210888504982,
          0.0075928098522126675,
          0.004212262574583292,
          0.0023530556354671717,
          0.0013239133404567838,
          0.0007507932605221868,
          0.00042912093340419233,
          0.0002471738844178617,
          0.00014346765237860382,
          8.38437263155356e-05,
          4.931413786835037e-05,
          2.9189832275733352e-05,
          1.7387050320394337e-05
         ],
         "yaxis": "y"
        },
        {
         "hovertemplate": "Market Aversion=10.0<br>Time=%{x}<br>Remaining Inventory=%{y}<extra></extra>",
         "legendgroup": "10.0",
         "line": {
          "color": "#FFA15A",
          "dash": "solid"
         },
         "marker": {
          "symbol": "circle"
         },
         "mode": "lines",
         "name": "10.0",
         "orientation": "v",
         "showlegend": true,
         "type": "scatter",
         "x": [
          0,
          0.05263157894736842,
          0.10526315789473684,
          0.15789473684210525,
          0.21052631578947367,
          0.2631578947368421,
          0.3157894736842105,
          0.3684210526315789,
          0.42105263157894735,
          0.47368421052631576,
          0.5263157894736842,
          0.5789473684210527,
          0.631578947368421,
          0.6842105263157894,
          0.7368421052631579,
          0.7894736842105263,
          0.8421052631578947,
          0.894736842105263,
          0.9473684210526315,
          1
         ],
         "xaxis": "x",
         "y": [
          1,
          0.6978822946548462,
          0.4831133484840393,
          0.33389341831207275,
          0.23186808824539185,
          0.16177663207054138,
          0.1133975088596344,
          0.07985053956508636,
          0.05648253858089447,
          0.040131859481334686,
          0.0286405012011528,
          0.02052893489599228,
          0.014778327196836472,
          0.010684056207537651,
          0.007756724953651428,
          0.005654985085129738,
          0.004139760509133339,
          0.003042913042008877,
          0.002245714422315359,
          0.001663988921791315
         ],
         "yaxis": "y"
        }
       ],
       "layout": {
        "height": 300,
        "legend": {
         "title": {
          "text": "Market Aversion"
         },
         "tracegroupgap": 0
        },
        "margin": {
         "t": 60
        },
        "template": {
         "data": {
          "bar": [
           {
            "error_x": {
             "color": "#2a3f5f"
            },
            "error_y": {
             "color": "#2a3f5f"
            },
            "marker": {
             "line": {
              "color": "white",
              "width": 0.5
             },
             "pattern": {
              "fillmode": "overlay",
              "size": 10,
              "solidity": 0.2
             }
            },
            "type": "bar"
           }
          ],
          "barpolar": [
           {
            "marker": {
             "line": {
              "color": "white",
              "width": 0.5
             },
             "pattern": {
              "fillmode": "overlay",
              "size": 10,
              "solidity": 0.2
             }
            },
            "type": "barpolar"
           }
          ],
          "carpet": [
           {
            "aaxis": {
             "endlinecolor": "#2a3f5f",
             "gridcolor": "#C8D4E3",
             "linecolor": "#C8D4E3",
             "minorgridcolor": "#C8D4E3",
             "startlinecolor": "#2a3f5f"
            },
            "baxis": {
             "endlinecolor": "#2a3f5f",
             "gridcolor": "#C8D4E3",
             "linecolor": "#C8D4E3",
             "minorgridcolor": "#C8D4E3",
             "startlinecolor": "#2a3f5f"
            },
            "type": "carpet"
           }
          ],
          "choropleth": [
           {
            "colorbar": {
             "outlinewidth": 0,
             "ticks": ""
            },
            "type": "choropleth"
           }
          ],
          "contour": [
           {
            "colorbar": {
             "outlinewidth": 0,
             "ticks": ""
            },
            "colorscale": [
             [
              0,
              "#0d0887"
             ],
             [
              0.1111111111111111,
              "#46039f"
             ],
             [
              0.2222222222222222,
              "#7201a8"
             ],
             [
              0.3333333333333333,
              "#9c179e"
             ],
             [
              0.4444444444444444,
              "#bd3786"
             ],
             [
              0.5555555555555556,
              "#d8576b"
             ],
             [
              0.6666666666666666,
              "#ed7953"
             ],
             [
              0.7777777777777778,
              "#fb9f3a"
             ],
             [
              0.8888888888888888,
              "#fdca26"
             ],
             [
              1,
              "#f0f921"
             ]
            ],
            "type": "contour"
           }
          ],
          "contourcarpet": [
           {
            "colorbar": {
             "outlinewidth": 0,
             "ticks": ""
            },
            "type": "contourcarpet"
           }
          ],
          "heatmap": [
           {
            "colorbar": {
             "outlinewidth": 0,
             "ticks": ""
            },
            "colorscale": [
             [
              0,
              "#0d0887"
             ],
             [
              0.1111111111111111,
              "#46039f"
             ],
             [
              0.2222222222222222,
              "#7201a8"
             ],
             [
              0.3333333333333333,
              "#9c179e"
             ],
             [
              0.4444444444444444,
              "#bd3786"
             ],
             [
              0.5555555555555556,
              "#d8576b"
             ],
             [
              0.6666666666666666,
              "#ed7953"
             ],
             [
              0.7777777777777778,
              "#fb9f3a"
             ],
             [
              0.8888888888888888,
              "#fdca26"
             ],
             [
              1,
              "#f0f921"
             ]
            ],
            "type": "heatmap"
           }
          ],
          "heatmapgl": [
           {
            "colorbar": {
             "outlinewidth": 0,
             "ticks": ""
            },
            "colorscale": [
             [
              0,
              "#0d0887"
             ],
             [
              0.1111111111111111,
              "#46039f"
             ],
             [
              0.2222222222222222,
              "#7201a8"
             ],
             [
              0.3333333333333333,
              "#9c179e"
             ],
             [
              0.4444444444444444,
              "#bd3786"
             ],
             [
              0.5555555555555556,
              "#d8576b"
             ],
             [
              0.6666666666666666,
              "#ed7953"
             ],
             [
              0.7777777777777778,
              "#fb9f3a"
             ],
             [
              0.8888888888888888,
              "#fdca26"
             ],
             [
              1,
              "#f0f921"
             ]
            ],
            "type": "heatmapgl"
           }
          ],
          "histogram": [
           {
            "marker": {
             "pattern": {
              "fillmode": "overlay",
              "size": 10,
              "solidity": 0.2
             }
            },
            "type": "histogram"
           }
          ],
          "histogram2d": [
           {
            "colorbar": {
             "outlinewidth": 0,
             "ticks": ""
            },
            "colorscale": [
             [
              0,
              "#0d0887"
             ],
             [
              0.1111111111111111,
              "#46039f"
             ],
             [
              0.2222222222222222,
              "#7201a8"
             ],
             [
              0.3333333333333333,
              "#9c179e"
             ],
             [
              0.4444444444444444,
              "#bd3786"
             ],
             [
              0.5555555555555556,
              "#d8576b"
             ],
             [
              0.6666666666666666,
              "#ed7953"
             ],
             [
              0.7777777777777778,
              "#fb9f3a"
             ],
             [
              0.8888888888888888,
              "#fdca26"
             ],
             [
              1,
              "#f0f921"
             ]
            ],
            "type": "histogram2d"
           }
          ],
          "histogram2dcontour": [
           {
            "colorbar": {
             "outlinewidth": 0,
             "ticks": ""
            },
            "colorscale": [
             [
              0,
              "#0d0887"
             ],
             [
              0.1111111111111111,
              "#46039f"
             ],
             [
              0.2222222222222222,
              "#7201a8"
             ],
             [
              0.3333333333333333,
              "#9c179e"
             ],
             [
              0.4444444444444444,
              "#bd3786"
             ],
             [
              0.5555555555555556,
              "#d8576b"
             ],
             [
              0.6666666666666666,
              "#ed7953"
             ],
             [
              0.7777777777777778,
              "#fb9f3a"
             ],
             [
              0.8888888888888888,
              "#fdca26"
             ],
             [
              1,
              "#f0f921"
             ]
            ],
            "type": "histogram2dcontour"
           }
          ],
          "mesh3d": [
           {
            "colorbar": {
             "outlinewidth": 0,
             "ticks": ""
            },
            "type": "mesh3d"
           }
          ],
          "parcoords": [
           {
            "line": {
             "colorbar": {
              "outlinewidth": 0,
              "ticks": ""
             }
            },
            "type": "parcoords"
           }
          ],
          "pie": [
           {
            "automargin": true,
            "type": "pie"
           }
          ],
          "scatter": [
           {
            "fillpattern": {
             "fillmode": "overlay",
             "size": 10,
             "solidity": 0.2
            },
            "type": "scatter"
           }
          ],
          "scatter3d": [
           {
            "line": {
             "colorbar": {
              "outlinewidth": 0,
              "ticks": ""
             }
            },
            "marker": {
             "colorbar": {
              "outlinewidth": 0,
              "ticks": ""
             }
            },
            "type": "scatter3d"
           }
          ],
          "scattercarpet": [
           {
            "marker": {
             "colorbar": {
              "outlinewidth": 0,
              "ticks": ""
             }
            },
            "type": "scattercarpet"
           }
          ],
          "scattergeo": [
           {
            "marker": {
             "colorbar": {
              "outlinewidth": 0,
              "ticks": ""
             }
            },
            "type": "scattergeo"
           }
          ],
          "scattergl": [
           {
            "marker": {
             "colorbar": {
              "outlinewidth": 0,
              "ticks": ""
             }
            },
            "type": "scattergl"
           }
          ],
          "scattermapbox": [
           {
            "marker": {
             "colorbar": {
              "outlinewidth": 0,
              "ticks": ""
             }
            },
            "type": "scattermapbox"
           }
          ],
          "scatterpolar": [
           {
            "marker": {
             "colorbar": {
              "outlinewidth": 0,
              "ticks": ""
             }
            },
            "type": "scatterpolar"
           }
          ],
          "scatterpolargl": [
           {
            "marker": {
             "colorbar": {
              "outlinewidth": 0,
              "ticks": ""
             }
            },
            "type": "scatterpolargl"
           }
          ],
          "scatterternary": [
           {
            "marker": {
             "colorbar": {
              "outlinewidth": 0,
              "ticks": ""
             }
            },
            "type": "scatterternary"
           }
          ],
          "surface": [
           {
            "colorbar": {
             "outlinewidth": 0,
             "ticks": ""
            },
            "colorscale": [
             [
              0,
              "#0d0887"
             ],
             [
              0.1111111111111111,
              "#46039f"
             ],
             [
              0.2222222222222222,
              "#7201a8"
             ],
             [
              0.3333333333333333,
              "#9c179e"
             ],
             [
              0.4444444444444444,
              "#bd3786"
             ],
             [
              0.5555555555555556,
              "#d8576b"
             ],
             [
              0.6666666666666666,
              "#ed7953"
             ],
             [
              0.7777777777777778,
              "#fb9f3a"
             ],
             [
              0.8888888888888888,
              "#fdca26"
             ],
             [
              1,
              "#f0f921"
             ]
            ],
            "type": "surface"
           }
          ],
          "table": [
           {
            "cells": {
             "fill": {
              "color": "#EBF0F8"
             },
             "line": {
              "color": "white"
             }
            },
            "header": {
             "fill": {
              "color": "#C8D4E3"
             },
             "line": {
              "color": "white"
             }
            },
            "type": "table"
           }
          ]
         },
         "layout": {
          "annotationdefaults": {
           "arrowcolor": "#2a3f5f",
           "arrowhead": 0,
           "arrowwidth": 1
          },
          "autotypenumbers": "strict",
          "coloraxis": {
           "colorbar": {
            "outlinewidth": 0,
            "ticks": ""
           }
          },
          "colorscale": {
           "diverging": [
            [
             0,
             "#8e0152"
            ],
            [
             0.1,
             "#c51b7d"
            ],
            [
             0.2,
             "#de77ae"
            ],
            [
             0.3,
             "#f1b6da"
            ],
            [
             0.4,
             "#fde0ef"
            ],
            [
             0.5,
             "#f7f7f7"
            ],
            [
             0.6,
             "#e6f5d0"
            ],
            [
             0.7,
             "#b8e186"
            ],
            [
             0.8,
             "#7fbc41"
            ],
            [
             0.9,
             "#4d9221"
            ],
            [
             1,
             "#276419"
            ]
           ],
           "sequential": [
            [
             0,
             "#0d0887"
            ],
            [
             0.1111111111111111,
             "#46039f"
            ],
            [
             0.2222222222222222,
             "#7201a8"
            ],
            [
             0.3333333333333333,
             "#9c179e"
            ],
            [
             0.4444444444444444,
             "#bd3786"
            ],
            [
             0.5555555555555556,
             "#d8576b"
            ],
            [
             0.6666666666666666,
             "#ed7953"
            ],
            [
             0.7777777777777778,
             "#fb9f3a"
            ],
            [
             0.8888888888888888,
             "#fdca26"
            ],
            [
             1,
             "#f0f921"
            ]
           ],
           "sequentialminus": [
            [
             0,
             "#0d0887"
            ],
            [
             0.1111111111111111,
             "#46039f"
            ],
            [
             0.2222222222222222,
             "#7201a8"
            ],
            [
             0.3333333333333333,
             "#9c179e"
            ],
            [
             0.4444444444444444,
             "#bd3786"
            ],
            [
             0.5555555555555556,
             "#d8576b"
            ],
            [
             0.6666666666666666,
             "#ed7953"
            ],
            [
             0.7777777777777778,
             "#fb9f3a"
            ],
            [
             0.8888888888888888,
             "#fdca26"
            ],
            [
             1,
             "#f0f921"
            ]
           ]
          },
          "colorway": [
           "#636efa",
           "#EF553B",
           "#00cc96",
           "#ab63fa",
           "#FFA15A",
           "#19d3f3",
           "#FF6692",
           "#B6E880",
           "#FF97FF",
           "#FECB52"
          ],
          "font": {
           "color": "#2a3f5f"
          },
          "geo": {
           "bgcolor": "white",
           "lakecolor": "white",
           "landcolor": "white",
           "showlakes": true,
           "showland": true,
           "subunitcolor": "#C8D4E3"
          },
          "hoverlabel": {
           "align": "left"
          },
          "hovermode": "closest",
          "mapbox": {
           "style": "light"
          },
          "paper_bgcolor": "white",
          "plot_bgcolor": "white",
          "polar": {
           "angularaxis": {
            "gridcolor": "#EBF0F8",
            "linecolor": "#EBF0F8",
            "ticks": ""
           },
           "bgcolor": "white",
           "radialaxis": {
            "gridcolor": "#EBF0F8",
            "linecolor": "#EBF0F8",
            "ticks": ""
           }
          },
          "scene": {
           "xaxis": {
            "backgroundcolor": "white",
            "gridcolor": "#DFE8F3",
            "gridwidth": 2,
            "linecolor": "#EBF0F8",
            "showbackground": true,
            "ticks": "",
            "zerolinecolor": "#EBF0F8"
           },
           "yaxis": {
            "backgroundcolor": "white",
            "gridcolor": "#DFE8F3",
            "gridwidth": 2,
            "linecolor": "#EBF0F8",
            "showbackground": true,
            "ticks": "",
            "zerolinecolor": "#EBF0F8"
           },
           "zaxis": {
            "backgroundcolor": "white",
            "gridcolor": "#DFE8F3",
            "gridwidth": 2,
            "linecolor": "#EBF0F8",
            "showbackground": true,
            "ticks": "",
            "zerolinecolor": "#EBF0F8"
           }
          },
          "shapedefaults": {
           "line": {
            "color": "#2a3f5f"
           }
          },
          "ternary": {
           "aaxis": {
            "gridcolor": "#DFE8F3",
            "linecolor": "#A2B1C6",
            "ticks": ""
           },
           "baxis": {
            "gridcolor": "#DFE8F3",
            "linecolor": "#A2B1C6",
            "ticks": ""
           },
           "bgcolor": "white",
           "caxis": {
            "gridcolor": "#DFE8F3",
            "linecolor": "#A2B1C6",
            "ticks": ""
           }
          },
          "title": {
           "x": 0.05
          },
          "xaxis": {
           "automargin": true,
           "gridcolor": "#EBF0F8",
           "linecolor": "#EBF0F8",
           "ticks": "",
           "title": {
            "standoff": 15
           },
           "zerolinecolor": "#EBF0F8",
           "zerolinewidth": 2
          },
          "yaxis": {
           "automargin": true,
           "gridcolor": "#EBF0F8",
           "linecolor": "#EBF0F8",
           "ticks": "",
           "title": {
            "standoff": 15
           },
           "zerolinecolor": "#EBF0F8",
           "zerolinewidth": 2
          }
         }
        },
        "width": 900,
        "xaxis": {
         "anchor": "y",
         "domain": [
          0,
          1
         ],
         "range": [
          0,
          1
         ],
         "title": {
          "text": "Time"
         }
        },
        "yaxis": {
         "anchor": "x",
         "domain": [
          0,
          1
         ],
         "title": {
          "text": "Remaining Inventory"
         }
        }
       }
      },
      "text/html": [
       "<div>                            <div id=\"1f260c5b-5a84-47da-a4da-9299c4b3cea1\" class=\"plotly-graph-div\" style=\"height:300px; width:900px;\"></div>            <script type=\"text/javascript\">                require([\"plotly\"], function(Plotly) {                    window.PLOTLYENV=window.PLOTLYENV || {};                                    if (document.getElementById(\"1f260c5b-5a84-47da-a4da-9299c4b3cea1\")) {                    Plotly.newPlot(                        \"1f260c5b-5a84-47da-a4da-9299c4b3cea1\",                        [{\"hovertemplate\":\"Market Aversion=0.0001<br>Time=%{x}<br>Remaining Inventory=%{y}<extra></extra>\",\"legendgroup\":\"0.0001\",\"line\":{\"color\":\"#636efa\",\"dash\":\"solid\"},\"marker\":{\"symbol\":\"circle\"},\"mode\":\"lines\",\"name\":\"0.0001\",\"orientation\":\"v\",\"showlegend\":true,\"x\":[0.0,0.05263157894736842,0.10526315789473684,0.15789473684210525,0.21052631578947367,0.2631578947368421,0.3157894736842105,0.3684210526315789,0.42105263157894735,0.47368421052631576,0.5263157894736842,0.5789473684210527,0.631578947368421,0.6842105263157894,0.7368421052631579,0.7894736842105263,0.8421052631578947,0.894736842105263,0.9473684210526315,1.0],\"xaxis\":\"x\",\"y\":[1.0,0.5636460781097412,0.3034345805644989,0.15904086828231812,0.08292017132043839,0.043416716158390045,0.02279861830174923,0.012029314413666725,0.0063844225369393826,0.003410209668800235,0.0018336939392611384,0.0009926658822223544,0.0005410299636423588,0.00029687664937227964,0.00016400343156419694,9.120802133111283e-05,5.106166281620972e-05,2.877504812204279e-05,1.6321988368872553e-05,9.31841987039661e-06],\"yaxis\":\"y\",\"type\":\"scatter\"},{\"hovertemplate\":\"Market Aversion=0.001<br>Time=%{x}<br>Remaining Inventory=%{y}<extra></extra>\",\"legendgroup\":\"0.001\",\"line\":{\"color\":\"#EF553B\",\"dash\":\"solid\"},\"marker\":{\"symbol\":\"circle\"},\"mode\":\"lines\",\"name\":\"0.001\",\"orientation\":\"v\",\"showlegend\":true,\"x\":[0.0,0.05263157894736842,0.10526315789473684,0.15789473684210525,0.21052631578947367,0.2631578947368421,0.3157894736842105,0.3684210526315789,0.42105263157894735,0.47368421052631576,0.5263157894736842,0.5789473684210527,0.631578947368421,0.6842105263157894,0.7368421052631579,0.7894736842105263,0.8421052631578947,0.894736842105263,0.9473684210526315,1.0],\"xaxis\":\"x\",\"y\":[1.0,0.5635918378829956,0.3033754527568817,0.15900927782058716,0.08290556818246841,0.04341017082333565,0.022795747965574265,0.01202810276299715,0.006383940577507019,0.0034100378397852182,0.0018336472567170858,0.0009926653001457453,0.0005410429439507425,0.00029689102666452527,0.00016401533503085375,9.1216825239826e-05,5.106780372443609e-05,2.877918814192526e-05,1.6324716852977872e-05,9.320193385065068e-06],\"yaxis\":\"y\",\"type\":\"scatter\"},{\"hovertemplate\":\"Market Aversion=0.01<br>Time=%{x}<br>Remaining Inventory=%{y}<extra></extra>\",\"legendgroup\":\"0.01\",\"line\":{\"color\":\"#00cc96\",\"dash\":\"solid\"},\"marker\":{\"symbol\":\"circle\"},\"mode\":\"lines\",\"name\":\"0.01\",\"orientation\":\"v\",\"showlegend\":true,\"x\":[0.0,0.05263157894736842,0.10526315789473684,0.15789473684210525,0.21052631578947367,0.2631578947368421,0.3157894736842105,0.3684210526315789,0.42105263157894735,0.47368421052631576,0.5263157894736842,0.5789473684210527,0.631578947368421,0.6842105263157894,0.7368421052631579,0.7894736842105263,0.8421052631578947,0.894736842105263,0.9473684210526315,1.0],\"xaxis\":\"x\",\"y\":[1.0,0.5630492568016052,0.3027840852737427,0.15869325399398804,0.08277139812707901,0.04334980994462967,0.022769728675484657,0.012017401866614819,0.006379868369549513,0.003408717690035701,0.0018333944026380777,0.0009927740320563316,0.0005412350874394178,0.000297068792860955,0.0001641531998757273,9.13153708097525e-05,5.1135120884282514e-05,2.8823911634390242e-05,1.635390435694717e-05,9.339019925391767e-06],\"yaxis\":\"y\",\"type\":\"scatter\"},{\"hovertemplate\":\"Market Aversion=1.0<br>Time=%{x}<br>Remaining Inventory=%{y}<extra></extra>\",\"legendgroup\":\"1.0\",\"line\":{\"color\":\"#ab63fa\",\"dash\":\"solid\"},\"marker\":{\"symbol\":\"circle\"},\"mode\":\"lines\",\"name\":\"1.0\",\"orientation\":\"v\",\"showlegend\":true,\"x\":[0.0,0.05263157894736842,0.10526315789473684,0.15789473684210525,0.21052631578947367,0.2631578947368421,0.3157894736842105,0.3684210526315789,0.42105263157894735,0.47368421052631576,0.5263157894736842,0.5789473684210527,0.631578947368421,0.6842105263157894,0.7368421052631579,0.7894736842105263,0.8421052631578947,0.894736842105263,0.9473684210526315,1.0],\"xaxis\":\"x\",\"y\":[1.0,0.5554889440536499,0.2992301881313324,0.16058477759361267,0.08616337180137634,0.04642298445105553,0.02519572153687477,0.013783210888504982,0.0075928098522126675,0.004212262574583292,0.0023530556354671717,0.0013239133404567838,0.0007507932605221868,0.00042912093340419233,0.0002471738844178617,0.00014346765237860382,8.38437263155356e-05,4.931413786835037e-05,2.9189832275733352e-05,1.7387050320394337e-05],\"yaxis\":\"y\",\"type\":\"scatter\"},{\"hovertemplate\":\"Market Aversion=10.0<br>Time=%{x}<br>Remaining Inventory=%{y}<extra></extra>\",\"legendgroup\":\"10.0\",\"line\":{\"color\":\"#FFA15A\",\"dash\":\"solid\"},\"marker\":{\"symbol\":\"circle\"},\"mode\":\"lines\",\"name\":\"10.0\",\"orientation\":\"v\",\"showlegend\":true,\"x\":[0.0,0.05263157894736842,0.10526315789473684,0.15789473684210525,0.21052631578947367,0.2631578947368421,0.3157894736842105,0.3684210526315789,0.42105263157894735,0.47368421052631576,0.5263157894736842,0.5789473684210527,0.631578947368421,0.6842105263157894,0.7368421052631579,0.7894736842105263,0.8421052631578947,0.894736842105263,0.9473684210526315,1.0],\"xaxis\":\"x\",\"y\":[1.0,0.6978822946548462,0.4831133484840393,0.33389341831207275,0.23186808824539185,0.16177663207054138,0.1133975088596344,0.07985053956508636,0.05648253858089447,0.040131859481334686,0.0286405012011528,0.02052893489599228,0.014778327196836472,0.010684056207537651,0.007756724953651428,0.005654985085129738,0.004139760509133339,0.003042913042008877,0.002245714422315359,0.001663988921791315],\"yaxis\":\"y\",\"type\":\"scatter\"}],                        {\"template\":{\"data\":{\"barpolar\":[{\"marker\":{\"line\":{\"color\":\"white\",\"width\":0.5},\"pattern\":{\"fillmode\":\"overlay\",\"size\":10,\"solidity\":0.2}},\"type\":\"barpolar\"}],\"bar\":[{\"error_x\":{\"color\":\"#2a3f5f\"},\"error_y\":{\"color\":\"#2a3f5f\"},\"marker\":{\"line\":{\"color\":\"white\",\"width\":0.5},\"pattern\":{\"fillmode\":\"overlay\",\"size\":10,\"solidity\":0.2}},\"type\":\"bar\"}],\"carpet\":[{\"aaxis\":{\"endlinecolor\":\"#2a3f5f\",\"gridcolor\":\"#C8D4E3\",\"linecolor\":\"#C8D4E3\",\"minorgridcolor\":\"#C8D4E3\",\"startlinecolor\":\"#2a3f5f\"},\"baxis\":{\"endlinecolor\":\"#2a3f5f\",\"gridcolor\":\"#C8D4E3\",\"linecolor\":\"#C8D4E3\",\"minorgridcolor\":\"#C8D4E3\",\"startlinecolor\":\"#2a3f5f\"},\"type\":\"carpet\"}],\"choropleth\":[{\"colorbar\":{\"outlinewidth\":0,\"ticks\":\"\"},\"type\":\"choropleth\"}],\"contourcarpet\":[{\"colorbar\":{\"outlinewidth\":0,\"ticks\":\"\"},\"type\":\"contourcarpet\"}],\"contour\":[{\"colorbar\":{\"outlinewidth\":0,\"ticks\":\"\"},\"colorscale\":[[0.0,\"#0d0887\"],[0.1111111111111111,\"#46039f\"],[0.2222222222222222,\"#7201a8\"],[0.3333333333333333,\"#9c179e\"],[0.4444444444444444,\"#bd3786\"],[0.5555555555555556,\"#d8576b\"],[0.6666666666666666,\"#ed7953\"],[0.7777777777777778,\"#fb9f3a\"],[0.8888888888888888,\"#fdca26\"],[1.0,\"#f0f921\"]],\"type\":\"contour\"}],\"heatmapgl\":[{\"colorbar\":{\"outlinewidth\":0,\"ticks\":\"\"},\"colorscale\":[[0.0,\"#0d0887\"],[0.1111111111111111,\"#46039f\"],[0.2222222222222222,\"#7201a8\"],[0.3333333333333333,\"#9c179e\"],[0.4444444444444444,\"#bd3786\"],[0.5555555555555556,\"#d8576b\"],[0.6666666666666666,\"#ed7953\"],[0.7777777777777778,\"#fb9f3a\"],[0.8888888888888888,\"#fdca26\"],[1.0,\"#f0f921\"]],\"type\":\"heatmapgl\"}],\"heatmap\":[{\"colorbar\":{\"outlinewidth\":0,\"ticks\":\"\"},\"colorscale\":[[0.0,\"#0d0887\"],[0.1111111111111111,\"#46039f\"],[0.2222222222222222,\"#7201a8\"],[0.3333333333333333,\"#9c179e\"],[0.4444444444444444,\"#bd3786\"],[0.5555555555555556,\"#d8576b\"],[0.6666666666666666,\"#ed7953\"],[0.7777777777777778,\"#fb9f3a\"],[0.8888888888888888,\"#fdca26\"],[1.0,\"#f0f921\"]],\"type\":\"heatmap\"}],\"histogram2dcontour\":[{\"colorbar\":{\"outlinewidth\":0,\"ticks\":\"\"},\"colorscale\":[[0.0,\"#0d0887\"],[0.1111111111111111,\"#46039f\"],[0.2222222222222222,\"#7201a8\"],[0.3333333333333333,\"#9c179e\"],[0.4444444444444444,\"#bd3786\"],[0.5555555555555556,\"#d8576b\"],[0.6666666666666666,\"#ed7953\"],[0.7777777777777778,\"#fb9f3a\"],[0.8888888888888888,\"#fdca26\"],[1.0,\"#f0f921\"]],\"type\":\"histogram2dcontour\"}],\"histogram2d\":[{\"colorbar\":{\"outlinewidth\":0,\"ticks\":\"\"},\"colorscale\":[[0.0,\"#0d0887\"],[0.1111111111111111,\"#46039f\"],[0.2222222222222222,\"#7201a8\"],[0.3333333333333333,\"#9c179e\"],[0.4444444444444444,\"#bd3786\"],[0.5555555555555556,\"#d8576b\"],[0.6666666666666666,\"#ed7953\"],[0.7777777777777778,\"#fb9f3a\"],[0.8888888888888888,\"#fdca26\"],[1.0,\"#f0f921\"]],\"type\":\"histogram2d\"}],\"histogram\":[{\"marker\":{\"pattern\":{\"fillmode\":\"overlay\",\"size\":10,\"solidity\":0.2}},\"type\":\"histogram\"}],\"mesh3d\":[{\"colorbar\":{\"outlinewidth\":0,\"ticks\":\"\"},\"type\":\"mesh3d\"}],\"parcoords\":[{\"line\":{\"colorbar\":{\"outlinewidth\":0,\"ticks\":\"\"}},\"type\":\"parcoords\"}],\"pie\":[{\"automargin\":true,\"type\":\"pie\"}],\"scatter3d\":[{\"line\":{\"colorbar\":{\"outlinewidth\":0,\"ticks\":\"\"}},\"marker\":{\"colorbar\":{\"outlinewidth\":0,\"ticks\":\"\"}},\"type\":\"scatter3d\"}],\"scattercarpet\":[{\"marker\":{\"colorbar\":{\"outlinewidth\":0,\"ticks\":\"\"}},\"type\":\"scattercarpet\"}],\"scattergeo\":[{\"marker\":{\"colorbar\":{\"outlinewidth\":0,\"ticks\":\"\"}},\"type\":\"scattergeo\"}],\"scattergl\":[{\"marker\":{\"colorbar\":{\"outlinewidth\":0,\"ticks\":\"\"}},\"type\":\"scattergl\"}],\"scattermapbox\":[{\"marker\":{\"colorbar\":{\"outlinewidth\":0,\"ticks\":\"\"}},\"type\":\"scattermapbox\"}],\"scatterpolargl\":[{\"marker\":{\"colorbar\":{\"outlinewidth\":0,\"ticks\":\"\"}},\"type\":\"scatterpolargl\"}],\"scatterpolar\":[{\"marker\":{\"colorbar\":{\"outlinewidth\":0,\"ticks\":\"\"}},\"type\":\"scatterpolar\"}],\"scatter\":[{\"fillpattern\":{\"fillmode\":\"overlay\",\"size\":10,\"solidity\":0.2},\"type\":\"scatter\"}],\"scatterternary\":[{\"marker\":{\"colorbar\":{\"outlinewidth\":0,\"ticks\":\"\"}},\"type\":\"scatterternary\"}],\"surface\":[{\"colorbar\":{\"outlinewidth\":0,\"ticks\":\"\"},\"colorscale\":[[0.0,\"#0d0887\"],[0.1111111111111111,\"#46039f\"],[0.2222222222222222,\"#7201a8\"],[0.3333333333333333,\"#9c179e\"],[0.4444444444444444,\"#bd3786\"],[0.5555555555555556,\"#d8576b\"],[0.6666666666666666,\"#ed7953\"],[0.7777777777777778,\"#fb9f3a\"],[0.8888888888888888,\"#fdca26\"],[1.0,\"#f0f921\"]],\"type\":\"surface\"}],\"table\":[{\"cells\":{\"fill\":{\"color\":\"#EBF0F8\"},\"line\":{\"color\":\"white\"}},\"header\":{\"fill\":{\"color\":\"#C8D4E3\"},\"line\":{\"color\":\"white\"}},\"type\":\"table\"}]},\"layout\":{\"annotationdefaults\":{\"arrowcolor\":\"#2a3f5f\",\"arrowhead\":0,\"arrowwidth\":1},\"autotypenumbers\":\"strict\",\"coloraxis\":{\"colorbar\":{\"outlinewidth\":0,\"ticks\":\"\"}},\"colorscale\":{\"diverging\":[[0,\"#8e0152\"],[0.1,\"#c51b7d\"],[0.2,\"#de77ae\"],[0.3,\"#f1b6da\"],[0.4,\"#fde0ef\"],[0.5,\"#f7f7f7\"],[0.6,\"#e6f5d0\"],[0.7,\"#b8e186\"],[0.8,\"#7fbc41\"],[0.9,\"#4d9221\"],[1,\"#276419\"]],\"sequential\":[[0.0,\"#0d0887\"],[0.1111111111111111,\"#46039f\"],[0.2222222222222222,\"#7201a8\"],[0.3333333333333333,\"#9c179e\"],[0.4444444444444444,\"#bd3786\"],[0.5555555555555556,\"#d8576b\"],[0.6666666666666666,\"#ed7953\"],[0.7777777777777778,\"#fb9f3a\"],[0.8888888888888888,\"#fdca26\"],[1.0,\"#f0f921\"]],\"sequentialminus\":[[0.0,\"#0d0887\"],[0.1111111111111111,\"#46039f\"],[0.2222222222222222,\"#7201a8\"],[0.3333333333333333,\"#9c179e\"],[0.4444444444444444,\"#bd3786\"],[0.5555555555555556,\"#d8576b\"],[0.6666666666666666,\"#ed7953\"],[0.7777777777777778,\"#fb9f3a\"],[0.8888888888888888,\"#fdca26\"],[1.0,\"#f0f921\"]]},\"colorway\":[\"#636efa\",\"#EF553B\",\"#00cc96\",\"#ab63fa\",\"#FFA15A\",\"#19d3f3\",\"#FF6692\",\"#B6E880\",\"#FF97FF\",\"#FECB52\"],\"font\":{\"color\":\"#2a3f5f\"},\"geo\":{\"bgcolor\":\"white\",\"lakecolor\":\"white\",\"landcolor\":\"white\",\"showlakes\":true,\"showland\":true,\"subunitcolor\":\"#C8D4E3\"},\"hoverlabel\":{\"align\":\"left\"},\"hovermode\":\"closest\",\"mapbox\":{\"style\":\"light\"},\"paper_bgcolor\":\"white\",\"plot_bgcolor\":\"white\",\"polar\":{\"angularaxis\":{\"gridcolor\":\"#EBF0F8\",\"linecolor\":\"#EBF0F8\",\"ticks\":\"\"},\"bgcolor\":\"white\",\"radialaxis\":{\"gridcolor\":\"#EBF0F8\",\"linecolor\":\"#EBF0F8\",\"ticks\":\"\"}},\"scene\":{\"xaxis\":{\"backgroundcolor\":\"white\",\"gridcolor\":\"#DFE8F3\",\"gridwidth\":2,\"linecolor\":\"#EBF0F8\",\"showbackground\":true,\"ticks\":\"\",\"zerolinecolor\":\"#EBF0F8\"},\"yaxis\":{\"backgroundcolor\":\"white\",\"gridcolor\":\"#DFE8F3\",\"gridwidth\":2,\"linecolor\":\"#EBF0F8\",\"showbackground\":true,\"ticks\":\"\",\"zerolinecolor\":\"#EBF0F8\"},\"zaxis\":{\"backgroundcolor\":\"white\",\"gridcolor\":\"#DFE8F3\",\"gridwidth\":2,\"linecolor\":\"#EBF0F8\",\"showbackground\":true,\"ticks\":\"\",\"zerolinecolor\":\"#EBF0F8\"}},\"shapedefaults\":{\"line\":{\"color\":\"#2a3f5f\"}},\"ternary\":{\"aaxis\":{\"gridcolor\":\"#DFE8F3\",\"linecolor\":\"#A2B1C6\",\"ticks\":\"\"},\"baxis\":{\"gridcolor\":\"#DFE8F3\",\"linecolor\":\"#A2B1C6\",\"ticks\":\"\"},\"bgcolor\":\"white\",\"caxis\":{\"gridcolor\":\"#DFE8F3\",\"linecolor\":\"#A2B1C6\",\"ticks\":\"\"}},\"title\":{\"x\":0.05},\"xaxis\":{\"automargin\":true,\"gridcolor\":\"#EBF0F8\",\"linecolor\":\"#EBF0F8\",\"ticks\":\"\",\"title\":{\"standoff\":15},\"zerolinecolor\":\"#EBF0F8\",\"zerolinewidth\":2},\"yaxis\":{\"automargin\":true,\"gridcolor\":\"#EBF0F8\",\"linecolor\":\"#EBF0F8\",\"ticks\":\"\",\"title\":{\"standoff\":15},\"zerolinecolor\":\"#EBF0F8\",\"zerolinewidth\":2}}},\"xaxis\":{\"anchor\":\"y\",\"domain\":[0.0,1.0],\"title\":{\"text\":\"Time\"},\"range\":[0,1]},\"yaxis\":{\"anchor\":\"x\",\"domain\":[0.0,1.0],\"title\":{\"text\":\"Remaining Inventory\"}},\"legend\":{\"title\":{\"text\":\"Market Aversion\"},\"tracegroupgap\":0},\"margin\":{\"t\":60},\"width\":900,\"height\":300},                        {\"responsive\": true}                    ).then(function(){\n",
       "                            \n",
       "var gd = document.getElementById('1f260c5b-5a84-47da-a4da-9299c4b3cea1');\n",
       "var x = new MutationObserver(function (mutations, observer) {{\n",
       "        var display = window.getComputedStyle(gd).display;\n",
       "        if (!display || display === 'none') {{\n",
       "            console.log([gd, 'removed!']);\n",
       "            Plotly.purge(gd);\n",
       "            observer.disconnect();\n",
       "        }}\n",
       "}});\n",
       "\n",
       "// Listen for the removal of the full notebook cells\n",
       "var notebookContainer = gd.closest('#notebook-container');\n",
       "if (notebookContainer) {{\n",
       "    x.observe(notebookContainer, {childList: true});\n",
       "}}\n",
       "\n",
       "// Listen for the clearing of the current output cell\n",
       "var outputEl = gd.closest('.output');\n",
       "if (outputEl) {{\n",
       "    x.observe(outputEl, {childList: true});\n",
       "}}\n",
       "\n",
       "                        })                };                });            </script>        </div>"
      ]
     },
     "metadata": {},
     "output_type": "display_data"
    }
   ],
   "source": [
    "plot_simulation_results(simulation_results)"
   ]
  }
 ],
 "metadata": {
  "kernelspec": {
   "display_name": "Python 3 (ipykernel)",
   "language": "python",
   "name": "python3"
  },
  "language_info": {
   "codemirror_mode": {
    "name": "ipython",
    "version": 3
   },
   "file_extension": ".py",
   "mimetype": "text/x-python",
   "name": "python",
   "nbconvert_exporter": "python",
   "pygments_lexer": "ipython3",
   "version": "3.11.4"
  }
 },
 "nbformat": 4,
 "nbformat_minor": 5
}
