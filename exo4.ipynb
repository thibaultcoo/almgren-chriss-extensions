{
 "cells": [
  {
   "cell_type": "markdown",
   "id": "2d0aaf2d",
   "metadata": {},
   "source": [
    "## M203 Electronic markets project"
   ]
  },
  {
   "cell_type": "markdown",
   "id": "a0d3fce2",
   "metadata": {},
   "source": [
    "### Exercise 4 - Deep learning approach to optimal liquidation"
   ]
  },
  {
   "cell_type": "markdown",
   "id": "15a30d81",
   "metadata": {},
   "source": [
    "Marchessaux François, Collin Thibault"
   ]
  },
  {
   "cell_type": "markdown",
   "id": "185f9078",
   "metadata": {},
   "source": [
    "### Loading libraries and initializing parameters"
   ]
  },
  {
   "cell_type": "code",
   "execution_count": null,
   "id": "7bbc534e",
   "metadata": {},
   "outputs": [],
   "source": [
    "import tensorflow as tf\n",
    "from tensorflow import keras\n",
    "from tensorflow.keras import layers### Loading libraries and initializing parameters\n",
    "import numpy as np\n",
    "import plotly.express as px\n",
    "import pandas as pd"
   ]
  },
  {
   "cell_type": "markdown",
   "id": "e63e29fd",
   "metadata": {},
   "source": [
    "### Splitting the deep learning algorithm into several subfunctions"
   ]
  },
  {
   "cell_type": "code",
   "execution_count": null,
   "id": "c7a475f5",
   "metadata": {},
   "outputs": [],
   "source": [
    "def create_model():\n",
    "    \"\"\"\n",
    "    Builds the artificial neural network architecture\n",
    "    \"\"\"\n",
    "    \n",
    "    model = keras.Sequential([\n",
    "        keras.Input(shape=(3,)),\n",
    "        layers.Dense(50, activation='relu', kernel_regularizer=tf.keras.regularizers.l2(0.0001)),\n",
    "        layers.BatchNormalization(),\n",
    "        layers.Dropout(0.8),\n",
    "        layers.Dense(50, activation='relu', kernel_regularizer=tf.keras.regularizers.l2(0.0001)),\n",
    "        layers.BatchNormalization(),\n",
    "        layers.Dropout(0.8),\n",
    "        layers.Dense(1, activation=\"sigmoid\")])\n",
    "    \n",
    "    return model"
   ]
  },
  {
   "cell_type": "code",
   "execution_count": null,
   "id": "fd2d2b2f",
   "metadata": {},
   "outputs": [],
   "source": [
    "def plot_simulation_results(simulation_results):\n",
    "    \"\"\"\n",
    "    Plots the liquidation strategies resulting from the neural network optimizarion\n",
    "    \"\"\"\n",
    "    \n",
    "    df = pd.DataFrame(simulation_results)\n",
    "    \n",
    "    fig = px.line(df, x='t', y='x', color='lbd', template='plotly_white',\n",
    "                  labels={\"x\": \"Remaining Inventory\", \"t\": \"Time\", \"lbd\": \"Market Aversion\"})\n",
    "    \n",
    "    fig.update_layout(width=900, height=300)\n",
    "    fig.update_layout(xaxis=dict(range=[0, 1]))\n",
    "    \n",
    "    fig.show()"
   ]
  },
  {
   "cell_type": "code",
   "execution_count": null,
   "id": "f66cea2e",
   "metadata": {},
   "outputs": [],
   "source": [
    "def run_episode(order, model, optimizer, n_traj, n_time_steps, x0, lbd_value, sigma, eta, action_noise_std, episode, sto_vol):\n",
    "    \"\"\"\n",
    "    Runs one 'epoch' of the global network so as to learn the optimal strategy\n",
    "    \"\"\"\n",
    "    \n",
    "    with tf.GradientTape() as tape:\n",
    "\n",
    "        # Initializing parameters for trajectory generation\n",
    "        r = np.zeros((n_time_steps, n_traj), dtype=np.float32)\n",
    "        x = tf.zeros((n_time_steps, n_traj), dtype=tf.float32)\n",
    "        log_density = tf.zeros((n_time_steps, n_traj), dtype=tf.float32)\n",
    "\n",
    "        # Initializing the action grid\n",
    "        x = tf.tensor_scatter_nd_update(x, [[0]], [x0 * tf.ones(n_traj)])\n",
    "        \n",
    "        # Parameters for the CIR model\n",
    "        dt = 1 / n_time_steps  # Time step size (assuming 252 trading days in a year)\n",
    "        kappa = 2  # Speed of mean reversion\n",
    "        theta = 0.2  # Long-term mean volatility\n",
    "        sigma_vol = 0.4  # Volatility of volatility (sigma in the CIR model)\n",
    "        V0 = sigma ** 2\n",
    "\n",
    "        # Pre-allocate the sigma array\n",
    "        sigmas = np.zeros((n_time_steps, 1), dtype=np.float32)\n",
    "        \n",
    "        np.random.seed(42)\n",
    "\n",
    "        # CIR stochastic volatility process\n",
    "        if sto_vol:\n",
    "            sigmas[0] = V0\n",
    "            Z = np.random.normal(size=(n_time_steps - 1, 1))\n",
    "            for t in range(1, n_time_steps):\n",
    "                sigmas[t] = sigmas[t-1] + kappa * (theta - sigmas[t-1]) * dt + sigma_vol * np.sqrt(np.maximum(sigmas[t-1], 0)) * np.sqrt(dt) * Z[t-1]\n",
    "        else:\n",
    "            sigmas.fill(np.sqrt(sigma))\n",
    "\n",
    "        for i in range(1, n_time_steps):\n",
    "\n",
    "            # Filling the current normalized time and spatial position\n",
    "            current_time = tf.fill([n_traj], i / n_time_steps, name='current_time')\n",
    "            current_position = x[i-1] / x0\n",
    "\n",
    "            # Input time and normalized position into the policy network\n",
    "            inputs = tf.stack([current_time, current_position, tf.fill([n_traj], lbd_value)], axis=1)\n",
    "\n",
    "            # Neural network predicts the action to take, without noise\n",
    "            output_no_noise = model(inputs)[:, 0]\n",
    "\n",
    "            # Convert neural network output to a proposed selling action\n",
    "            proposed_sell_amount = output_no_noise * x[i-1]\n",
    "\n",
    "            # Add exploration noise\n",
    "            noise = action_noise_std * proposed_sell_amount * tf.random.normal(shape=(n_traj,))\n",
    "            sell_amount = proposed_sell_amount + noise\n",
    "\n",
    "            # Inventory constraints\n",
    "            sell_amount = tf.maximum(sell_amount, 0.0)\n",
    "            sell_amount = tf.minimum(sell_amount, x[i-1])\n",
    "\n",
    "            # Inventory update\n",
    "            new_inventory = x[i-1] - sell_amount\n",
    "            x = tf.tensor_scatter_nd_update(x, [[i]], [new_inventory])\n",
    "\n",
    "            log_density_i = -((sell_amount - output_no_noise) / (x0 * action_noise_std)) ** 2 / 2\n",
    "            log_density = tf.tensor_scatter_nd_update(log_density, [[i]], [log_density_i])\n",
    "\n",
    "            x_dot = (x[i] - x[i-1])\n",
    "\n",
    "            if order == \"IS\":\n",
    "                inventory_penalty = lbd_value * (sigmas[i] ** 2) * (x[i] ** 2)\n",
    "                liquidation_penalty = eta * (x_dot ** 2)\n",
    "\n",
    "            if order == \"TC\":\n",
    "                inventory_penalty = lbd_value * (sigmas[i] ** 2) * ((x[i] - x0) ** 2)\n",
    "                liquidation_penalty = eta * (x_dot ** 2)\n",
    "            \n",
    "            if order == \"POV\":\n",
    "                v = np.sqrt(((x0 ** 2) * lbd_value * (sigmas[i] ** 2)) / (3 * eta))\n",
    "                inventory_penalty = (lbd_value * (sigmas[i] ** 2) * (x0 ** 2)) / (3 * v)\n",
    "                liquidation_penalty = eta * v\n",
    "            \n",
    "            if i == n_time_steps - 1:\n",
    "                final_penalty = tf.where(x[i] > 0, 10e18 * tf.ones_like(x[i]), tf.zeros_like(x[i]))\n",
    "            else:\n",
    "                final_penalty = tf.zeros_like(x[i])\n",
    "\n",
    "            r_i = - (inventory_penalty + liquidation_penalty + final_penalty)                \n",
    "            r = tf.tensor_scatter_nd_update(r, [[i]], [r_i])\n",
    "\n",
    "        payoff = tf.reverse(tf.cumsum(tf.reverse(r, axis=[0]), axis=0), axis=[0])\n",
    "\n",
    "        loss = -tf.reduce_mean(log_density * tf.cast(payoff, dtype=tf.float32))\n",
    "            \n",
    "    return loss"
   ]
  },
  {
   "cell_type": "code",
   "execution_count": null,
   "id": "a1ec9d6b",
   "metadata": {},
   "outputs": [],
   "source": [
    "def train_model(order, model, optimizer, episodes, sto_vol, **kwargs):\n",
    "    \"\"\"\n",
    "    Trains the model by iteratively fitting new optimal strategies through several 'epochs'\n",
    "    \"\"\"\n",
    "    \n",
    "    for episode in range(episodes):\n",
    "        loss = run_episode(order, model, optimizer, **kwargs, episode=episode, sto_vol=sto_vol)\n",
    "            \n",
    "    return model"
   ]
  },
  {
   "cell_type": "code",
   "execution_count": null,
   "id": "62e4dedc",
   "metadata": {},
   "outputs": [],
   "source": [
    "def simulate_trajectory_for_lambda(lbd_value, model, n_time_steps=20, T=1, x0=1):\n",
    "    \"\"\"\n",
    "    Simulate for one value of risk aversion\n",
    "    \"\"\"\n",
    "    \n",
    "    strat = np.zeros(n_time_steps)\n",
    "    strat[0] = x0\n",
    "    lamb = lbd_value\n",
    "    t_values = np.linspace(0, T, n_time_steps)\n",
    "    \n",
    "    results = [{'t': 0, 'x': strat[0], 'lbd': lamb}]\n",
    "    \n",
    "    for i, t in enumerate(t_values):\n",
    "        if i == 0:\n",
    "            continue\n",
    "\n",
    "        inputs = tf.convert_to_tensor([[t, strat[i-1]/x0, lamb]], dtype=tf.float32)\n",
    "        action = model(inputs)[0, 0].numpy()\n",
    "        sell_fraction = tf.clip_by_value(action, 0, 1)\n",
    "        proposed_sell_amount = sell_fraction * strat[i-1]\n",
    "\n",
    "        strat[i] = max(strat[i-1] - proposed_sell_amount, 0)\n",
    "        results.append({'t': t, 'x': strat[i], 'lbd': lamb})\n",
    "    \n",
    "    return results"
   ]
  },
  {
   "cell_type": "code",
   "execution_count": null,
   "id": "ca05d1e5",
   "metadata": {},
   "outputs": [],
   "source": [
    "def run_simulations_for_lambdas(lambda_values, model, n_time_steps, T, x0):\n",
    "    \"\"\"\n",
    "    Simulates multiple trajectories for multiple lambdas, but considering the same exact model\n",
    "    \"\"\"\n",
    "    \n",
    "    all_results = []\n",
    "    \n",
    "    for lamb in lambda_values:\n",
    "        simulation_results = simulate_trajectory_for_lambda(lamb, model, n_time_steps, T, x0)\n",
    "        for result in simulation_results: result['lbd'] = lamb\n",
    "        all_results.extend(simulation_results)\n",
    "        \n",
    "    return all_results"
   ]
  },
  {
   "cell_type": "code",
   "execution_count": null,
   "id": "2d7abd09",
   "metadata": {},
   "outputs": [],
   "source": [
    "def run_simulation(lr=1e-3, n_traj=100, n_time_steps=20, x0=1, sigma=0.2, eta=1.1e-4, episodes=100, order=\"IS\"):\n",
    "    \"\"\"\n",
    "    Runs the global deep learning algorithm for all lambda parameters, and given initializing market parameters\n",
    "    \"\"\"\n",
    "    \n",
    "    optimizer = tf.keras.optimizers.Adam(learning_rate=lr)\n",
    "    model = create_model()\n",
    "    \n",
    "    # Training risk aversion parameter\n",
    "    lbd_value = 0.01\n",
    "    action_noise_std = 0.0\n",
    "    T = 1\n",
    "    \n",
    "    # Model training\n",
    "    trained_model = train_model(\n",
    "        order, model, optimizer, episodes, \n",
    "        n_traj=n_traj, n_time_steps=n_time_steps, x0=x0, \n",
    "        lbd_value=lbd_value, sigma=sigma, eta=eta, action_noise_std=action_noise_std, sto_vol=False)\n",
    "    \n",
    "    # Running simulations\n",
    "    lambda_values = [0.0001, 0.001, 0.01, 1, 10]\n",
    "    all_results = run_simulations_for_lambdas(lambda_values, trained_model, n_time_steps, T, x0)\n",
    "    \n",
    "    return all_results"
   ]
  },
  {
   "cell_type": "markdown",
   "id": "37d0384e",
   "metadata": {},
   "source": [
    "### Plotting the resulting optimal liquidation strategy for both orders"
   ]
  },
  {
   "cell_type": "code",
   "execution_count": null,
   "id": "1084ff06",
   "metadata": {},
   "outputs": [],
   "source": [
    "simulation_results = run_simulation(order=\"IS\")"
   ]
  },
  {
   "cell_type": "code",
   "execution_count": null,
   "id": "195234ca",
   "metadata": {},
   "outputs": [],
   "source": [
    "plot_simulation_results(simulation_results)"
   ]
  },
  {
   "cell_type": "markdown",
   "id": "03b7d5a9",
   "metadata": {},
   "source": [
    "### Plotting the optimal liquidation strategy given stochastic volatility of the asset"
   ]
  },
  {
   "cell_type": "code",
   "execution_count": null,
   "id": "19bb1955",
   "metadata": {},
   "outputs": [],
   "source": [
    "def run_simulation_sto_vol(lr=1e-3, n_traj=100, n_time_steps=20, x0=1, sigma=0.2, eta=1.1e-4, episodes=100, order=\"IS\"):\n",
    "    \"\"\"\n",
    "    Leveraging ANNs to introduce stochastic diffusion for the tradeable asset volatility\n",
    "    \"\"\"\n",
    "    \n",
    "    optimizer = tf.keras.optimizers.Adam(learning_rate=lr)\n",
    "    model = create_model()\n",
    "    \n",
    "    # Training risk aversion parameter\n",
    "    lbd_value = 0.01\n",
    "    action_noise_std = 0.0\n",
    "    T = 1\n",
    "    \n",
    "    # Model training\n",
    "    trained_model = train_model(\n",
    "        order, model, optimizer, episodes, \n",
    "        n_traj=n_traj, n_time_steps=n_time_steps, x0=x0, \n",
    "        lbd_value=lbd_value, sigma=sigma, eta=eta, action_noise_std=action_noise_std, sto_vol=True)\n",
    "    \n",
    "    # Running simulations\n",
    "    lambda_values = [0.0001, 0.001, 0.01, 1, 10]\n",
    "    all_results = run_simulations_for_lambdas(lambda_values, trained_model, n_time_steps, T, x0)\n",
    "    \n",
    "    return all_results"
   ]
  },
  {
   "cell_type": "code",
   "execution_count": null,
   "id": "bf2e4bed",
   "metadata": {},
   "outputs": [],
   "source": [
    "simulation_results = run_simulation_sto_vol(order=\"IS\")"
   ]
  },
  {
   "cell_type": "code",
   "execution_count": null,
   "id": "c347990f",
   "metadata": {},
   "outputs": [],
   "source": [
    "plot_simulation_results(simulation_results)"
   ]
  }
 ],
 "metadata": {
  "kernelspec": {
   "display_name": "Python 3 (ipykernel)",
   "language": "python",
   "name": "python3"
  },
  "language_info": {
   "codemirror_mode": {
    "name": "ipython",
    "version": 3
   },
   "file_extension": ".py",
   "mimetype": "text/x-python",
   "name": "python",
   "nbconvert_exporter": "python",
   "pygments_lexer": "ipython3",
   "version": "3.11.4"
  }
 },
 "nbformat": 4,
 "nbformat_minor": 5
}
