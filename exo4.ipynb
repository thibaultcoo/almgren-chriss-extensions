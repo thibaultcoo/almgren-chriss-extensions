{
 "cells": [
  {
   "cell_type": "markdown",
   "id": "2d0aaf2d",
   "metadata": {},
   "source": [
    "## M203 Electronic markets project"
   ]
  },
  {
   "cell_type": "markdown",
   "id": "a0d3fce2",
   "metadata": {},
   "source": [
    "### Exercise 4 - Deep learning approach to optimal liquidation"
   ]
  },
  {
   "cell_type": "markdown",
   "id": "15a30d81",
   "metadata": {},
   "source": [
    "Marchessaux François, Collin Thibault"
   ]
  },
  {
   "cell_type": "markdown",
   "id": "185f9078",
   "metadata": {},
   "source": [
    "### Loading libraries and initializing parameters"
   ]
  },
  {
   "cell_type": "code",
   "execution_count": 55,
   "id": "7bbc534e",
   "metadata": {},
   "outputs": [],
   "source": [
    "import tensorflow as tf\n",
    "from tensorflow import keras\n",
    "from tensorflow.keras import layers### Loading libraries and initializing parameters\n",
    "import numpy as np\n",
    "import plotly.express as px\n",
    "import pandas as pd"
   ]
  },
  {
   "cell_type": "markdown",
   "id": "e63e29fd",
   "metadata": {},
   "source": [
    "### Splitting the deep learning algorithm into several subfunctions"
   ]
  },
  {
   "cell_type": "code",
   "execution_count": 56,
   "id": "c7a475f5",
   "metadata": {},
   "outputs": [],
   "source": [
    "def create_model():\n",
    "    \"\"\"\n",
    "    Builds the artificial neural network architecture\n",
    "    \"\"\"\n",
    "    \n",
    "    model = keras.Sequential([\n",
    "        keras.Input(shape=(3,)),\n",
    "        layers.Dense(50, activation='relu', kernel_regularizer=tf.keras.regularizers.l2(0.0001)),\n",
    "        layers.BatchNormalization(),\n",
    "        layers.Dropout(0.8),\n",
    "        layers.Dense(50, activation='relu', kernel_regularizer=tf.keras.regularizers.l2(0.0001)),\n",
    "        layers.BatchNormalization(),\n",
    "        layers.Dropout(0.8),\n",
    "        layers.Dense(1, activation=\"sigmoid\")])\n",
    "    \n",
    "    return model"
   ]
  },
  {
   "cell_type": "code",
   "execution_count": 57,
   "id": "fd2d2b2f",
   "metadata": {},
   "outputs": [],
   "source": [
    "def plot_simulation_results(simulation_results):\n",
    "    \"\"\"\n",
    "    Plots the liquidation strategies resulting from the neural network optimizarion\n",
    "    \"\"\"\n",
    "    \n",
    "    df = pd.DataFrame(simulation_results)\n",
    "    \n",
    "    fig = px.line(df, x='t', y='x', color='lbd', template='plotly_white',\n",
    "                  labels={\"x\": \"Remaining Inventory\", \"t\": \"Time\", \"lbd\": \"Market Aversion\"})\n",
    "    \n",
    "    fig.update_layout(width=900, height=300)\n",
    "    fig.update_layout(xaxis=dict(range=[0, 1]))\n",
    "    \n",
    "    fig.show()"
   ]
  },
  {
   "cell_type": "code",
   "execution_count": 58,
   "id": "f66cea2e",
   "metadata": {},
   "outputs": [],
   "source": [
    "def run_episode(order, model, optimizer, n_traj, n_time_steps, x0, lbd_value, sigma, eta, action_noise_std, episode, sto_vol):\n",
    "    \"\"\"\n",
    "    Runs one 'epoch' of the global network so as to learn the optimal strategy\n",
    "    \"\"\"\n",
    "    \n",
    "    with tf.GradientTape() as tape:\n",
    "\n",
    "        # Initializing parameters for trajectory generation\n",
    "        r = np.zeros((n_time_steps, n_traj), dtype=np.float32)\n",
    "        x = tf.zeros((n_time_steps, n_traj), dtype=tf.float32)\n",
    "        log_density = tf.zeros((n_time_steps, n_traj), dtype=tf.float32)\n",
    "\n",
    "        # Initializing the action grid\n",
    "        x = tf.tensor_scatter_nd_update(x, [[0]], [x0 * tf.ones(n_traj)])\n",
    "        \n",
    "        # Parameters for the CIR model\n",
    "        dt = 1 / n_time_steps  # Time step size (assuming 252 trading days in a year)\n",
    "        kappa = 2  # Speed of mean reversion\n",
    "        theta = 0.2  # Long-term mean volatility\n",
    "        sigma_vol = 0.4  # Volatility of volatility (sigma in the CIR model)\n",
    "        V0 = sigma ** 2\n",
    "\n",
    "        # Pre-allocate the sigma array\n",
    "        sigmas = np.zeros((n_time_steps, 1), dtype=np.float32)\n",
    "        \n",
    "        np.random.seed(42)\n",
    "\n",
    "        # CIR stochastic volatility process\n",
    "        if sto_vol:\n",
    "            sigmas[0] = V0\n",
    "            Z = np.random.normal(size=(n_time_steps - 1, 1))\n",
    "            for t in range(1, n_time_steps):\n",
    "                sigmas[t] = sigmas[t-1] + kappa * (theta - sigmas[t-1]) * dt + sigma_vol * np.sqrt(np.maximum(sigmas[t-1], 0)) * np.sqrt(dt) * Z[t-1]\n",
    "        else:\n",
    "            sigmas.fill(np.sqrt(sigma))\n",
    "\n",
    "        for i in range(1, n_time_steps):\n",
    "\n",
    "            # Filling the current normalized time and spatial position\n",
    "            current_time = tf.fill([n_traj], i / n_time_steps, name='current_time')\n",
    "            current_position = x[i-1] / x0\n",
    "\n",
    "            # Input time and normalized position into the policy network\n",
    "            inputs = tf.stack([current_time, current_position, tf.fill([n_traj], lbd_value)], axis=1)\n",
    "\n",
    "            # Neural network predicts the action to take, without noise\n",
    "            output_no_noise = model(inputs)[:, 0]\n",
    "\n",
    "            # Convert neural network output to a proposed selling action\n",
    "            proposed_sell_amount = output_no_noise * x[i-1]\n",
    "\n",
    "            # Add exploration noise\n",
    "            noise = action_noise_std * proposed_sell_amount * tf.random.normal(shape=(n_traj,))\n",
    "            sell_amount = proposed_sell_amount + noise\n",
    "\n",
    "            # Inventory constraints\n",
    "            sell_amount = tf.maximum(sell_amount, 0.0)\n",
    "            sell_amount = tf.minimum(sell_amount, x[i-1])\n",
    "\n",
    "            # Inventory update\n",
    "            new_inventory = x[i-1] - sell_amount\n",
    "            x = tf.tensor_scatter_nd_update(x, [[i]], [new_inventory])\n",
    "\n",
    "            log_density_i = -((sell_amount - output_no_noise) / (x0 * action_noise_std)) ** 2 / 2\n",
    "            log_density = tf.tensor_scatter_nd_update(log_density, [[i]], [log_density_i])\n",
    "\n",
    "            x_dot = (x[i] - x[i-1])\n",
    "\n",
    "            if order == \"IS\":\n",
    "                inventory_penalty = lbd_value * (sigmas[i] ** 2) * (x[i] ** 2)\n",
    "                liquidation_penalty = eta * (x_dot ** 2)\n",
    "\n",
    "            if order == \"TC\":\n",
    "                inventory_penalty = lbd_value * (sigmas[i] ** 2) * ((x[i] - x0) ** 2)\n",
    "                liquidation_penalty = eta * (x_dot ** 2)\n",
    "            \n",
    "            if order == \"POV\":\n",
    "                v = np.sqrt(((x0 ** 2) * lbd_value * (sigmas[i] ** 2)) / (3 * eta))\n",
    "                inventory_penalty = (lbd_value * (sigmas[i] ** 2) * (x0 ** 2)) / (3 * v)\n",
    "                liquidation_penalty = eta * v\n",
    "            \n",
    "            if i == n_time_steps - 1:\n",
    "                final_penalty = tf.where(x[i] > 0, 10e18 * tf.ones_like(x[i]), tf.zeros_like(x[i]))\n",
    "            else:\n",
    "                final_penalty = tf.zeros_like(x[i])\n",
    "\n",
    "            r_i = - (inventory_penalty + liquidation_penalty + final_penalty)                \n",
    "            r = tf.tensor_scatter_nd_update(r, [[i]], [r_i])\n",
    "\n",
    "        payoff = tf.reverse(tf.cumsum(tf.reverse(r, axis=[0]), axis=0), axis=[0])\n",
    "\n",
    "        loss = -tf.reduce_mean(log_density * tf.cast(payoff, dtype=tf.float32))\n",
    "            \n",
    "    return loss"
   ]
  },
  {
   "cell_type": "code",
   "execution_count": 59,
   "id": "a1ec9d6b",
   "metadata": {},
   "outputs": [],
   "source": [
    "def train_model(order, model, optimizer, episodes, sto_vol, **kwargs):\n",
    "    \"\"\"\n",
    "    Trains the model by iteratively fitting new optimal strategies through several 'epochs'\n",
    "    \"\"\"\n",
    "    \n",
    "    for episode in range(episodes):\n",
    "        loss = run_episode(order, model, optimizer, **kwargs, episode=episode, sto_vol=sto_vol)\n",
    "            \n",
    "    return model"
   ]
  },
  {
   "cell_type": "code",
   "execution_count": 60,
   "id": "62e4dedc",
   "metadata": {},
   "outputs": [],
   "source": [
    "def simulate_trajectory_for_lambda(lbd_value, model, n_time_steps=20, T=1, x0=1):\n",
    "    \"\"\"\n",
    "    Simulate for one value of risk aversion\n",
    "    \"\"\"\n",
    "    \n",
    "    strat = np.zeros(n_time_steps)\n",
    "    strat[0] = x0\n",
    "    lamb = lbd_value\n",
    "    t_values = np.linspace(0, T, n_time_steps)\n",
    "    \n",
    "    results = [{'t': 0, 'x': strat[0], 'lbd': lamb}]\n",
    "    \n",
    "    for i, t in enumerate(t_values):\n",
    "        if i == 0:\n",
    "            continue\n",
    "\n",
    "        inputs = tf.convert_to_tensor([[t, strat[i-1]/x0, lamb]], dtype=tf.float32)\n",
    "        action = model(inputs)[0, 0].numpy()\n",
    "        sell_fraction = tf.clip_by_value(action, 0, 1)\n",
    "        proposed_sell_amount = sell_fraction * strat[i-1]\n",
    "\n",
    "        strat[i] = max(strat[i-1] - proposed_sell_amount, 0)\n",
    "        results.append({'t': t, 'x': strat[i], 'lbd': lamb})\n",
    "    \n",
    "    return results"
   ]
  },
  {
   "cell_type": "code",
   "execution_count": 61,
   "id": "ca05d1e5",
   "metadata": {},
   "outputs": [],
   "source": [
    "def run_simulations_for_lambdas(lambda_values, model, n_time_steps, T, x0):\n",
    "    \"\"\"\n",
    "    Simulates multiple trajectories for multiple lambdas, but considering the same exact model\n",
    "    \"\"\"\n",
    "    \n",
    "    all_results = []\n",
    "    \n",
    "    for lamb in lambda_values:\n",
    "        simulation_results = simulate_trajectory_for_lambda(lamb, model, n_time_steps, T, x0)\n",
    "        for result in simulation_results: result['lbd'] = lamb\n",
    "        all_results.extend(simulation_results)\n",
    "        \n",
    "    return all_results"
   ]
  },
  {
   "cell_type": "code",
   "execution_count": 62,
   "id": "2d7abd09",
   "metadata": {},
   "outputs": [],
   "source": [
    "def run_simulation(lr=1e-3, n_traj=100, n_time_steps=20, x0=1, sigma=0.2, eta=1.1e-4, episodes=100, order=\"IS\"):\n",
    "    \"\"\"\n",
    "    Runs the global deep learning algorithm for all lambda parameters, and given initializing market parameters\n",
    "    \"\"\"\n",
    "    \n",
    "    optimizer = tf.keras.optimizers.Adam(learning_rate=lr)\n",
    "    model = create_model()\n",
    "    \n",
    "    # Training risk aversion parameter\n",
    "    lbd_value = 0.01\n",
    "    action_noise_std = 0.0\n",
    "    T = 1\n",
    "    \n",
    "    # Model training\n",
    "    trained_model = train_model(\n",
    "        order, model, optimizer, episodes, \n",
    "        n_traj=n_traj, n_time_steps=n_time_steps, x0=x0, \n",
    "        lbd_value=lbd_value, sigma=sigma, eta=eta, action_noise_std=action_noise_std, sto_vol=False)\n",
    "    \n",
    "    # Running simulations\n",
    "    lambda_values = [0.0001, 0.001, 0.01, 1, 10]\n",
    "    all_results = run_simulations_for_lambdas(lambda_values, trained_model, n_time_steps, T, x0)\n",
    "    \n",
    "    return all_results"
   ]
  },
  {
   "cell_type": "markdown",
   "id": "37d0384e",
   "metadata": {},
   "source": [
    "### Plotting the resulting optimal liquidation strategy for both orders"
   ]
  },
  {
   "cell_type": "code",
   "execution_count": 63,
   "id": "1084ff06",
   "metadata": {},
   "outputs": [],
   "source": [
    "simulation_results = run_simulation(order=\"IS\")"
   ]
  },
  {
   "cell_type": "code",
   "execution_count": 64,
   "id": "195234ca",
   "metadata": {},
   "outputs": [
    {
     "data": {
      "application/vnd.plotly.v1+json": {
       "config": {
        "plotlyServerURL": "https://plot.ly"
       },
       "data": [
        {
         "hovertemplate": "Market Aversion=0.0001<br>Time=%{x}<br>Remaining Inventory=%{y}<extra></extra>",
         "legendgroup": "0.0001",
         "line": {
          "color": "#636efa",
          "dash": "solid"
         },
         "marker": {
          "symbol": "circle"
         },
         "mode": "lines",
         "name": "0.0001",
         "orientation": "v",
         "showlegend": true,
         "type": "scatter",
         "x": [
          0,
          0.05263157894736842,
          0.10526315789473684,
          0.15789473684210525,
          0.21052631578947367,
          0.2631578947368421,
          0.3157894736842105,
          0.3684210526315789,
          0.42105263157894735,
          0.47368421052631576,
          0.5263157894736842,
          0.5789473684210527,
          0.631578947368421,
          0.6842105263157894,
          0.7368421052631579,
          0.7894736842105263,
          0.8421052631578947,
          0.894736842105263,
          0.9473684210526315,
          1
         ],
         "xaxis": "x",
         "y": [
          1,
          0.5231834053993225,
          0.26782432198524475,
          0.13500215113162994,
          0.06734725832939148,
          0.03334399312734604,
          0.016404088586568832,
          0.008035890758037567,
          0.003922679927200079,
          0.0019085609819740057,
          0.0009256411576643586,
          0.00044751749373972416,
          0.00021568233205471188,
          0.00010362332250224426,
          4.9629208660917357e-05,
          2.3694708943367004e-05,
          1.1277068551862612e-05,
          5.35017943548155e-06,
          2.530252459109761e-06,
          1.192831064145139e-06
         ],
         "yaxis": "y"
        },
        {
         "hovertemplate": "Market Aversion=0.001<br>Time=%{x}<br>Remaining Inventory=%{y}<extra></extra>",
         "legendgroup": "0.001",
         "line": {
          "color": "#EF553B",
          "dash": "solid"
         },
         "marker": {
          "symbol": "circle"
         },
         "mode": "lines",
         "name": "0.001",
         "orientation": "v",
         "showlegend": true,
         "type": "scatter",
         "x": [
          0,
          0.05263157894736842,
          0.10526315789473684,
          0.15789473684210525,
          0.21052631578947367,
          0.2631578947368421,
          0.3157894736842105,
          0.3684210526315789,
          0.42105263157894735,
          0.47368421052631576,
          0.5263157894736842,
          0.5789473684210527,
          0.631578947368421,
          0.6842105263157894,
          0.7368421052631579,
          0.7894736842105263,
          0.8421052631578947,
          0.894736842105263,
          0.9473684210526315,
          1
         ],
         "xaxis": "x",
         "y": [
          1,
          0.5231931805610657,
          0.2678331434726715,
          0.13500910997390747,
          0.06735051423311234,
          0.03334611654281616,
          0.01640554517507553,
          0.008036578074097633,
          0.003923012409359217,
          0.0019087214022874832,
          0.000925718224607408,
          0.00044755436829291284,
          0.00021569991076830775,
          0.00010363166802562773,
          4.963316678185947e-05,
          2.3696580683463253e-05,
          1.1277952580712736e-05,
          5.350594165065559e-06,
          2.5304466362285893e-06,
          1.192921672554803e-06
         ],
         "yaxis": "y"
        },
        {
         "hovertemplate": "Market Aversion=0.01<br>Time=%{x}<br>Remaining Inventory=%{y}<extra></extra>",
         "legendgroup": "0.01",
         "line": {
          "color": "#00cc96",
          "dash": "solid"
         },
         "marker": {
          "symbol": "circle"
         },
         "mode": "lines",
         "name": "0.01",
         "orientation": "v",
         "showlegend": true,
         "type": "scatter",
         "x": [
          0,
          0.05263157894736842,
          0.10526315789473684,
          0.15789473684210525,
          0.21052631578947367,
          0.2631578947368421,
          0.3157894736842105,
          0.3684210526315789,
          0.42105263157894735,
          0.47368421052631576,
          0.5263157894736842,
          0.5789473684210527,
          0.631578947368421,
          0.6842105263157894,
          0.7368421052631579,
          0.7894736842105263,
          0.8421052631578947,
          0.894736842105263,
          0.9473684210526315,
          1
         ],
         "xaxis": "x",
         "y": [
          1,
          0.5232722759246826,
          0.26791176199913025,
          0.13507376611232758,
          0.06739301979541779,
          0.0333692692220211,
          0.016421418637037277,
          0.00804570596665144,
          0.003927924204617739,
          0.0019112718291580677,
          0.0009270579321309924,
          0.0004482505901250988,
          0.00021605512301903218,
          0.00010380925232311711,
          4.972065653419122e-05,
          2.3739241441944614e-05,
          1.1298535355308559e-05,
          5.360422164812917e-06,
          2.535090061428491e-06,
          1.1951009355470887e-06
         ],
         "yaxis": "y"
        },
        {
         "hovertemplate": "Market Aversion=1.0<br>Time=%{x}<br>Remaining Inventory=%{y}<extra></extra>",
         "legendgroup": "1.0",
         "line": {
          "color": "#ab63fa",
          "dash": "solid"
         },
         "marker": {
          "symbol": "circle"
         },
         "mode": "lines",
         "name": "1.0",
         "orientation": "v",
         "showlegend": true,
         "type": "scatter",
         "x": [
          0,
          0.05263157894736842,
          0.10526315789473684,
          0.15789473684210525,
          0.21052631578947367,
          0.2631578947368421,
          0.3157894736842105,
          0.3684210526315789,
          0.42105263157894735,
          0.47368421052631576,
          0.5263157894736842,
          0.5789473684210527,
          0.631578947368421,
          0.6842105263157894,
          0.7368421052631579,
          0.7894736842105263,
          0.8421052631578947,
          0.894736842105263,
          0.9473684210526315,
          1
         ],
         "xaxis": "x",
         "y": [
          1,
          0.5185803174972534,
          0.26728934049606323,
          0.1379549652338028,
          0.07116818428039551,
          0.03647269308567047,
          0.01853218302130699,
          0.009337571449577808,
          0.00466375146061182,
          0.0023072834592312574,
          0.0011309817200526595,
          0.000549319782294333,
          0.00026467815041542053,
          0.00012650796270463616,
          5.998257256578654e-05,
          2.8215774364070967e-05,
          1.3199534805607982e-05,
          6.145488896436291e-06,
          2.8489473606896354e-06,
          1.3184779845687444e-06
         ],
         "yaxis": "y"
        },
        {
         "hovertemplate": "Market Aversion=10.0<br>Time=%{x}<br>Remaining Inventory=%{y}<extra></extra>",
         "legendgroup": "10.0",
         "line": {
          "color": "#FFA15A",
          "dash": "solid"
         },
         "marker": {
          "symbol": "circle"
         },
         "mode": "lines",
         "name": "10.0",
         "orientation": "v",
         "showlegend": true,
         "type": "scatter",
         "x": [
          0,
          0.05263157894736842,
          0.10526315789473684,
          0.15789473684210525,
          0.21052631578947367,
          0.2631578947368421,
          0.3157894736842105,
          0.3684210526315789,
          0.42105263157894735,
          0.47368421052631576,
          0.5263157894736842,
          0.5789473684210527,
          0.631578947368421,
          0.6842105263157894,
          0.7368421052631579,
          0.7894736842105263,
          0.8421052631578947,
          0.894736842105263,
          0.9473684210526315,
          1
         ],
         "xaxis": "x",
         "y": [
          1,
          0.7486225366592407,
          0.5625883936882019,
          0.4237651228904724,
          0.31963956356048584,
          0.24128663539886475,
          0.1821843385696411,
          0.13752664625644684,
          0.10376003384590149,
          0.078224316239357,
          0.05891777575016022,
          0.04431556165218353,
          0.033256541937589645,
          0.024903394281864166,
          0.018609199672937393,
          0.013875467702746391,
          0.010322583839297295,
          0.007661705836653709,
          0.00567333260551095,
          0.004190919920802116
         ],
         "yaxis": "y"
        }
       ],
       "layout": {
        "height": 300,
        "legend": {
         "title": {
          "text": "Market Aversion"
         },
         "tracegroupgap": 0
        },
        "margin": {
         "t": 60
        },
        "template": {
         "data": {
          "bar": [
           {
            "error_x": {
             "color": "#2a3f5f"
            },
            "error_y": {
             "color": "#2a3f5f"
            },
            "marker": {
             "line": {
              "color": "white",
              "width": 0.5
             },
             "pattern": {
              "fillmode": "overlay",
              "size": 10,
              "solidity": 0.2
             }
            },
            "type": "bar"
           }
          ],
          "barpolar": [
           {
            "marker": {
             "line": {
              "color": "white",
              "width": 0.5
             },
             "pattern": {
              "fillmode": "overlay",
              "size": 10,
              "solidity": 0.2
             }
            },
            "type": "barpolar"
           }
          ],
          "carpet": [
           {
            "aaxis": {
             "endlinecolor": "#2a3f5f",
             "gridcolor": "#C8D4E3",
             "linecolor": "#C8D4E3",
             "minorgridcolor": "#C8D4E3",
             "startlinecolor": "#2a3f5f"
            },
            "baxis": {
             "endlinecolor": "#2a3f5f",
             "gridcolor": "#C8D4E3",
             "linecolor": "#C8D4E3",
             "minorgridcolor": "#C8D4E3",
             "startlinecolor": "#2a3f5f"
            },
            "type": "carpet"
           }
          ],
          "choropleth": [
           {
            "colorbar": {
             "outlinewidth": 0,
             "ticks": ""
            },
            "type": "choropleth"
           }
          ],
          "contour": [
           {
            "colorbar": {
             "outlinewidth": 0,
             "ticks": ""
            },
            "colorscale": [
             [
              0,
              "#0d0887"
             ],
             [
              0.1111111111111111,
              "#46039f"
             ],
             [
              0.2222222222222222,
              "#7201a8"
             ],
             [
              0.3333333333333333,
              "#9c179e"
             ],
             [
              0.4444444444444444,
              "#bd3786"
             ],
             [
              0.5555555555555556,
              "#d8576b"
             ],
             [
              0.6666666666666666,
              "#ed7953"
             ],
             [
              0.7777777777777778,
              "#fb9f3a"
             ],
             [
              0.8888888888888888,
              "#fdca26"
             ],
             [
              1,
              "#f0f921"
             ]
            ],
            "type": "contour"
           }
          ],
          "contourcarpet": [
           {
            "colorbar": {
             "outlinewidth": 0,
             "ticks": ""
            },
            "type": "contourcarpet"
           }
          ],
          "heatmap": [
           {
            "colorbar": {
             "outlinewidth": 0,
             "ticks": ""
            },
            "colorscale": [
             [
              0,
              "#0d0887"
             ],
             [
              0.1111111111111111,
              "#46039f"
             ],
             [
              0.2222222222222222,
              "#7201a8"
             ],
             [
              0.3333333333333333,
              "#9c179e"
             ],
             [
              0.4444444444444444,
              "#bd3786"
             ],
             [
              0.5555555555555556,
              "#d8576b"
             ],
             [
              0.6666666666666666,
              "#ed7953"
             ],
             [
              0.7777777777777778,
              "#fb9f3a"
             ],
             [
              0.8888888888888888,
              "#fdca26"
             ],
             [
              1,
              "#f0f921"
             ]
            ],
            "type": "heatmap"
           }
          ],
          "heatmapgl": [
           {
            "colorbar": {
             "outlinewidth": 0,
             "ticks": ""
            },
            "colorscale": [
             [
              0,
              "#0d0887"
             ],
             [
              0.1111111111111111,
              "#46039f"
             ],
             [
              0.2222222222222222,
              "#7201a8"
             ],
             [
              0.3333333333333333,
              "#9c179e"
             ],
             [
              0.4444444444444444,
              "#bd3786"
             ],
             [
              0.5555555555555556,
              "#d8576b"
             ],
             [
              0.6666666666666666,
              "#ed7953"
             ],
             [
              0.7777777777777778,
              "#fb9f3a"
             ],
             [
              0.8888888888888888,
              "#fdca26"
             ],
             [
              1,
              "#f0f921"
             ]
            ],
            "type": "heatmapgl"
           }
          ],
          "histogram": [
           {
            "marker": {
             "pattern": {
              "fillmode": "overlay",
              "size": 10,
              "solidity": 0.2
             }
            },
            "type": "histogram"
           }
          ],
          "histogram2d": [
           {
            "colorbar": {
             "outlinewidth": 0,
             "ticks": ""
            },
            "colorscale": [
             [
              0,
              "#0d0887"
             ],
             [
              0.1111111111111111,
              "#46039f"
             ],
             [
              0.2222222222222222,
              "#7201a8"
             ],
             [
              0.3333333333333333,
              "#9c179e"
             ],
             [
              0.4444444444444444,
              "#bd3786"
             ],
             [
              0.5555555555555556,
              "#d8576b"
             ],
             [
              0.6666666666666666,
              "#ed7953"
             ],
             [
              0.7777777777777778,
              "#fb9f3a"
             ],
             [
              0.8888888888888888,
              "#fdca26"
             ],
             [
              1,
              "#f0f921"
             ]
            ],
            "type": "histogram2d"
           }
          ],
          "histogram2dcontour": [
           {
            "colorbar": {
             "outlinewidth": 0,
             "ticks": ""
            },
            "colorscale": [
             [
              0,
              "#0d0887"
             ],
             [
              0.1111111111111111,
              "#46039f"
             ],
             [
              0.2222222222222222,
              "#7201a8"
             ],
             [
              0.3333333333333333,
              "#9c179e"
             ],
             [
              0.4444444444444444,
              "#bd3786"
             ],
             [
              0.5555555555555556,
              "#d8576b"
             ],
             [
              0.6666666666666666,
              "#ed7953"
             ],
             [
              0.7777777777777778,
              "#fb9f3a"
             ],
             [
              0.8888888888888888,
              "#fdca26"
             ],
             [
              1,
              "#f0f921"
             ]
            ],
            "type": "histogram2dcontour"
           }
          ],
          "mesh3d": [
           {
            "colorbar": {
             "outlinewidth": 0,
             "ticks": ""
            },
            "type": "mesh3d"
           }
          ],
          "parcoords": [
           {
            "line": {
             "colorbar": {
              "outlinewidth": 0,
              "ticks": ""
             }
            },
            "type": "parcoords"
           }
          ],
          "pie": [
           {
            "automargin": true,
            "type": "pie"
           }
          ],
          "scatter": [
           {
            "fillpattern": {
             "fillmode": "overlay",
             "size": 10,
             "solidity": 0.2
            },
            "type": "scatter"
           }
          ],
          "scatter3d": [
           {
            "line": {
             "colorbar": {
              "outlinewidth": 0,
              "ticks": ""
             }
            },
            "marker": {
             "colorbar": {
              "outlinewidth": 0,
              "ticks": ""
             }
            },
            "type": "scatter3d"
           }
          ],
          "scattercarpet": [
           {
            "marker": {
             "colorbar": {
              "outlinewidth": 0,
              "ticks": ""
             }
            },
            "type": "scattercarpet"
           }
          ],
          "scattergeo": [
           {
            "marker": {
             "colorbar": {
              "outlinewidth": 0,
              "ticks": ""
             }
            },
            "type": "scattergeo"
           }
          ],
          "scattergl": [
           {
            "marker": {
             "colorbar": {
              "outlinewidth": 0,
              "ticks": ""
             }
            },
            "type": "scattergl"
           }
          ],
          "scattermapbox": [
           {
            "marker": {
             "colorbar": {
              "outlinewidth": 0,
              "ticks": ""
             }
            },
            "type": "scattermapbox"
           }
          ],
          "scatterpolar": [
           {
            "marker": {
             "colorbar": {
              "outlinewidth": 0,
              "ticks": ""
             }
            },
            "type": "scatterpolar"
           }
          ],
          "scatterpolargl": [
           {
            "marker": {
             "colorbar": {
              "outlinewidth": 0,
              "ticks": ""
             }
            },
            "type": "scatterpolargl"
           }
          ],
          "scatterternary": [
           {
            "marker": {
             "colorbar": {
              "outlinewidth": 0,
              "ticks": ""
             }
            },
            "type": "scatterternary"
           }
          ],
          "surface": [
           {
            "colorbar": {
             "outlinewidth": 0,
             "ticks": ""
            },
            "colorscale": [
             [
              0,
              "#0d0887"
             ],
             [
              0.1111111111111111,
              "#46039f"
             ],
             [
              0.2222222222222222,
              "#7201a8"
             ],
             [
              0.3333333333333333,
              "#9c179e"
             ],
             [
              0.4444444444444444,
              "#bd3786"
             ],
             [
              0.5555555555555556,
              "#d8576b"
             ],
             [
              0.6666666666666666,
              "#ed7953"
             ],
             [
              0.7777777777777778,
              "#fb9f3a"
             ],
             [
              0.8888888888888888,
              "#fdca26"
             ],
             [
              1,
              "#f0f921"
             ]
            ],
            "type": "surface"
           }
          ],
          "table": [
           {
            "cells": {
             "fill": {
              "color": "#EBF0F8"
             },
             "line": {
              "color": "white"
             }
            },
            "header": {
             "fill": {
              "color": "#C8D4E3"
             },
             "line": {
              "color": "white"
             }
            },
            "type": "table"
           }
          ]
         },
         "layout": {
          "annotationdefaults": {
           "arrowcolor": "#2a3f5f",
           "arrowhead": 0,
           "arrowwidth": 1
          },
          "autotypenumbers": "strict",
          "coloraxis": {
           "colorbar": {
            "outlinewidth": 0,
            "ticks": ""
           }
          },
          "colorscale": {
           "diverging": [
            [
             0,
             "#8e0152"
            ],
            [
             0.1,
             "#c51b7d"
            ],
            [
             0.2,
             "#de77ae"
            ],
            [
             0.3,
             "#f1b6da"
            ],
            [
             0.4,
             "#fde0ef"
            ],
            [
             0.5,
             "#f7f7f7"
            ],
            [
             0.6,
             "#e6f5d0"
            ],
            [
             0.7,
             "#b8e186"
            ],
            [
             0.8,
             "#7fbc41"
            ],
            [
             0.9,
             "#4d9221"
            ],
            [
             1,
             "#276419"
            ]
           ],
           "sequential": [
            [
             0,
             "#0d0887"
            ],
            [
             0.1111111111111111,
             "#46039f"
            ],
            [
             0.2222222222222222,
             "#7201a8"
            ],
            [
             0.3333333333333333,
             "#9c179e"
            ],
            [
             0.4444444444444444,
             "#bd3786"
            ],
            [
             0.5555555555555556,
             "#d8576b"
            ],
            [
             0.6666666666666666,
             "#ed7953"
            ],
            [
             0.7777777777777778,
             "#fb9f3a"
            ],
            [
             0.8888888888888888,
             "#fdca26"
            ],
            [
             1,
             "#f0f921"
            ]
           ],
           "sequentialminus": [
            [
             0,
             "#0d0887"
            ],
            [
             0.1111111111111111,
             "#46039f"
            ],
            [
             0.2222222222222222,
             "#7201a8"
            ],
            [
             0.3333333333333333,
             "#9c179e"
            ],
            [
             0.4444444444444444,
             "#bd3786"
            ],
            [
             0.5555555555555556,
             "#d8576b"
            ],
            [
             0.6666666666666666,
             "#ed7953"
            ],
            [
             0.7777777777777778,
             "#fb9f3a"
            ],
            [
             0.8888888888888888,
             "#fdca26"
            ],
            [
             1,
             "#f0f921"
            ]
           ]
          },
          "colorway": [
           "#636efa",
           "#EF553B",
           "#00cc96",
           "#ab63fa",
           "#FFA15A",
           "#19d3f3",
           "#FF6692",
           "#B6E880",
           "#FF97FF",
           "#FECB52"
          ],
          "font": {
           "color": "#2a3f5f"
          },
          "geo": {
           "bgcolor": "white",
           "lakecolor": "white",
           "landcolor": "white",
           "showlakes": true,
           "showland": true,
           "subunitcolor": "#C8D4E3"
          },
          "hoverlabel": {
           "align": "left"
          },
          "hovermode": "closest",
          "mapbox": {
           "style": "light"
          },
          "paper_bgcolor": "white",
          "plot_bgcolor": "white",
          "polar": {
           "angularaxis": {
            "gridcolor": "#EBF0F8",
            "linecolor": "#EBF0F8",
            "ticks": ""
           },
           "bgcolor": "white",
           "radialaxis": {
            "gridcolor": "#EBF0F8",
            "linecolor": "#EBF0F8",
            "ticks": ""
           }
          },
          "scene": {
           "xaxis": {
            "backgroundcolor": "white",
            "gridcolor": "#DFE8F3",
            "gridwidth": 2,
            "linecolor": "#EBF0F8",
            "showbackground": true,
            "ticks": "",
            "zerolinecolor": "#EBF0F8"
           },
           "yaxis": {
            "backgroundcolor": "white",
            "gridcolor": "#DFE8F3",
            "gridwidth": 2,
            "linecolor": "#EBF0F8",
            "showbackground": true,
            "ticks": "",
            "zerolinecolor": "#EBF0F8"
           },
           "zaxis": {
            "backgroundcolor": "white",
            "gridcolor": "#DFE8F3",
            "gridwidth": 2,
            "linecolor": "#EBF0F8",
            "showbackground": true,
            "ticks": "",
            "zerolinecolor": "#EBF0F8"
           }
          },
          "shapedefaults": {
           "line": {
            "color": "#2a3f5f"
           }
          },
          "ternary": {
           "aaxis": {
            "gridcolor": "#DFE8F3",
            "linecolor": "#A2B1C6",
            "ticks": ""
           },
           "baxis": {
            "gridcolor": "#DFE8F3",
            "linecolor": "#A2B1C6",
            "ticks": ""
           },
           "bgcolor": "white",
           "caxis": {
            "gridcolor": "#DFE8F3",
            "linecolor": "#A2B1C6",
            "ticks": ""
           }
          },
          "title": {
           "x": 0.05
          },
          "xaxis": {
           "automargin": true,
           "gridcolor": "#EBF0F8",
           "linecolor": "#EBF0F8",
           "ticks": "",
           "title": {
            "standoff": 15
           },
           "zerolinecolor": "#EBF0F8",
           "zerolinewidth": 2
          },
          "yaxis": {
           "automargin": true,
           "gridcolor": "#EBF0F8",
           "linecolor": "#EBF0F8",
           "ticks": "",
           "title": {
            "standoff": 15
           },
           "zerolinecolor": "#EBF0F8",
           "zerolinewidth": 2
          }
         }
        },
        "width": 900,
        "xaxis": {
         "anchor": "y",
         "domain": [
          0,
          1
         ],
         "range": [
          0,
          1
         ],
         "title": {
          "text": "Time"
         }
        },
        "yaxis": {
         "anchor": "x",
         "domain": [
          0,
          1
         ],
         "title": {
          "text": "Remaining Inventory"
         }
        }
       }
      },
      "text/html": [
       "<div>                            <div id=\"694d7586-ab4e-475d-bf85-2f962ccb8ba2\" class=\"plotly-graph-div\" style=\"height:300px; width:900px;\"></div>            <script type=\"text/javascript\">                require([\"plotly\"], function(Plotly) {                    window.PLOTLYENV=window.PLOTLYENV || {};                                    if (document.getElementById(\"694d7586-ab4e-475d-bf85-2f962ccb8ba2\")) {                    Plotly.newPlot(                        \"694d7586-ab4e-475d-bf85-2f962ccb8ba2\",                        [{\"hovertemplate\":\"Market Aversion=0.0001<br>Time=%{x}<br>Remaining Inventory=%{y}<extra></extra>\",\"legendgroup\":\"0.0001\",\"line\":{\"color\":\"#636efa\",\"dash\":\"solid\"},\"marker\":{\"symbol\":\"circle\"},\"mode\":\"lines\",\"name\":\"0.0001\",\"orientation\":\"v\",\"showlegend\":true,\"x\":[0.0,0.05263157894736842,0.10526315789473684,0.15789473684210525,0.21052631578947367,0.2631578947368421,0.3157894736842105,0.3684210526315789,0.42105263157894735,0.47368421052631576,0.5263157894736842,0.5789473684210527,0.631578947368421,0.6842105263157894,0.7368421052631579,0.7894736842105263,0.8421052631578947,0.894736842105263,0.9473684210526315,1.0],\"xaxis\":\"x\",\"y\":[1.0,0.5231834053993225,0.26782432198524475,0.13500215113162994,0.06734725832939148,0.03334399312734604,0.016404088586568832,0.008035890758037567,0.003922679927200079,0.0019085609819740057,0.0009256411576643586,0.00044751749373972416,0.00021568233205471188,0.00010362332250224426,4.9629208660917357e-05,2.3694708943367004e-05,1.1277068551862612e-05,5.35017943548155e-06,2.530252459109761e-06,1.192831064145139e-06],\"yaxis\":\"y\",\"type\":\"scatter\"},{\"hovertemplate\":\"Market Aversion=0.001<br>Time=%{x}<br>Remaining Inventory=%{y}<extra></extra>\",\"legendgroup\":\"0.001\",\"line\":{\"color\":\"#EF553B\",\"dash\":\"solid\"},\"marker\":{\"symbol\":\"circle\"},\"mode\":\"lines\",\"name\":\"0.001\",\"orientation\":\"v\",\"showlegend\":true,\"x\":[0.0,0.05263157894736842,0.10526315789473684,0.15789473684210525,0.21052631578947367,0.2631578947368421,0.3157894736842105,0.3684210526315789,0.42105263157894735,0.47368421052631576,0.5263157894736842,0.5789473684210527,0.631578947368421,0.6842105263157894,0.7368421052631579,0.7894736842105263,0.8421052631578947,0.894736842105263,0.9473684210526315,1.0],\"xaxis\":\"x\",\"y\":[1.0,0.5231931805610657,0.2678331434726715,0.13500910997390747,0.06735051423311234,0.03334611654281616,0.01640554517507553,0.008036578074097633,0.003923012409359217,0.0019087214022874832,0.000925718224607408,0.00044755436829291284,0.00021569991076830775,0.00010363166802562773,4.963316678185947e-05,2.3696580683463253e-05,1.1277952580712736e-05,5.350594165065559e-06,2.5304466362285893e-06,1.192921672554803e-06],\"yaxis\":\"y\",\"type\":\"scatter\"},{\"hovertemplate\":\"Market Aversion=0.01<br>Time=%{x}<br>Remaining Inventory=%{y}<extra></extra>\",\"legendgroup\":\"0.01\",\"line\":{\"color\":\"#00cc96\",\"dash\":\"solid\"},\"marker\":{\"symbol\":\"circle\"},\"mode\":\"lines\",\"name\":\"0.01\",\"orientation\":\"v\",\"showlegend\":true,\"x\":[0.0,0.05263157894736842,0.10526315789473684,0.15789473684210525,0.21052631578947367,0.2631578947368421,0.3157894736842105,0.3684210526315789,0.42105263157894735,0.47368421052631576,0.5263157894736842,0.5789473684210527,0.631578947368421,0.6842105263157894,0.7368421052631579,0.7894736842105263,0.8421052631578947,0.894736842105263,0.9473684210526315,1.0],\"xaxis\":\"x\",\"y\":[1.0,0.5232722759246826,0.26791176199913025,0.13507376611232758,0.06739301979541779,0.0333692692220211,0.016421418637037277,0.00804570596665144,0.003927924204617739,0.0019112718291580677,0.0009270579321309924,0.0004482505901250988,0.00021605512301903218,0.00010380925232311711,4.972065653419122e-05,2.3739241441944614e-05,1.1298535355308559e-05,5.360422164812917e-06,2.535090061428491e-06,1.1951009355470887e-06],\"yaxis\":\"y\",\"type\":\"scatter\"},{\"hovertemplate\":\"Market Aversion=1.0<br>Time=%{x}<br>Remaining Inventory=%{y}<extra></extra>\",\"legendgroup\":\"1.0\",\"line\":{\"color\":\"#ab63fa\",\"dash\":\"solid\"},\"marker\":{\"symbol\":\"circle\"},\"mode\":\"lines\",\"name\":\"1.0\",\"orientation\":\"v\",\"showlegend\":true,\"x\":[0.0,0.05263157894736842,0.10526315789473684,0.15789473684210525,0.21052631578947367,0.2631578947368421,0.3157894736842105,0.3684210526315789,0.42105263157894735,0.47368421052631576,0.5263157894736842,0.5789473684210527,0.631578947368421,0.6842105263157894,0.7368421052631579,0.7894736842105263,0.8421052631578947,0.894736842105263,0.9473684210526315,1.0],\"xaxis\":\"x\",\"y\":[1.0,0.5185803174972534,0.26728934049606323,0.1379549652338028,0.07116818428039551,0.03647269308567047,0.01853218302130699,0.009337571449577808,0.00466375146061182,0.0023072834592312574,0.0011309817200526595,0.000549319782294333,0.00026467815041542053,0.00012650796270463616,5.998257256578654e-05,2.8215774364070967e-05,1.3199534805607982e-05,6.145488896436291e-06,2.8489473606896354e-06,1.3184779845687444e-06],\"yaxis\":\"y\",\"type\":\"scatter\"},{\"hovertemplate\":\"Market Aversion=10.0<br>Time=%{x}<br>Remaining Inventory=%{y}<extra></extra>\",\"legendgroup\":\"10.0\",\"line\":{\"color\":\"#FFA15A\",\"dash\":\"solid\"},\"marker\":{\"symbol\":\"circle\"},\"mode\":\"lines\",\"name\":\"10.0\",\"orientation\":\"v\",\"showlegend\":true,\"x\":[0.0,0.05263157894736842,0.10526315789473684,0.15789473684210525,0.21052631578947367,0.2631578947368421,0.3157894736842105,0.3684210526315789,0.42105263157894735,0.47368421052631576,0.5263157894736842,0.5789473684210527,0.631578947368421,0.6842105263157894,0.7368421052631579,0.7894736842105263,0.8421052631578947,0.894736842105263,0.9473684210526315,1.0],\"xaxis\":\"x\",\"y\":[1.0,0.7486225366592407,0.5625883936882019,0.4237651228904724,0.31963956356048584,0.24128663539886475,0.1821843385696411,0.13752664625644684,0.10376003384590149,0.078224316239357,0.05891777575016022,0.04431556165218353,0.033256541937589645,0.024903394281864166,0.018609199672937393,0.013875467702746391,0.010322583839297295,0.007661705836653709,0.00567333260551095,0.004190919920802116],\"yaxis\":\"y\",\"type\":\"scatter\"}],                        {\"template\":{\"data\":{\"barpolar\":[{\"marker\":{\"line\":{\"color\":\"white\",\"width\":0.5},\"pattern\":{\"fillmode\":\"overlay\",\"size\":10,\"solidity\":0.2}},\"type\":\"barpolar\"}],\"bar\":[{\"error_x\":{\"color\":\"#2a3f5f\"},\"error_y\":{\"color\":\"#2a3f5f\"},\"marker\":{\"line\":{\"color\":\"white\",\"width\":0.5},\"pattern\":{\"fillmode\":\"overlay\",\"size\":10,\"solidity\":0.2}},\"type\":\"bar\"}],\"carpet\":[{\"aaxis\":{\"endlinecolor\":\"#2a3f5f\",\"gridcolor\":\"#C8D4E3\",\"linecolor\":\"#C8D4E3\",\"minorgridcolor\":\"#C8D4E3\",\"startlinecolor\":\"#2a3f5f\"},\"baxis\":{\"endlinecolor\":\"#2a3f5f\",\"gridcolor\":\"#C8D4E3\",\"linecolor\":\"#C8D4E3\",\"minorgridcolor\":\"#C8D4E3\",\"startlinecolor\":\"#2a3f5f\"},\"type\":\"carpet\"}],\"choropleth\":[{\"colorbar\":{\"outlinewidth\":0,\"ticks\":\"\"},\"type\":\"choropleth\"}],\"contourcarpet\":[{\"colorbar\":{\"outlinewidth\":0,\"ticks\":\"\"},\"type\":\"contourcarpet\"}],\"contour\":[{\"colorbar\":{\"outlinewidth\":0,\"ticks\":\"\"},\"colorscale\":[[0.0,\"#0d0887\"],[0.1111111111111111,\"#46039f\"],[0.2222222222222222,\"#7201a8\"],[0.3333333333333333,\"#9c179e\"],[0.4444444444444444,\"#bd3786\"],[0.5555555555555556,\"#d8576b\"],[0.6666666666666666,\"#ed7953\"],[0.7777777777777778,\"#fb9f3a\"],[0.8888888888888888,\"#fdca26\"],[1.0,\"#f0f921\"]],\"type\":\"contour\"}],\"heatmapgl\":[{\"colorbar\":{\"outlinewidth\":0,\"ticks\":\"\"},\"colorscale\":[[0.0,\"#0d0887\"],[0.1111111111111111,\"#46039f\"],[0.2222222222222222,\"#7201a8\"],[0.3333333333333333,\"#9c179e\"],[0.4444444444444444,\"#bd3786\"],[0.5555555555555556,\"#d8576b\"],[0.6666666666666666,\"#ed7953\"],[0.7777777777777778,\"#fb9f3a\"],[0.8888888888888888,\"#fdca26\"],[1.0,\"#f0f921\"]],\"type\":\"heatmapgl\"}],\"heatmap\":[{\"colorbar\":{\"outlinewidth\":0,\"ticks\":\"\"},\"colorscale\":[[0.0,\"#0d0887\"],[0.1111111111111111,\"#46039f\"],[0.2222222222222222,\"#7201a8\"],[0.3333333333333333,\"#9c179e\"],[0.4444444444444444,\"#bd3786\"],[0.5555555555555556,\"#d8576b\"],[0.6666666666666666,\"#ed7953\"],[0.7777777777777778,\"#fb9f3a\"],[0.8888888888888888,\"#fdca26\"],[1.0,\"#f0f921\"]],\"type\":\"heatmap\"}],\"histogram2dcontour\":[{\"colorbar\":{\"outlinewidth\":0,\"ticks\":\"\"},\"colorscale\":[[0.0,\"#0d0887\"],[0.1111111111111111,\"#46039f\"],[0.2222222222222222,\"#7201a8\"],[0.3333333333333333,\"#9c179e\"],[0.4444444444444444,\"#bd3786\"],[0.5555555555555556,\"#d8576b\"],[0.6666666666666666,\"#ed7953\"],[0.7777777777777778,\"#fb9f3a\"],[0.8888888888888888,\"#fdca26\"],[1.0,\"#f0f921\"]],\"type\":\"histogram2dcontour\"}],\"histogram2d\":[{\"colorbar\":{\"outlinewidth\":0,\"ticks\":\"\"},\"colorscale\":[[0.0,\"#0d0887\"],[0.1111111111111111,\"#46039f\"],[0.2222222222222222,\"#7201a8\"],[0.3333333333333333,\"#9c179e\"],[0.4444444444444444,\"#bd3786\"],[0.5555555555555556,\"#d8576b\"],[0.6666666666666666,\"#ed7953\"],[0.7777777777777778,\"#fb9f3a\"],[0.8888888888888888,\"#fdca26\"],[1.0,\"#f0f921\"]],\"type\":\"histogram2d\"}],\"histogram\":[{\"marker\":{\"pattern\":{\"fillmode\":\"overlay\",\"size\":10,\"solidity\":0.2}},\"type\":\"histogram\"}],\"mesh3d\":[{\"colorbar\":{\"outlinewidth\":0,\"ticks\":\"\"},\"type\":\"mesh3d\"}],\"parcoords\":[{\"line\":{\"colorbar\":{\"outlinewidth\":0,\"ticks\":\"\"}},\"type\":\"parcoords\"}],\"pie\":[{\"automargin\":true,\"type\":\"pie\"}],\"scatter3d\":[{\"line\":{\"colorbar\":{\"outlinewidth\":0,\"ticks\":\"\"}},\"marker\":{\"colorbar\":{\"outlinewidth\":0,\"ticks\":\"\"}},\"type\":\"scatter3d\"}],\"scattercarpet\":[{\"marker\":{\"colorbar\":{\"outlinewidth\":0,\"ticks\":\"\"}},\"type\":\"scattercarpet\"}],\"scattergeo\":[{\"marker\":{\"colorbar\":{\"outlinewidth\":0,\"ticks\":\"\"}},\"type\":\"scattergeo\"}],\"scattergl\":[{\"marker\":{\"colorbar\":{\"outlinewidth\":0,\"ticks\":\"\"}},\"type\":\"scattergl\"}],\"scattermapbox\":[{\"marker\":{\"colorbar\":{\"outlinewidth\":0,\"ticks\":\"\"}},\"type\":\"scattermapbox\"}],\"scatterpolargl\":[{\"marker\":{\"colorbar\":{\"outlinewidth\":0,\"ticks\":\"\"}},\"type\":\"scatterpolargl\"}],\"scatterpolar\":[{\"marker\":{\"colorbar\":{\"outlinewidth\":0,\"ticks\":\"\"}},\"type\":\"scatterpolar\"}],\"scatter\":[{\"fillpattern\":{\"fillmode\":\"overlay\",\"size\":10,\"solidity\":0.2},\"type\":\"scatter\"}],\"scatterternary\":[{\"marker\":{\"colorbar\":{\"outlinewidth\":0,\"ticks\":\"\"}},\"type\":\"scatterternary\"}],\"surface\":[{\"colorbar\":{\"outlinewidth\":0,\"ticks\":\"\"},\"colorscale\":[[0.0,\"#0d0887\"],[0.1111111111111111,\"#46039f\"],[0.2222222222222222,\"#7201a8\"],[0.3333333333333333,\"#9c179e\"],[0.4444444444444444,\"#bd3786\"],[0.5555555555555556,\"#d8576b\"],[0.6666666666666666,\"#ed7953\"],[0.7777777777777778,\"#fb9f3a\"],[0.8888888888888888,\"#fdca26\"],[1.0,\"#f0f921\"]],\"type\":\"surface\"}],\"table\":[{\"cells\":{\"fill\":{\"color\":\"#EBF0F8\"},\"line\":{\"color\":\"white\"}},\"header\":{\"fill\":{\"color\":\"#C8D4E3\"},\"line\":{\"color\":\"white\"}},\"type\":\"table\"}]},\"layout\":{\"annotationdefaults\":{\"arrowcolor\":\"#2a3f5f\",\"arrowhead\":0,\"arrowwidth\":1},\"autotypenumbers\":\"strict\",\"coloraxis\":{\"colorbar\":{\"outlinewidth\":0,\"ticks\":\"\"}},\"colorscale\":{\"diverging\":[[0,\"#8e0152\"],[0.1,\"#c51b7d\"],[0.2,\"#de77ae\"],[0.3,\"#f1b6da\"],[0.4,\"#fde0ef\"],[0.5,\"#f7f7f7\"],[0.6,\"#e6f5d0\"],[0.7,\"#b8e186\"],[0.8,\"#7fbc41\"],[0.9,\"#4d9221\"],[1,\"#276419\"]],\"sequential\":[[0.0,\"#0d0887\"],[0.1111111111111111,\"#46039f\"],[0.2222222222222222,\"#7201a8\"],[0.3333333333333333,\"#9c179e\"],[0.4444444444444444,\"#bd3786\"],[0.5555555555555556,\"#d8576b\"],[0.6666666666666666,\"#ed7953\"],[0.7777777777777778,\"#fb9f3a\"],[0.8888888888888888,\"#fdca26\"],[1.0,\"#f0f921\"]],\"sequentialminus\":[[0.0,\"#0d0887\"],[0.1111111111111111,\"#46039f\"],[0.2222222222222222,\"#7201a8\"],[0.3333333333333333,\"#9c179e\"],[0.4444444444444444,\"#bd3786\"],[0.5555555555555556,\"#d8576b\"],[0.6666666666666666,\"#ed7953\"],[0.7777777777777778,\"#fb9f3a\"],[0.8888888888888888,\"#fdca26\"],[1.0,\"#f0f921\"]]},\"colorway\":[\"#636efa\",\"#EF553B\",\"#00cc96\",\"#ab63fa\",\"#FFA15A\",\"#19d3f3\",\"#FF6692\",\"#B6E880\",\"#FF97FF\",\"#FECB52\"],\"font\":{\"color\":\"#2a3f5f\"},\"geo\":{\"bgcolor\":\"white\",\"lakecolor\":\"white\",\"landcolor\":\"white\",\"showlakes\":true,\"showland\":true,\"subunitcolor\":\"#C8D4E3\"},\"hoverlabel\":{\"align\":\"left\"},\"hovermode\":\"closest\",\"mapbox\":{\"style\":\"light\"},\"paper_bgcolor\":\"white\",\"plot_bgcolor\":\"white\",\"polar\":{\"angularaxis\":{\"gridcolor\":\"#EBF0F8\",\"linecolor\":\"#EBF0F8\",\"ticks\":\"\"},\"bgcolor\":\"white\",\"radialaxis\":{\"gridcolor\":\"#EBF0F8\",\"linecolor\":\"#EBF0F8\",\"ticks\":\"\"}},\"scene\":{\"xaxis\":{\"backgroundcolor\":\"white\",\"gridcolor\":\"#DFE8F3\",\"gridwidth\":2,\"linecolor\":\"#EBF0F8\",\"showbackground\":true,\"ticks\":\"\",\"zerolinecolor\":\"#EBF0F8\"},\"yaxis\":{\"backgroundcolor\":\"white\",\"gridcolor\":\"#DFE8F3\",\"gridwidth\":2,\"linecolor\":\"#EBF0F8\",\"showbackground\":true,\"ticks\":\"\",\"zerolinecolor\":\"#EBF0F8\"},\"zaxis\":{\"backgroundcolor\":\"white\",\"gridcolor\":\"#DFE8F3\",\"gridwidth\":2,\"linecolor\":\"#EBF0F8\",\"showbackground\":true,\"ticks\":\"\",\"zerolinecolor\":\"#EBF0F8\"}},\"shapedefaults\":{\"line\":{\"color\":\"#2a3f5f\"}},\"ternary\":{\"aaxis\":{\"gridcolor\":\"#DFE8F3\",\"linecolor\":\"#A2B1C6\",\"ticks\":\"\"},\"baxis\":{\"gridcolor\":\"#DFE8F3\",\"linecolor\":\"#A2B1C6\",\"ticks\":\"\"},\"bgcolor\":\"white\",\"caxis\":{\"gridcolor\":\"#DFE8F3\",\"linecolor\":\"#A2B1C6\",\"ticks\":\"\"}},\"title\":{\"x\":0.05},\"xaxis\":{\"automargin\":true,\"gridcolor\":\"#EBF0F8\",\"linecolor\":\"#EBF0F8\",\"ticks\":\"\",\"title\":{\"standoff\":15},\"zerolinecolor\":\"#EBF0F8\",\"zerolinewidth\":2},\"yaxis\":{\"automargin\":true,\"gridcolor\":\"#EBF0F8\",\"linecolor\":\"#EBF0F8\",\"ticks\":\"\",\"title\":{\"standoff\":15},\"zerolinecolor\":\"#EBF0F8\",\"zerolinewidth\":2}}},\"xaxis\":{\"anchor\":\"y\",\"domain\":[0.0,1.0],\"title\":{\"text\":\"Time\"},\"range\":[0,1]},\"yaxis\":{\"anchor\":\"x\",\"domain\":[0.0,1.0],\"title\":{\"text\":\"Remaining Inventory\"}},\"legend\":{\"title\":{\"text\":\"Market Aversion\"},\"tracegroupgap\":0},\"margin\":{\"t\":60},\"width\":900,\"height\":300},                        {\"responsive\": true}                    ).then(function(){\n",
       "                            \n",
       "var gd = document.getElementById('694d7586-ab4e-475d-bf85-2f962ccb8ba2');\n",
       "var x = new MutationObserver(function (mutations, observer) {{\n",
       "        var display = window.getComputedStyle(gd).display;\n",
       "        if (!display || display === 'none') {{\n",
       "            console.log([gd, 'removed!']);\n",
       "            Plotly.purge(gd);\n",
       "            observer.disconnect();\n",
       "        }}\n",
       "}});\n",
       "\n",
       "// Listen for the removal of the full notebook cells\n",
       "var notebookContainer = gd.closest('#notebook-container');\n",
       "if (notebookContainer) {{\n",
       "    x.observe(notebookContainer, {childList: true});\n",
       "}}\n",
       "\n",
       "// Listen for the clearing of the current output cell\n",
       "var outputEl = gd.closest('.output');\n",
       "if (outputEl) {{\n",
       "    x.observe(outputEl, {childList: true});\n",
       "}}\n",
       "\n",
       "                        })                };                });            </script>        </div>"
      ]
     },
     "metadata": {},
     "output_type": "display_data"
    }
   ],
   "source": [
    "plot_simulation_results(simulation_results)"
   ]
  },
  {
   "cell_type": "code",
   "execution_count": 65,
   "id": "19bb1955",
   "metadata": {},
   "outputs": [],
   "source": [
    "def run_simulation_sto_vol(lr=1e-3, n_traj=100, n_time_steps=20, x0=1, sigma=0.2, eta=1.1e-4, episodes=100, order=\"IS\"):\n",
    "    \"\"\"\n",
    "    Leveraging ANNs to introduce stochastic diffusion for the tradeable asset volatility\n",
    "    \"\"\"\n",
    "    \n",
    "    optimizer = tf.keras.optimizers.Adam(learning_rate=lr)\n",
    "    model = create_model()\n",
    "    \n",
    "    # Training risk aversion parameter\n",
    "    lbd_value = 0.01\n",
    "    action_noise_std = 0.0\n",
    "    T = 1\n",
    "    \n",
    "    # Model training\n",
    "    trained_model = train_model(\n",
    "        order, model, optimizer, episodes, \n",
    "        n_traj=n_traj, n_time_steps=n_time_steps, x0=x0, \n",
    "        lbd_value=lbd_value, sigma=sigma, eta=eta, action_noise_std=action_noise_std, sto_vol=True)\n",
    "    \n",
    "    # Running simulations\n",
    "    lambda_values = [0.0001, 0.001, 0.01, 1, 10]\n",
    "    all_results = run_simulations_for_lambdas(lambda_values, trained_model, n_time_steps, T, x0)\n",
    "    \n",
    "    return all_results"
   ]
  },
  {
   "cell_type": "markdown",
   "id": "03b7d5a9",
   "metadata": {},
   "source": [
    "### Plotting the optimal liquidation strategy given stochastic volatility of the asset"
   ]
  },
  {
   "cell_type": "code",
   "execution_count": 66,
   "id": "bf2e4bed",
   "metadata": {},
   "outputs": [],
   "source": [
    "simulation_results = run_simulation_sto_vol(order=\"IS\")"
   ]
  },
  {
   "cell_type": "code",
   "execution_count": 67,
   "id": "c347990f",
   "metadata": {},
   "outputs": [
    {
     "data": {
      "application/vnd.plotly.v1+json": {
       "config": {
        "plotlyServerURL": "https://plot.ly"
       },
       "data": [
        {
         "hovertemplate": "Market Aversion=0.0001<br>Time=%{x}<br>Remaining Inventory=%{y}<extra></extra>",
         "legendgroup": "0.0001",
         "line": {
          "color": "#636efa",
          "dash": "solid"
         },
         "marker": {
          "symbol": "circle"
         },
         "mode": "lines",
         "name": "0.0001",
         "orientation": "v",
         "showlegend": true,
         "type": "scatter",
         "x": [
          0,
          0.05263157894736842,
          0.10526315789473684,
          0.15789473684210525,
          0.21052631578947367,
          0.2631578947368421,
          0.3157894736842105,
          0.3684210526315789,
          0.42105263157894735,
          0.47368421052631576,
          0.5263157894736842,
          0.5789473684210527,
          0.631578947368421,
          0.6842105263157894,
          0.7368421052631579,
          0.7894736842105263,
          0.8421052631578947,
          0.894736842105263,
          0.9473684210526315,
          1
         ],
         "xaxis": "x",
         "y": [
          1,
          0.4462166428565979,
          0.21390870213508606,
          0.10525371134281158,
          0.051692087203264236,
          0.02517022006213665,
          0.012158497236669064,
          0.005830702837556601,
          0.0027773254550993443,
          0.0013143055839464068,
          0.0006179738556966186,
          0.0002887086884584278,
          0.00013401798787526786,
          6.181169737828895e-05,
          2.832501195371151e-05,
          1.2895774489152245e-05,
          5.832945134898182e-06,
          2.621056864882121e-06,
          1.170032305708446e-06,
          5.188438763070735e-07
         ],
         "yaxis": "y"
        },
        {
         "hovertemplate": "Market Aversion=0.001<br>Time=%{x}<br>Remaining Inventory=%{y}<extra></extra>",
         "legendgroup": "0.001",
         "line": {
          "color": "#EF553B",
          "dash": "solid"
         },
         "marker": {
          "symbol": "circle"
         },
         "mode": "lines",
         "name": "0.001",
         "orientation": "v",
         "showlegend": true,
         "type": "scatter",
         "x": [
          0,
          0.05263157894736842,
          0.10526315789473684,
          0.15789473684210525,
          0.21052631578947367,
          0.2631578947368421,
          0.3157894736842105,
          0.3684210526315789,
          0.42105263157894735,
          0.47368421052631576,
          0.5263157894736842,
          0.5789473684210527,
          0.631578947368421,
          0.6842105263157894,
          0.7368421052631579,
          0.7894736842105263,
          0.8421052631578947,
          0.894736842105263,
          0.9473684210526315,
          1
         ],
         "xaxis": "x",
         "y": [
          1,
          0.44613826274871826,
          0.2138366550207138,
          0.10520490258932114,
          0.05166293680667877,
          0.02515302039682865,
          0.01214915607124567,
          0.005825728643685579,
          0.00277471961453557,
          0.001312960172072053,
          0.0006172882858663797,
          0.00028836345882155,
          0.00013384611520450562,
          6.172703433549032e-05,
          2.8283739084145054e-05,
          1.2875849279225804e-05,
          5.823415904160356e-06,
          2.616541678435169e-06,
          1.167912046184938e-06,
          5.17857017712231e-07
         ],
         "yaxis": "y"
        },
        {
         "hovertemplate": "Market Aversion=0.01<br>Time=%{x}<br>Remaining Inventory=%{y}<extra></extra>",
         "legendgroup": "0.01",
         "line": {
          "color": "#00cc96",
          "dash": "solid"
         },
         "marker": {
          "symbol": "circle"
         },
         "mode": "lines",
         "name": "0.01",
         "orientation": "v",
         "showlegend": true,
         "type": "scatter",
         "x": [
          0,
          0.05263157894736842,
          0.10526315789473684,
          0.15789473684210525,
          0.21052631578947367,
          0.2631578947368421,
          0.3157894736842105,
          0.3684210526315789,
          0.42105263157894735,
          0.47368421052631576,
          0.5263157894736842,
          0.5789473684210527,
          0.631578947368421,
          0.6842105263157894,
          0.7368421052631579,
          0.7894736842105263,
          0.8421052631578947,
          0.894736842105263,
          0.9473684210526315,
          1
         ],
         "xaxis": "x",
         "y": [
          1,
          0.4453544616699219,
          0.2131214588880539,
          0.10470163077116013,
          0.051365744322538376,
          0.024979155510663986,
          0.012054912745952606,
          0.005775624420493841,
          0.0027485128957778215,
          0.0012994479620829225,
          0.0006104109925217927,
          0.0002849047305062413,
          0.0001321259915130213,
          6.0880614910274744e-05,
          2.7871439669979736e-05,
          1.2676967344305012e-05,
          5.728384621761506e-06,
          2.5715489755384624e-06,
          1.146800741480547e-06,
          5.080382265987282e-07
         ],
         "yaxis": "y"
        },
        {
         "hovertemplate": "Market Aversion=1.0<br>Time=%{x}<br>Remaining Inventory=%{y}<extra></extra>",
         "legendgroup": "1.0",
         "line": {
          "color": "#ab63fa",
          "dash": "solid"
         },
         "marker": {
          "symbol": "circle"
         },
         "mode": "lines",
         "name": "1.0",
         "orientation": "v",
         "showlegend": true,
         "type": "scatter",
         "x": [
          0,
          0.05263157894736842,
          0.10526315789473684,
          0.15789473684210525,
          0.21052631578947367,
          0.2631578947368421,
          0.3157894736842105,
          0.3684210526315789,
          0.42105263157894735,
          0.47368421052631576,
          0.5263157894736842,
          0.5789473684210527,
          0.631578947368421,
          0.6842105263157894,
          0.7368421052631579,
          0.7894736842105263,
          0.8421052631578947,
          0.894736842105263,
          0.9473684210526315,
          1
         ],
         "xaxis": "x",
         "y": [
          1,
          0.37893372774124146,
          0.15537889301776886,
          0.06501978635787964,
          0.027256034314632416,
          0.011345895007252693,
          0.004696096759289503,
          0.0019303399603813887,
          0.0007880434859544039,
          0.0003195119497831911,
          0.0001286773622268811,
          5.146307375980541e-05,
          2.041229890892282e-05,
          8.008051736396737e-06,
          3.1080139706318732e-06,
          1.1960366919083754e-06,
          4.563467541629507e-07,
          1.7267674934373645e-07,
          6.480421177457174e-08,
          2.4107546181539874e-08
         ],
         "yaxis": "y"
        },
        {
         "hovertemplate": "Market Aversion=10.0<br>Time=%{x}<br>Remaining Inventory=%{y}<extra></extra>",
         "legendgroup": "10.0",
         "line": {
          "color": "#FFA15A",
          "dash": "solid"
         },
         "marker": {
          "symbol": "circle"
         },
         "mode": "lines",
         "name": "10.0",
         "orientation": "v",
         "showlegend": true,
         "type": "scatter",
         "x": [
          0,
          0.05263157894736842,
          0.10526315789473684,
          0.15789473684210525,
          0.21052631578947367,
          0.2631578947368421,
          0.3157894736842105,
          0.3684210526315789,
          0.42105263157894735,
          0.47368421052631576,
          0.5263157894736842,
          0.5789473684210527,
          0.631578947368421,
          0.6842105263157894,
          0.7368421052631579,
          0.7894736842105263,
          0.8421052631578947,
          0.894736842105263,
          0.9473684210526315,
          1
         ],
         "xaxis": "x",
         "y": [
          1,
          0.043515145778656006,
          0.002111416310071945,
          0.00010204734280705452,
          4.898807674180716e-06,
          2.3358143153018318e-07,
          1.1062297744501848e-08,
          5.203668607123291e-10,
          2.431260748281261e-11,
          1.1282606793283634e-12,
          5.200462456500521e-14,
          2.3808300437470203e-15,
          1.0825991626328257e-16,
          4.889438131021345e-18,
          2.1933148891180433e-19,
          9.772221283821971e-21,
          4.324490548904425e-22,
          1.9007483604442686e-23,
          8.297775426530152e-25,
          3.597871329196594e-26
         ],
         "yaxis": "y"
        }
       ],
       "layout": {
        "height": 300,
        "legend": {
         "title": {
          "text": "Market Aversion"
         },
         "tracegroupgap": 0
        },
        "margin": {
         "t": 60
        },
        "template": {
         "data": {
          "bar": [
           {
            "error_x": {
             "color": "#2a3f5f"
            },
            "error_y": {
             "color": "#2a3f5f"
            },
            "marker": {
             "line": {
              "color": "white",
              "width": 0.5
             },
             "pattern": {
              "fillmode": "overlay",
              "size": 10,
              "solidity": 0.2
             }
            },
            "type": "bar"
           }
          ],
          "barpolar": [
           {
            "marker": {
             "line": {
              "color": "white",
              "width": 0.5
             },
             "pattern": {
              "fillmode": "overlay",
              "size": 10,
              "solidity": 0.2
             }
            },
            "type": "barpolar"
           }
          ],
          "carpet": [
           {
            "aaxis": {
             "endlinecolor": "#2a3f5f",
             "gridcolor": "#C8D4E3",
             "linecolor": "#C8D4E3",
             "minorgridcolor": "#C8D4E3",
             "startlinecolor": "#2a3f5f"
            },
            "baxis": {
             "endlinecolor": "#2a3f5f",
             "gridcolor": "#C8D4E3",
             "linecolor": "#C8D4E3",
             "minorgridcolor": "#C8D4E3",
             "startlinecolor": "#2a3f5f"
            },
            "type": "carpet"
           }
          ],
          "choropleth": [
           {
            "colorbar": {
             "outlinewidth": 0,
             "ticks": ""
            },
            "type": "choropleth"
           }
          ],
          "contour": [
           {
            "colorbar": {
             "outlinewidth": 0,
             "ticks": ""
            },
            "colorscale": [
             [
              0,
              "#0d0887"
             ],
             [
              0.1111111111111111,
              "#46039f"
             ],
             [
              0.2222222222222222,
              "#7201a8"
             ],
             [
              0.3333333333333333,
              "#9c179e"
             ],
             [
              0.4444444444444444,
              "#bd3786"
             ],
             [
              0.5555555555555556,
              "#d8576b"
             ],
             [
              0.6666666666666666,
              "#ed7953"
             ],
             [
              0.7777777777777778,
              "#fb9f3a"
             ],
             [
              0.8888888888888888,
              "#fdca26"
             ],
             [
              1,
              "#f0f921"
             ]
            ],
            "type": "contour"
           }
          ],
          "contourcarpet": [
           {
            "colorbar": {
             "outlinewidth": 0,
             "ticks": ""
            },
            "type": "contourcarpet"
           }
          ],
          "heatmap": [
           {
            "colorbar": {
             "outlinewidth": 0,
             "ticks": ""
            },
            "colorscale": [
             [
              0,
              "#0d0887"
             ],
             [
              0.1111111111111111,
              "#46039f"
             ],
             [
              0.2222222222222222,
              "#7201a8"
             ],
             [
              0.3333333333333333,
              "#9c179e"
             ],
             [
              0.4444444444444444,
              "#bd3786"
             ],
             [
              0.5555555555555556,
              "#d8576b"
             ],
             [
              0.6666666666666666,
              "#ed7953"
             ],
             [
              0.7777777777777778,
              "#fb9f3a"
             ],
             [
              0.8888888888888888,
              "#fdca26"
             ],
             [
              1,
              "#f0f921"
             ]
            ],
            "type": "heatmap"
           }
          ],
          "heatmapgl": [
           {
            "colorbar": {
             "outlinewidth": 0,
             "ticks": ""
            },
            "colorscale": [
             [
              0,
              "#0d0887"
             ],
             [
              0.1111111111111111,
              "#46039f"
             ],
             [
              0.2222222222222222,
              "#7201a8"
             ],
             [
              0.3333333333333333,
              "#9c179e"
             ],
             [
              0.4444444444444444,
              "#bd3786"
             ],
             [
              0.5555555555555556,
              "#d8576b"
             ],
             [
              0.6666666666666666,
              "#ed7953"
             ],
             [
              0.7777777777777778,
              "#fb9f3a"
             ],
             [
              0.8888888888888888,
              "#fdca26"
             ],
             [
              1,
              "#f0f921"
             ]
            ],
            "type": "heatmapgl"
           }
          ],
          "histogram": [
           {
            "marker": {
             "pattern": {
              "fillmode": "overlay",
              "size": 10,
              "solidity": 0.2
             }
            },
            "type": "histogram"
           }
          ],
          "histogram2d": [
           {
            "colorbar": {
             "outlinewidth": 0,
             "ticks": ""
            },
            "colorscale": [
             [
              0,
              "#0d0887"
             ],
             [
              0.1111111111111111,
              "#46039f"
             ],
             [
              0.2222222222222222,
              "#7201a8"
             ],
             [
              0.3333333333333333,
              "#9c179e"
             ],
             [
              0.4444444444444444,
              "#bd3786"
             ],
             [
              0.5555555555555556,
              "#d8576b"
             ],
             [
              0.6666666666666666,
              "#ed7953"
             ],
             [
              0.7777777777777778,
              "#fb9f3a"
             ],
             [
              0.8888888888888888,
              "#fdca26"
             ],
             [
              1,
              "#f0f921"
             ]
            ],
            "type": "histogram2d"
           }
          ],
          "histogram2dcontour": [
           {
            "colorbar": {
             "outlinewidth": 0,
             "ticks": ""
            },
            "colorscale": [
             [
              0,
              "#0d0887"
             ],
             [
              0.1111111111111111,
              "#46039f"
             ],
             [
              0.2222222222222222,
              "#7201a8"
             ],
             [
              0.3333333333333333,
              "#9c179e"
             ],
             [
              0.4444444444444444,
              "#bd3786"
             ],
             [
              0.5555555555555556,
              "#d8576b"
             ],
             [
              0.6666666666666666,
              "#ed7953"
             ],
             [
              0.7777777777777778,
              "#fb9f3a"
             ],
             [
              0.8888888888888888,
              "#fdca26"
             ],
             [
              1,
              "#f0f921"
             ]
            ],
            "type": "histogram2dcontour"
           }
          ],
          "mesh3d": [
           {
            "colorbar": {
             "outlinewidth": 0,
             "ticks": ""
            },
            "type": "mesh3d"
           }
          ],
          "parcoords": [
           {
            "line": {
             "colorbar": {
              "outlinewidth": 0,
              "ticks": ""
             }
            },
            "type": "parcoords"
           }
          ],
          "pie": [
           {
            "automargin": true,
            "type": "pie"
           }
          ],
          "scatter": [
           {
            "fillpattern": {
             "fillmode": "overlay",
             "size": 10,
             "solidity": 0.2
            },
            "type": "scatter"
           }
          ],
          "scatter3d": [
           {
            "line": {
             "colorbar": {
              "outlinewidth": 0,
              "ticks": ""
             }
            },
            "marker": {
             "colorbar": {
              "outlinewidth": 0,
              "ticks": ""
             }
            },
            "type": "scatter3d"
           }
          ],
          "scattercarpet": [
           {
            "marker": {
             "colorbar": {
              "outlinewidth": 0,
              "ticks": ""
             }
            },
            "type": "scattercarpet"
           }
          ],
          "scattergeo": [
           {
            "marker": {
             "colorbar": {
              "outlinewidth": 0,
              "ticks": ""
             }
            },
            "type": "scattergeo"
           }
          ],
          "scattergl": [
           {
            "marker": {
             "colorbar": {
              "outlinewidth": 0,
              "ticks": ""
             }
            },
            "type": "scattergl"
           }
          ],
          "scattermapbox": [
           {
            "marker": {
             "colorbar": {
              "outlinewidth": 0,
              "ticks": ""
             }
            },
            "type": "scattermapbox"
           }
          ],
          "scatterpolar": [
           {
            "marker": {
             "colorbar": {
              "outlinewidth": 0,
              "ticks": ""
             }
            },
            "type": "scatterpolar"
           }
          ],
          "scatterpolargl": [
           {
            "marker": {
             "colorbar": {
              "outlinewidth": 0,
              "ticks": ""
             }
            },
            "type": "scatterpolargl"
           }
          ],
          "scatterternary": [
           {
            "marker": {
             "colorbar": {
              "outlinewidth": 0,
              "ticks": ""
             }
            },
            "type": "scatterternary"
           }
          ],
          "surface": [
           {
            "colorbar": {
             "outlinewidth": 0,
             "ticks": ""
            },
            "colorscale": [
             [
              0,
              "#0d0887"
             ],
             [
              0.1111111111111111,
              "#46039f"
             ],
             [
              0.2222222222222222,
              "#7201a8"
             ],
             [
              0.3333333333333333,
              "#9c179e"
             ],
             [
              0.4444444444444444,
              "#bd3786"
             ],
             [
              0.5555555555555556,
              "#d8576b"
             ],
             [
              0.6666666666666666,
              "#ed7953"
             ],
             [
              0.7777777777777778,
              "#fb9f3a"
             ],
             [
              0.8888888888888888,
              "#fdca26"
             ],
             [
              1,
              "#f0f921"
             ]
            ],
            "type": "surface"
           }
          ],
          "table": [
           {
            "cells": {
             "fill": {
              "color": "#EBF0F8"
             },
             "line": {
              "color": "white"
             }
            },
            "header": {
             "fill": {
              "color": "#C8D4E3"
             },
             "line": {
              "color": "white"
             }
            },
            "type": "table"
           }
          ]
         },
         "layout": {
          "annotationdefaults": {
           "arrowcolor": "#2a3f5f",
           "arrowhead": 0,
           "arrowwidth": 1
          },
          "autotypenumbers": "strict",
          "coloraxis": {
           "colorbar": {
            "outlinewidth": 0,
            "ticks": ""
           }
          },
          "colorscale": {
           "diverging": [
            [
             0,
             "#8e0152"
            ],
            [
             0.1,
             "#c51b7d"
            ],
            [
             0.2,
             "#de77ae"
            ],
            [
             0.3,
             "#f1b6da"
            ],
            [
             0.4,
             "#fde0ef"
            ],
            [
             0.5,
             "#f7f7f7"
            ],
            [
             0.6,
             "#e6f5d0"
            ],
            [
             0.7,
             "#b8e186"
            ],
            [
             0.8,
             "#7fbc41"
            ],
            [
             0.9,
             "#4d9221"
            ],
            [
             1,
             "#276419"
            ]
           ],
           "sequential": [
            [
             0,
             "#0d0887"
            ],
            [
             0.1111111111111111,
             "#46039f"
            ],
            [
             0.2222222222222222,
             "#7201a8"
            ],
            [
             0.3333333333333333,
             "#9c179e"
            ],
            [
             0.4444444444444444,
             "#bd3786"
            ],
            [
             0.5555555555555556,
             "#d8576b"
            ],
            [
             0.6666666666666666,
             "#ed7953"
            ],
            [
             0.7777777777777778,
             "#fb9f3a"
            ],
            [
             0.8888888888888888,
             "#fdca26"
            ],
            [
             1,
             "#f0f921"
            ]
           ],
           "sequentialminus": [
            [
             0,
             "#0d0887"
            ],
            [
             0.1111111111111111,
             "#46039f"
            ],
            [
             0.2222222222222222,
             "#7201a8"
            ],
            [
             0.3333333333333333,
             "#9c179e"
            ],
            [
             0.4444444444444444,
             "#bd3786"
            ],
            [
             0.5555555555555556,
             "#d8576b"
            ],
            [
             0.6666666666666666,
             "#ed7953"
            ],
            [
             0.7777777777777778,
             "#fb9f3a"
            ],
            [
             0.8888888888888888,
             "#fdca26"
            ],
            [
             1,
             "#f0f921"
            ]
           ]
          },
          "colorway": [
           "#636efa",
           "#EF553B",
           "#00cc96",
           "#ab63fa",
           "#FFA15A",
           "#19d3f3",
           "#FF6692",
           "#B6E880",
           "#FF97FF",
           "#FECB52"
          ],
          "font": {
           "color": "#2a3f5f"
          },
          "geo": {
           "bgcolor": "white",
           "lakecolor": "white",
           "landcolor": "white",
           "showlakes": true,
           "showland": true,
           "subunitcolor": "#C8D4E3"
          },
          "hoverlabel": {
           "align": "left"
          },
          "hovermode": "closest",
          "mapbox": {
           "style": "light"
          },
          "paper_bgcolor": "white",
          "plot_bgcolor": "white",
          "polar": {
           "angularaxis": {
            "gridcolor": "#EBF0F8",
            "linecolor": "#EBF0F8",
            "ticks": ""
           },
           "bgcolor": "white",
           "radialaxis": {
            "gridcolor": "#EBF0F8",
            "linecolor": "#EBF0F8",
            "ticks": ""
           }
          },
          "scene": {
           "xaxis": {
            "backgroundcolor": "white",
            "gridcolor": "#DFE8F3",
            "gridwidth": 2,
            "linecolor": "#EBF0F8",
            "showbackground": true,
            "ticks": "",
            "zerolinecolor": "#EBF0F8"
           },
           "yaxis": {
            "backgroundcolor": "white",
            "gridcolor": "#DFE8F3",
            "gridwidth": 2,
            "linecolor": "#EBF0F8",
            "showbackground": true,
            "ticks": "",
            "zerolinecolor": "#EBF0F8"
           },
           "zaxis": {
            "backgroundcolor": "white",
            "gridcolor": "#DFE8F3",
            "gridwidth": 2,
            "linecolor": "#EBF0F8",
            "showbackground": true,
            "ticks": "",
            "zerolinecolor": "#EBF0F8"
           }
          },
          "shapedefaults": {
           "line": {
            "color": "#2a3f5f"
           }
          },
          "ternary": {
           "aaxis": {
            "gridcolor": "#DFE8F3",
            "linecolor": "#A2B1C6",
            "ticks": ""
           },
           "baxis": {
            "gridcolor": "#DFE8F3",
            "linecolor": "#A2B1C6",
            "ticks": ""
           },
           "bgcolor": "white",
           "caxis": {
            "gridcolor": "#DFE8F3",
            "linecolor": "#A2B1C6",
            "ticks": ""
           }
          },
          "title": {
           "x": 0.05
          },
          "xaxis": {
           "automargin": true,
           "gridcolor": "#EBF0F8",
           "linecolor": "#EBF0F8",
           "ticks": "",
           "title": {
            "standoff": 15
           },
           "zerolinecolor": "#EBF0F8",
           "zerolinewidth": 2
          },
          "yaxis": {
           "automargin": true,
           "gridcolor": "#EBF0F8",
           "linecolor": "#EBF0F8",
           "ticks": "",
           "title": {
            "standoff": 15
           },
           "zerolinecolor": "#EBF0F8",
           "zerolinewidth": 2
          }
         }
        },
        "width": 900,
        "xaxis": {
         "anchor": "y",
         "domain": [
          0,
          1
         ],
         "range": [
          0,
          1
         ],
         "title": {
          "text": "Time"
         }
        },
        "yaxis": {
         "anchor": "x",
         "domain": [
          0,
          1
         ],
         "title": {
          "text": "Remaining Inventory"
         }
        }
       }
      },
      "text/html": [
       "<div>                            <div id=\"6b123639-b832-4eff-87bc-7767040f5bfb\" class=\"plotly-graph-div\" style=\"height:300px; width:900px;\"></div>            <script type=\"text/javascript\">                require([\"plotly\"], function(Plotly) {                    window.PLOTLYENV=window.PLOTLYENV || {};                                    if (document.getElementById(\"6b123639-b832-4eff-87bc-7767040f5bfb\")) {                    Plotly.newPlot(                        \"6b123639-b832-4eff-87bc-7767040f5bfb\",                        [{\"hovertemplate\":\"Market Aversion=0.0001<br>Time=%{x}<br>Remaining Inventory=%{y}<extra></extra>\",\"legendgroup\":\"0.0001\",\"line\":{\"color\":\"#636efa\",\"dash\":\"solid\"},\"marker\":{\"symbol\":\"circle\"},\"mode\":\"lines\",\"name\":\"0.0001\",\"orientation\":\"v\",\"showlegend\":true,\"x\":[0.0,0.05263157894736842,0.10526315789473684,0.15789473684210525,0.21052631578947367,0.2631578947368421,0.3157894736842105,0.3684210526315789,0.42105263157894735,0.47368421052631576,0.5263157894736842,0.5789473684210527,0.631578947368421,0.6842105263157894,0.7368421052631579,0.7894736842105263,0.8421052631578947,0.894736842105263,0.9473684210526315,1.0],\"xaxis\":\"x\",\"y\":[1.0,0.4462166428565979,0.21390870213508606,0.10525371134281158,0.051692087203264236,0.02517022006213665,0.012158497236669064,0.005830702837556601,0.0027773254550993443,0.0013143055839464068,0.0006179738556966186,0.0002887086884584278,0.00013401798787526786,6.181169737828895e-05,2.832501195371151e-05,1.2895774489152245e-05,5.832945134898182e-06,2.621056864882121e-06,1.170032305708446e-06,5.188438763070735e-07],\"yaxis\":\"y\",\"type\":\"scatter\"},{\"hovertemplate\":\"Market Aversion=0.001<br>Time=%{x}<br>Remaining Inventory=%{y}<extra></extra>\",\"legendgroup\":\"0.001\",\"line\":{\"color\":\"#EF553B\",\"dash\":\"solid\"},\"marker\":{\"symbol\":\"circle\"},\"mode\":\"lines\",\"name\":\"0.001\",\"orientation\":\"v\",\"showlegend\":true,\"x\":[0.0,0.05263157894736842,0.10526315789473684,0.15789473684210525,0.21052631578947367,0.2631578947368421,0.3157894736842105,0.3684210526315789,0.42105263157894735,0.47368421052631576,0.5263157894736842,0.5789473684210527,0.631578947368421,0.6842105263157894,0.7368421052631579,0.7894736842105263,0.8421052631578947,0.894736842105263,0.9473684210526315,1.0],\"xaxis\":\"x\",\"y\":[1.0,0.44613826274871826,0.2138366550207138,0.10520490258932114,0.05166293680667877,0.02515302039682865,0.01214915607124567,0.005825728643685579,0.00277471961453557,0.001312960172072053,0.0006172882858663797,0.00028836345882155,0.00013384611520450562,6.172703433549032e-05,2.8283739084145054e-05,1.2875849279225804e-05,5.823415904160356e-06,2.616541678435169e-06,1.167912046184938e-06,5.17857017712231e-07],\"yaxis\":\"y\",\"type\":\"scatter\"},{\"hovertemplate\":\"Market Aversion=0.01<br>Time=%{x}<br>Remaining Inventory=%{y}<extra></extra>\",\"legendgroup\":\"0.01\",\"line\":{\"color\":\"#00cc96\",\"dash\":\"solid\"},\"marker\":{\"symbol\":\"circle\"},\"mode\":\"lines\",\"name\":\"0.01\",\"orientation\":\"v\",\"showlegend\":true,\"x\":[0.0,0.05263157894736842,0.10526315789473684,0.15789473684210525,0.21052631578947367,0.2631578947368421,0.3157894736842105,0.3684210526315789,0.42105263157894735,0.47368421052631576,0.5263157894736842,0.5789473684210527,0.631578947368421,0.6842105263157894,0.7368421052631579,0.7894736842105263,0.8421052631578947,0.894736842105263,0.9473684210526315,1.0],\"xaxis\":\"x\",\"y\":[1.0,0.4453544616699219,0.2131214588880539,0.10470163077116013,0.051365744322538376,0.024979155510663986,0.012054912745952606,0.005775624420493841,0.0027485128957778215,0.0012994479620829225,0.0006104109925217927,0.0002849047305062413,0.0001321259915130213,6.0880614910274744e-05,2.7871439669979736e-05,1.2676967344305012e-05,5.728384621761506e-06,2.5715489755384624e-06,1.146800741480547e-06,5.080382265987282e-07],\"yaxis\":\"y\",\"type\":\"scatter\"},{\"hovertemplate\":\"Market Aversion=1.0<br>Time=%{x}<br>Remaining Inventory=%{y}<extra></extra>\",\"legendgroup\":\"1.0\",\"line\":{\"color\":\"#ab63fa\",\"dash\":\"solid\"},\"marker\":{\"symbol\":\"circle\"},\"mode\":\"lines\",\"name\":\"1.0\",\"orientation\":\"v\",\"showlegend\":true,\"x\":[0.0,0.05263157894736842,0.10526315789473684,0.15789473684210525,0.21052631578947367,0.2631578947368421,0.3157894736842105,0.3684210526315789,0.42105263157894735,0.47368421052631576,0.5263157894736842,0.5789473684210527,0.631578947368421,0.6842105263157894,0.7368421052631579,0.7894736842105263,0.8421052631578947,0.894736842105263,0.9473684210526315,1.0],\"xaxis\":\"x\",\"y\":[1.0,0.37893372774124146,0.15537889301776886,0.06501978635787964,0.027256034314632416,0.011345895007252693,0.004696096759289503,0.0019303399603813887,0.0007880434859544039,0.0003195119497831911,0.0001286773622268811,5.146307375980541e-05,2.041229890892282e-05,8.008051736396737e-06,3.1080139706318732e-06,1.1960366919083754e-06,4.563467541629507e-07,1.7267674934373645e-07,6.480421177457174e-08,2.4107546181539874e-08],\"yaxis\":\"y\",\"type\":\"scatter\"},{\"hovertemplate\":\"Market Aversion=10.0<br>Time=%{x}<br>Remaining Inventory=%{y}<extra></extra>\",\"legendgroup\":\"10.0\",\"line\":{\"color\":\"#FFA15A\",\"dash\":\"solid\"},\"marker\":{\"symbol\":\"circle\"},\"mode\":\"lines\",\"name\":\"10.0\",\"orientation\":\"v\",\"showlegend\":true,\"x\":[0.0,0.05263157894736842,0.10526315789473684,0.15789473684210525,0.21052631578947367,0.2631578947368421,0.3157894736842105,0.3684210526315789,0.42105263157894735,0.47368421052631576,0.5263157894736842,0.5789473684210527,0.631578947368421,0.6842105263157894,0.7368421052631579,0.7894736842105263,0.8421052631578947,0.894736842105263,0.9473684210526315,1.0],\"xaxis\":\"x\",\"y\":[1.0,0.043515145778656006,0.002111416310071945,0.00010204734280705452,4.898807674180716e-06,2.3358143153018318e-07,1.1062297744501848e-08,5.203668607123291e-10,2.431260748281261e-11,1.1282606793283634e-12,5.200462456500521e-14,2.3808300437470203e-15,1.0825991626328257e-16,4.889438131021345e-18,2.1933148891180433e-19,9.772221283821971e-21,4.324490548904425e-22,1.9007483604442686e-23,8.297775426530152e-25,3.597871329196594e-26],\"yaxis\":\"y\",\"type\":\"scatter\"}],                        {\"template\":{\"data\":{\"barpolar\":[{\"marker\":{\"line\":{\"color\":\"white\",\"width\":0.5},\"pattern\":{\"fillmode\":\"overlay\",\"size\":10,\"solidity\":0.2}},\"type\":\"barpolar\"}],\"bar\":[{\"error_x\":{\"color\":\"#2a3f5f\"},\"error_y\":{\"color\":\"#2a3f5f\"},\"marker\":{\"line\":{\"color\":\"white\",\"width\":0.5},\"pattern\":{\"fillmode\":\"overlay\",\"size\":10,\"solidity\":0.2}},\"type\":\"bar\"}],\"carpet\":[{\"aaxis\":{\"endlinecolor\":\"#2a3f5f\",\"gridcolor\":\"#C8D4E3\",\"linecolor\":\"#C8D4E3\",\"minorgridcolor\":\"#C8D4E3\",\"startlinecolor\":\"#2a3f5f\"},\"baxis\":{\"endlinecolor\":\"#2a3f5f\",\"gridcolor\":\"#C8D4E3\",\"linecolor\":\"#C8D4E3\",\"minorgridcolor\":\"#C8D4E3\",\"startlinecolor\":\"#2a3f5f\"},\"type\":\"carpet\"}],\"choropleth\":[{\"colorbar\":{\"outlinewidth\":0,\"ticks\":\"\"},\"type\":\"choropleth\"}],\"contourcarpet\":[{\"colorbar\":{\"outlinewidth\":0,\"ticks\":\"\"},\"type\":\"contourcarpet\"}],\"contour\":[{\"colorbar\":{\"outlinewidth\":0,\"ticks\":\"\"},\"colorscale\":[[0.0,\"#0d0887\"],[0.1111111111111111,\"#46039f\"],[0.2222222222222222,\"#7201a8\"],[0.3333333333333333,\"#9c179e\"],[0.4444444444444444,\"#bd3786\"],[0.5555555555555556,\"#d8576b\"],[0.6666666666666666,\"#ed7953\"],[0.7777777777777778,\"#fb9f3a\"],[0.8888888888888888,\"#fdca26\"],[1.0,\"#f0f921\"]],\"type\":\"contour\"}],\"heatmapgl\":[{\"colorbar\":{\"outlinewidth\":0,\"ticks\":\"\"},\"colorscale\":[[0.0,\"#0d0887\"],[0.1111111111111111,\"#46039f\"],[0.2222222222222222,\"#7201a8\"],[0.3333333333333333,\"#9c179e\"],[0.4444444444444444,\"#bd3786\"],[0.5555555555555556,\"#d8576b\"],[0.6666666666666666,\"#ed7953\"],[0.7777777777777778,\"#fb9f3a\"],[0.8888888888888888,\"#fdca26\"],[1.0,\"#f0f921\"]],\"type\":\"heatmapgl\"}],\"heatmap\":[{\"colorbar\":{\"outlinewidth\":0,\"ticks\":\"\"},\"colorscale\":[[0.0,\"#0d0887\"],[0.1111111111111111,\"#46039f\"],[0.2222222222222222,\"#7201a8\"],[0.3333333333333333,\"#9c179e\"],[0.4444444444444444,\"#bd3786\"],[0.5555555555555556,\"#d8576b\"],[0.6666666666666666,\"#ed7953\"],[0.7777777777777778,\"#fb9f3a\"],[0.8888888888888888,\"#fdca26\"],[1.0,\"#f0f921\"]],\"type\":\"heatmap\"}],\"histogram2dcontour\":[{\"colorbar\":{\"outlinewidth\":0,\"ticks\":\"\"},\"colorscale\":[[0.0,\"#0d0887\"],[0.1111111111111111,\"#46039f\"],[0.2222222222222222,\"#7201a8\"],[0.3333333333333333,\"#9c179e\"],[0.4444444444444444,\"#bd3786\"],[0.5555555555555556,\"#d8576b\"],[0.6666666666666666,\"#ed7953\"],[0.7777777777777778,\"#fb9f3a\"],[0.8888888888888888,\"#fdca26\"],[1.0,\"#f0f921\"]],\"type\":\"histogram2dcontour\"}],\"histogram2d\":[{\"colorbar\":{\"outlinewidth\":0,\"ticks\":\"\"},\"colorscale\":[[0.0,\"#0d0887\"],[0.1111111111111111,\"#46039f\"],[0.2222222222222222,\"#7201a8\"],[0.3333333333333333,\"#9c179e\"],[0.4444444444444444,\"#bd3786\"],[0.5555555555555556,\"#d8576b\"],[0.6666666666666666,\"#ed7953\"],[0.7777777777777778,\"#fb9f3a\"],[0.8888888888888888,\"#fdca26\"],[1.0,\"#f0f921\"]],\"type\":\"histogram2d\"}],\"histogram\":[{\"marker\":{\"pattern\":{\"fillmode\":\"overlay\",\"size\":10,\"solidity\":0.2}},\"type\":\"histogram\"}],\"mesh3d\":[{\"colorbar\":{\"outlinewidth\":0,\"ticks\":\"\"},\"type\":\"mesh3d\"}],\"parcoords\":[{\"line\":{\"colorbar\":{\"outlinewidth\":0,\"ticks\":\"\"}},\"type\":\"parcoords\"}],\"pie\":[{\"automargin\":true,\"type\":\"pie\"}],\"scatter3d\":[{\"line\":{\"colorbar\":{\"outlinewidth\":0,\"ticks\":\"\"}},\"marker\":{\"colorbar\":{\"outlinewidth\":0,\"ticks\":\"\"}},\"type\":\"scatter3d\"}],\"scattercarpet\":[{\"marker\":{\"colorbar\":{\"outlinewidth\":0,\"ticks\":\"\"}},\"type\":\"scattercarpet\"}],\"scattergeo\":[{\"marker\":{\"colorbar\":{\"outlinewidth\":0,\"ticks\":\"\"}},\"type\":\"scattergeo\"}],\"scattergl\":[{\"marker\":{\"colorbar\":{\"outlinewidth\":0,\"ticks\":\"\"}},\"type\":\"scattergl\"}],\"scattermapbox\":[{\"marker\":{\"colorbar\":{\"outlinewidth\":0,\"ticks\":\"\"}},\"type\":\"scattermapbox\"}],\"scatterpolargl\":[{\"marker\":{\"colorbar\":{\"outlinewidth\":0,\"ticks\":\"\"}},\"type\":\"scatterpolargl\"}],\"scatterpolar\":[{\"marker\":{\"colorbar\":{\"outlinewidth\":0,\"ticks\":\"\"}},\"type\":\"scatterpolar\"}],\"scatter\":[{\"fillpattern\":{\"fillmode\":\"overlay\",\"size\":10,\"solidity\":0.2},\"type\":\"scatter\"}],\"scatterternary\":[{\"marker\":{\"colorbar\":{\"outlinewidth\":0,\"ticks\":\"\"}},\"type\":\"scatterternary\"}],\"surface\":[{\"colorbar\":{\"outlinewidth\":0,\"ticks\":\"\"},\"colorscale\":[[0.0,\"#0d0887\"],[0.1111111111111111,\"#46039f\"],[0.2222222222222222,\"#7201a8\"],[0.3333333333333333,\"#9c179e\"],[0.4444444444444444,\"#bd3786\"],[0.5555555555555556,\"#d8576b\"],[0.6666666666666666,\"#ed7953\"],[0.7777777777777778,\"#fb9f3a\"],[0.8888888888888888,\"#fdca26\"],[1.0,\"#f0f921\"]],\"type\":\"surface\"}],\"table\":[{\"cells\":{\"fill\":{\"color\":\"#EBF0F8\"},\"line\":{\"color\":\"white\"}},\"header\":{\"fill\":{\"color\":\"#C8D4E3\"},\"line\":{\"color\":\"white\"}},\"type\":\"table\"}]},\"layout\":{\"annotationdefaults\":{\"arrowcolor\":\"#2a3f5f\",\"arrowhead\":0,\"arrowwidth\":1},\"autotypenumbers\":\"strict\",\"coloraxis\":{\"colorbar\":{\"outlinewidth\":0,\"ticks\":\"\"}},\"colorscale\":{\"diverging\":[[0,\"#8e0152\"],[0.1,\"#c51b7d\"],[0.2,\"#de77ae\"],[0.3,\"#f1b6da\"],[0.4,\"#fde0ef\"],[0.5,\"#f7f7f7\"],[0.6,\"#e6f5d0\"],[0.7,\"#b8e186\"],[0.8,\"#7fbc41\"],[0.9,\"#4d9221\"],[1,\"#276419\"]],\"sequential\":[[0.0,\"#0d0887\"],[0.1111111111111111,\"#46039f\"],[0.2222222222222222,\"#7201a8\"],[0.3333333333333333,\"#9c179e\"],[0.4444444444444444,\"#bd3786\"],[0.5555555555555556,\"#d8576b\"],[0.6666666666666666,\"#ed7953\"],[0.7777777777777778,\"#fb9f3a\"],[0.8888888888888888,\"#fdca26\"],[1.0,\"#f0f921\"]],\"sequentialminus\":[[0.0,\"#0d0887\"],[0.1111111111111111,\"#46039f\"],[0.2222222222222222,\"#7201a8\"],[0.3333333333333333,\"#9c179e\"],[0.4444444444444444,\"#bd3786\"],[0.5555555555555556,\"#d8576b\"],[0.6666666666666666,\"#ed7953\"],[0.7777777777777778,\"#fb9f3a\"],[0.8888888888888888,\"#fdca26\"],[1.0,\"#f0f921\"]]},\"colorway\":[\"#636efa\",\"#EF553B\",\"#00cc96\",\"#ab63fa\",\"#FFA15A\",\"#19d3f3\",\"#FF6692\",\"#B6E880\",\"#FF97FF\",\"#FECB52\"],\"font\":{\"color\":\"#2a3f5f\"},\"geo\":{\"bgcolor\":\"white\",\"lakecolor\":\"white\",\"landcolor\":\"white\",\"showlakes\":true,\"showland\":true,\"subunitcolor\":\"#C8D4E3\"},\"hoverlabel\":{\"align\":\"left\"},\"hovermode\":\"closest\",\"mapbox\":{\"style\":\"light\"},\"paper_bgcolor\":\"white\",\"plot_bgcolor\":\"white\",\"polar\":{\"angularaxis\":{\"gridcolor\":\"#EBF0F8\",\"linecolor\":\"#EBF0F8\",\"ticks\":\"\"},\"bgcolor\":\"white\",\"radialaxis\":{\"gridcolor\":\"#EBF0F8\",\"linecolor\":\"#EBF0F8\",\"ticks\":\"\"}},\"scene\":{\"xaxis\":{\"backgroundcolor\":\"white\",\"gridcolor\":\"#DFE8F3\",\"gridwidth\":2,\"linecolor\":\"#EBF0F8\",\"showbackground\":true,\"ticks\":\"\",\"zerolinecolor\":\"#EBF0F8\"},\"yaxis\":{\"backgroundcolor\":\"white\",\"gridcolor\":\"#DFE8F3\",\"gridwidth\":2,\"linecolor\":\"#EBF0F8\",\"showbackground\":true,\"ticks\":\"\",\"zerolinecolor\":\"#EBF0F8\"},\"zaxis\":{\"backgroundcolor\":\"white\",\"gridcolor\":\"#DFE8F3\",\"gridwidth\":2,\"linecolor\":\"#EBF0F8\",\"showbackground\":true,\"ticks\":\"\",\"zerolinecolor\":\"#EBF0F8\"}},\"shapedefaults\":{\"line\":{\"color\":\"#2a3f5f\"}},\"ternary\":{\"aaxis\":{\"gridcolor\":\"#DFE8F3\",\"linecolor\":\"#A2B1C6\",\"ticks\":\"\"},\"baxis\":{\"gridcolor\":\"#DFE8F3\",\"linecolor\":\"#A2B1C6\",\"ticks\":\"\"},\"bgcolor\":\"white\",\"caxis\":{\"gridcolor\":\"#DFE8F3\",\"linecolor\":\"#A2B1C6\",\"ticks\":\"\"}},\"title\":{\"x\":0.05},\"xaxis\":{\"automargin\":true,\"gridcolor\":\"#EBF0F8\",\"linecolor\":\"#EBF0F8\",\"ticks\":\"\",\"title\":{\"standoff\":15},\"zerolinecolor\":\"#EBF0F8\",\"zerolinewidth\":2},\"yaxis\":{\"automargin\":true,\"gridcolor\":\"#EBF0F8\",\"linecolor\":\"#EBF0F8\",\"ticks\":\"\",\"title\":{\"standoff\":15},\"zerolinecolor\":\"#EBF0F8\",\"zerolinewidth\":2}}},\"xaxis\":{\"anchor\":\"y\",\"domain\":[0.0,1.0],\"title\":{\"text\":\"Time\"},\"range\":[0,1]},\"yaxis\":{\"anchor\":\"x\",\"domain\":[0.0,1.0],\"title\":{\"text\":\"Remaining Inventory\"}},\"legend\":{\"title\":{\"text\":\"Market Aversion\"},\"tracegroupgap\":0},\"margin\":{\"t\":60},\"width\":900,\"height\":300},                        {\"responsive\": true}                    ).then(function(){\n",
       "                            \n",
       "var gd = document.getElementById('6b123639-b832-4eff-87bc-7767040f5bfb');\n",
       "var x = new MutationObserver(function (mutations, observer) {{\n",
       "        var display = window.getComputedStyle(gd).display;\n",
       "        if (!display || display === 'none') {{\n",
       "            console.log([gd, 'removed!']);\n",
       "            Plotly.purge(gd);\n",
       "            observer.disconnect();\n",
       "        }}\n",
       "}});\n",
       "\n",
       "// Listen for the removal of the full notebook cells\n",
       "var notebookContainer = gd.closest('#notebook-container');\n",
       "if (notebookContainer) {{\n",
       "    x.observe(notebookContainer, {childList: true});\n",
       "}}\n",
       "\n",
       "// Listen for the clearing of the current output cell\n",
       "var outputEl = gd.closest('.output');\n",
       "if (outputEl) {{\n",
       "    x.observe(outputEl, {childList: true});\n",
       "}}\n",
       "\n",
       "                        })                };                });            </script>        </div>"
      ]
     },
     "metadata": {},
     "output_type": "display_data"
    }
   ],
   "source": [
    "plot_simulation_results(simulation_results)"
   ]
  }
 ],
 "metadata": {
  "kernelspec": {
   "display_name": "Python 3 (ipykernel)",
   "language": "python",
   "name": "python3"
  },
  "language_info": {
   "codemirror_mode": {
    "name": "ipython",
    "version": 3
   },
   "file_extension": ".py",
   "mimetype": "text/x-python",
   "name": "python",
   "nbconvert_exporter": "python",
   "pygments_lexer": "ipython3",
   "version": "3.11.4"
  }
 },
 "nbformat": 4,
 "nbformat_minor": 5
}
